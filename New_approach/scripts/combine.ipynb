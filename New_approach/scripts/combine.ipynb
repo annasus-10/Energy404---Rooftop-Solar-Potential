{
 "cells": [
  {
   "cell_type": "code",
   "execution_count": 1,
   "id": "13ad7182",
   "metadata": {},
   "outputs": [],
   "source": [
    "import pandas as pd\n",
    "import numpy as np\n",
    "from pathlib import Path\n",
    "\n",
    "COMBINED = Path(\"C:/Users/User/Desktop/ML/Project/solar-potential-analysis-github-setup/New_approach/dataset/reference/all_cities_clean.parquet\")   # your big combined file\n",
    "WEATHER  = Path(\"C:/Users/User/Desktop/ML/Project/solar-potential-analysis-github-setup/New_approach/weather_api_integration/city_weather.csv\")               # the NASA file we made\n",
    "OUT_DIR  = Path(\"C:/Users/User/Desktop/ML/Project/solar-potential-analysis-github-setup/New_approach/dataset/cleaned_datasets\"); OUT_DIR.mkdir(parents=True, exist_ok=True)"
   ]
  },
  {
   "cell_type": "code",
   "execution_count": 2,
   "id": "547f6260",
   "metadata": {},
   "outputs": [
    {
     "name": "stdout",
     "output_type": "stream",
     "text": [
      "Loaded: (6530761, 7) (25, 5)\n"
     ]
    }
   ],
   "source": [
    "df = pd.read_parquet(COMBINED)\n",
    "weather = pd.read_csv(WEATHER)\n",
    "print(\"Loaded:\", df.shape, weather.shape)"
   ]
  },
  {
   "cell_type": "code",
   "execution_count": 3,
   "id": "4bb1c706",
   "metadata": {},
   "outputs": [
    {
     "name": "stdout",
     "output_type": "stream",
     "text": [
      "After merge: (6530761, 13)\n",
      "avg_GHI_kWhm2_day    0\n",
      "avg_temp_C           0\n",
      "clearness_index      0\n",
      "precip_mm_day        0\n",
      "dtype: int64\n"
     ]
    }
   ],
   "source": [
    "# map dataset city names → weather city names\n",
    "city_fix_map = {\n",
    "    \"DarEsSalaam\": \"Dar es Salaam\",\n",
    "    \"GreatDhakaRegion\": \"Dhaka\",\n",
    "    \"Honduras\": \"San Pedro Sula\",\n",
    "    \"Lagos\": \"Lagos State\",\n",
    "    \"LagosState\": \"Lagos State\",\n",
    "    \"Panama\": \"Panama City\",\n",
    "    \"SVG\": \"Saint Vincent and the Grenadines\",\n",
    "    \"StLucia\": \"Saint Lucia\",\n",
    "    \"StMaarten\": \"Sint Maarten\",\n",
    "    \"SouthAfrica\": \"Johannesburg\"\n",
    "}\n",
    "df[\"City_clean\"] = df[\"City\"].replace(city_fix_map)\n",
    "weather[\"City_clean\"] = weather[\"City\"].str.strip()\n",
    "\n",
    "dfm = df.merge(weather, on=\"City_clean\", how=\"left\", suffixes=(\"\", \"_w\"))\n",
    "print(\"After merge:\", dfm.shape)\n",
    "\n",
    "# quick check (should be all zeros)\n",
    "print(dfm[[\"avg_GHI_kWhm2_day\",\"avg_temp_C\",\"clearness_index\",\"precip_mm_day\"]].isna().sum())"
   ]
  },
  {
   "cell_type": "code",
   "execution_count": 4,
   "id": "17595520",
   "metadata": {},
   "outputs": [],
   "source": [
    "# rename to clean names\n",
    "dfm = dfm.rename(columns={\n",
    "    \"Surface_area\": \"RoofSurface_m2\",\n",
    "    \"Potential_installable_area\": \"InstallableArea_m2\",\n",
    "    \"Peak_installable_capacity\": \"PeakCapacity_kWp\",\n",
    "    \"Energy_potential_per_year\": \"EnergyPotential_kWh\",\n",
    "    \"Assumed_building_type\": \"BuildingTypeEncoded\",\n",
    "    \"Estimated_tilt\": \"Tilt_deg\",\n",
    "    \"avg_GHI_kWhm2_day\": \"GHI_kWh_per_m2_day\",\n",
    "    \"avg_temp_C\": \"AvgTemp_C\",\n",
    "    \"clearness_index\": \"ClearnessIndex\",\n",
    "    \"precip_mm_day\": \"Precip_mm_per_day\",\n",
    "})\n",
    "\n",
    "# decode building type labels\n",
    "building_mapping = {\n",
    "    0: \"single family residential\",\n",
    "    1: \"multifamily residential\",\n",
    "    2: \"commercial\",\n",
    "    3: \"small commercial\",\n",
    "    4: \"industrial\",\n",
    "    5: \"public sector\",\n",
    "    6: \"peri-urban settlement\",\n",
    "    7: \"schools\",\n",
    "    8: \"public health facilities\",\n",
    "    9: \"hotels\"\n",
    "}\n",
    "dfm[\"BuildingType\"] = dfm[\"BuildingTypeEncoded\"].map(building_mapping)"
   ]
  },
  {
   "cell_type": "code",
   "execution_count": 5,
   "id": "0ee955f0",
   "metadata": {},
   "outputs": [
    {
     "name": "stdout",
     "output_type": "stream",
     "text": [
      "Final ready-for-training shape/cols: (6243501, 11)\n"
     ]
    },
    {
     "data": {
      "text/html": [
       "<div>\n",
       "<style scoped>\n",
       "    .dataframe tbody tr th:only-of-type {\n",
       "        vertical-align: middle;\n",
       "    }\n",
       "\n",
       "    .dataframe tbody tr th {\n",
       "        vertical-align: top;\n",
       "    }\n",
       "\n",
       "    .dataframe thead th {\n",
       "        text-align: right;\n",
       "    }\n",
       "</style>\n",
       "<table border=\"1\" class=\"dataframe\">\n",
       "  <thead>\n",
       "    <tr style=\"text-align: right;\">\n",
       "      <th></th>\n",
       "      <th>City</th>\n",
       "      <th>BuildingType</th>\n",
       "      <th>tilt</th>\n",
       "      <th>tilt2</th>\n",
       "      <th>tilt_sin</th>\n",
       "      <th>tilt_cos</th>\n",
       "      <th>GHI_kWh_per_m2_day</th>\n",
       "      <th>AvgTemp_C</th>\n",
       "      <th>ClearnessIndex</th>\n",
       "      <th>Precip_mm_per_day</th>\n",
       "      <th>kWh_per_m2</th>\n",
       "    </tr>\n",
       "  </thead>\n",
       "  <tbody>\n",
       "    <tr>\n",
       "      <th>0</th>\n",
       "      <td>Accra</td>\n",
       "      <td>multifamily residential</td>\n",
       "      <td>9.120000</td>\n",
       "      <td>83.174398</td>\n",
       "      <td>0.158503</td>\n",
       "      <td>0.987359</td>\n",
       "      <td>4.824408</td>\n",
       "      <td>27.070833</td>\n",
       "      <td>0.486667</td>\n",
       "      <td>3.935833</td>\n",
       "      <td>268.290184</td>\n",
       "    </tr>\n",
       "    <tr>\n",
       "      <th>2</th>\n",
       "      <td>Accra</td>\n",
       "      <td>multifamily residential</td>\n",
       "      <td>21.690001</td>\n",
       "      <td>470.456123</td>\n",
       "      <td>0.369585</td>\n",
       "      <td>0.929197</td>\n",
       "      <td>4.824408</td>\n",
       "      <td>27.070833</td>\n",
       "      <td>0.486667</td>\n",
       "      <td>3.935833</td>\n",
       "      <td>254.086636</td>\n",
       "    </tr>\n",
       "    <tr>\n",
       "      <th>3</th>\n",
       "      <td>Accra</td>\n",
       "      <td>multifamily residential</td>\n",
       "      <td>3.530000</td>\n",
       "      <td>12.460900</td>\n",
       "      <td>0.061571</td>\n",
       "      <td>0.998103</td>\n",
       "      <td>4.824408</td>\n",
       "      <td>27.070833</td>\n",
       "      <td>0.486667</td>\n",
       "      <td>3.935833</td>\n",
       "      <td>274.120557</td>\n",
       "    </tr>\n",
       "    <tr>\n",
       "      <th>4</th>\n",
       "      <td>Accra</td>\n",
       "      <td>multifamily residential</td>\n",
       "      <td>18.360001</td>\n",
       "      <td>337.089622</td>\n",
       "      <td>0.314987</td>\n",
       "      <td>0.949096</td>\n",
       "      <td>4.824408</td>\n",
       "      <td>27.070833</td>\n",
       "      <td>0.486667</td>\n",
       "      <td>3.935833</td>\n",
       "      <td>273.618893</td>\n",
       "    </tr>\n",
       "    <tr>\n",
       "      <th>5</th>\n",
       "      <td>Accra</td>\n",
       "      <td>multifamily residential</td>\n",
       "      <td>10.680000</td>\n",
       "      <td>114.062407</td>\n",
       "      <td>0.185324</td>\n",
       "      <td>0.982678</td>\n",
       "      <td>4.824408</td>\n",
       "      <td>27.070833</td>\n",
       "      <td>0.486667</td>\n",
       "      <td>3.935833</td>\n",
       "      <td>264.811711</td>\n",
       "    </tr>\n",
       "  </tbody>\n",
       "</table>\n",
       "</div>"
      ],
      "text/plain": [
       "    City             BuildingType       tilt       tilt2  tilt_sin  tilt_cos  \\\n",
       "0  Accra  multifamily residential   9.120000   83.174398  0.158503  0.987359   \n",
       "2  Accra  multifamily residential  21.690001  470.456123  0.369585  0.929197   \n",
       "3  Accra  multifamily residential   3.530000   12.460900  0.061571  0.998103   \n",
       "4  Accra  multifamily residential  18.360001  337.089622  0.314987  0.949096   \n",
       "5  Accra  multifamily residential  10.680000  114.062407  0.185324  0.982678   \n",
       "\n",
       "   GHI_kWh_per_m2_day  AvgTemp_C  ClearnessIndex  Precip_mm_per_day  \\\n",
       "0            4.824408  27.070833        0.486667           3.935833   \n",
       "2            4.824408  27.070833        0.486667           3.935833   \n",
       "3            4.824408  27.070833        0.486667           3.935833   \n",
       "4            4.824408  27.070833        0.486667           3.935833   \n",
       "5            4.824408  27.070833        0.486667           3.935833   \n",
       "\n",
       "   kWh_per_m2  \n",
       "0  268.290184  \n",
       "2  254.086636  \n",
       "3  274.120557  \n",
       "4  273.618893  \n",
       "5  264.811711  "
      ]
     },
     "execution_count": 5,
     "metadata": {},
     "output_type": "execute_result"
    }
   ],
   "source": [
    "# keep only rows with valid area (needed for the normalized target)\n",
    "eps = 1e-9\n",
    "mask = dfm[\"InstallableArea_m2\"].notna() & (dfm[\"InstallableArea_m2\"] > 0)\n",
    "dfm = dfm.loc[mask].copy()\n",
    "\n",
    "# new target\n",
    "dfm[\"kWh_per_m2\"] = dfm[\"EnergyPotential_kWh\"] / (dfm[\"InstallableArea_m2\"] + eps)\n",
    "\n",
    "# tilt variants\n",
    "dfm[\"tilt\"]      = dfm[\"Tilt_deg\"]\n",
    "dfm[\"tilt2\"]     = dfm[\"Tilt_deg\"]**2\n",
    "rad              = np.deg2rad(dfm[\"Tilt_deg\"].astype(float))\n",
    "dfm[\"tilt_sin\"]  = np.sin(rad)\n",
    "dfm[\"tilt_cos\"]  = np.cos(rad)\n",
    "\n",
    "# drop columns we don't want in the training file (leakage/helpers/encoded)\n",
    "drop_cols = [\n",
    "    \"City_clean\", \"City_w\",                # merge helpers\n",
    "    \"BuildingTypeEncoded\",                 # we’ll encode from the string later\n",
    "    \"EnergyPotential_kWh\", \"InstallableArea_m2\", \"RoofSurface_m2\", \"PeakCapacity_kWp\"  # leakage risks\n",
    "]\n",
    "df_final = dfm.drop(columns=[c for c in drop_cols if c in dfm.columns])\n",
    "\n",
    "# reorder to: id, labels, features, target\n",
    "cols_order = [\n",
    "    \"City\", \"BuildingType\",\n",
    "    \"tilt\",\"tilt2\",\"tilt_sin\",\"tilt_cos\",\n",
    "    \"GHI_kWh_per_m2_day\",\"AvgTemp_C\",\"ClearnessIndex\",\"Precip_mm_per_day\",\n",
    "    \"kWh_per_m2\"\n",
    "]\n",
    "df_final = df_final[cols_order]\n",
    "\n",
    "print(\"Final ready-for-training shape/cols:\", df_final.shape)\n",
    "df_final.head()"
   ]
  },
  {
   "cell_type": "code",
   "execution_count": 6,
   "id": "7ba494b4",
   "metadata": {},
   "outputs": [
    {
     "name": "stdout",
     "output_type": "stream",
     "text": [
      "Saved:\n",
      " - C:/Users/User/Desktop/ML/Project/solar-potential-analysis-github-setup/New_approach/dataset/cleaned_datasets/all_cities_weather_ready_train.csv \n",
      " - C:/Users/User/Desktop/ML/Project/solar-potential-analysis-github-setup/New_approach/dataset/cleaned_datasets/all_cities_weather_ready_train.parquet\n"
     ]
    }
   ],
   "source": [
    "csv_path = OUT_DIR / \"all_cities_weather_ready_train.csv\"\n",
    "parq_path = OUT_DIR / \"all_cities_weather_ready_train.parquet\"\n",
    "\n",
    "df_final.to_csv(csv_path, index=False)\n",
    "df_final.to_parquet(parq_path, index=False)\n",
    "\n",
    "print(\"Saved:\\n -\", csv_path.as_posix(), \"\\n -\", parq_path.as_posix())"
   ]
  },
  {
   "cell_type": "code",
   "execution_count": 7,
   "id": "99ee3f4b",
   "metadata": {},
   "outputs": [
    {
     "name": "stdout",
     "output_type": "stream",
     "text": [
      "<class 'pandas.core.frame.DataFrame'>\n",
      "Index: 6243501 entries, 0 to 6530760\n",
      "Data columns (total 11 columns):\n",
      " #   Column              Dtype  \n",
      "---  ------              -----  \n",
      " 0   City                string \n",
      " 1   BuildingType        object \n",
      " 2   tilt                float64\n",
      " 3   tilt2               float64\n",
      " 4   tilt_sin            float64\n",
      " 5   tilt_cos            float64\n",
      " 6   GHI_kWh_per_m2_day  float64\n",
      " 7   AvgTemp_C           float64\n",
      " 8   ClearnessIndex      float64\n",
      " 9   Precip_mm_per_day   float64\n",
      " 10  kWh_per_m2          float64\n",
      "dtypes: float64(9), object(1), string(1)\n",
      "memory usage: 571.6+ MB\n"
     ]
    }
   ],
   "source": [
    "df_final.info()"
   ]
  },
  {
   "cell_type": "code",
   "execution_count": null,
   "id": "bd8bdb41",
   "metadata": {},
   "outputs": [],
   "source": []
  }
 ],
 "metadata": {
  "kernelspec": {
   "display_name": "Python 3",
   "language": "python",
   "name": "python3"
  },
  "language_info": {
   "codemirror_mode": {
    "name": "ipython",
    "version": 3
   },
   "file_extension": ".py",
   "mimetype": "text/x-python",
   "name": "python",
   "nbconvert_exporter": "python",
   "pygments_lexer": "ipython3",
   "version": "3.13.7"
  }
 },
 "nbformat": 4,
 "nbformat_minor": 5
}
