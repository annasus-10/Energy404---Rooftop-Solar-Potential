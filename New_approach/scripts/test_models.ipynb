{
 "cells": [
  {
   "cell_type": "code",
   "execution_count": 1,
   "id": "15e7eba4",
   "metadata": {},
   "outputs": [
    {
     "name": "stdout",
     "output_type": "stream",
     "text": [
      "Fold 1: MAE = 24.063\n",
      "Fold 2: MAE = 29.624\n",
      "Fold 3: MAE = 16.351\n",
      "Fold 4: MAE = 26.603\n",
      "Fold 5: MAE = 20.446\n",
      "\n",
      "OLS (city-grouped 5-fold) — MAE mean = 23.417 ± 4.644\n",
      "Saved: artifacts/ols_citygkf_mae.csv\n"
     ]
    }
   ],
   "source": [
    "# === Baseline OLS (GroupKFold by City) — MAE only ===\n",
    "import pandas as pd\n",
    "import numpy as np\n",
    "from pathlib import Path\n",
    "from sklearn.model_selection import GroupKFold\n",
    "from sklearn.preprocessing import OneHotEncoder, StandardScaler\n",
    "from sklearn.compose import ColumnTransformer\n",
    "from sklearn.pipeline import Pipeline\n",
    "from sklearn.linear_model import LinearRegression\n",
    "from sklearn.metrics import mean_absolute_error\n",
    "\n",
    "DATA = Path(\"C:/Users/User/Desktop/ML/Project/solar-potential-analysis-github-setup/New_approach/dataset/cleaned_datasets/top20_balanced_sample.parquet\")  # adjust if needed\n",
    "OUT  = Path(\"artifacts\"); OUT.mkdir(parents=True, exist_ok=True)\n",
    "\n",
    "# Load data\n",
    "cols = [\"City\",\"BuildingType_5\",\"kWh_per_m2\",\n",
    "        \"tilt\",\"tilt2\",\"tilt_sin\",\"tilt_cos\",\n",
    "        \"GHI_kWh_per_m2_day\",\"AvgTemp_C\",\"ClearnessIndex\",\"Precip_mm_per_day\"]\n",
    "df = pd.read_parquet(DATA, columns=cols).copy()\n",
    "\n",
    "# Features\n",
    "TARGET = \"kWh_per_m2\"\n",
    "CAT = [\"BuildingType_5\"]\n",
    "NUM = [\"tilt\",\"tilt2\",\"tilt_sin\",\"tilt_cos\",\"GHI_kWh_per_m2_day\",\"AvgTemp_C\",\"ClearnessIndex\",\"Precip_mm_per_day\"]\n",
    "\n",
    "# Preprocess + model\n",
    "pre = ColumnTransformer([\n",
    "    (\"num\", StandardScaler(), NUM),\n",
    "    (\"cat\", OneHotEncoder(handle_unknown=\"ignore\", sparse_output=False), CAT),\n",
    "])\n",
    "pipe = Pipeline([(\"pre\", pre), (\"ols\", LinearRegression())])\n",
    "\n",
    "# Grouped CV by City\n",
    "gkf = GroupKFold(n_splits=5)\n",
    "groups = df[\"City\"].astype(str).values\n",
    "X = df[CAT+NUM]\n",
    "y = df[TARGET].astype(float).values\n",
    "\n",
    "fold_mae = []\n",
    "for i, (tr, te) in enumerate(gkf.split(X, y, groups), 1):\n",
    "    pipe.fit(X.iloc[tr], y[tr])\n",
    "    pred = pipe.predict(X.iloc[te])\n",
    "    mae = mean_absolute_error(y[te], pred)\n",
    "    fold_mae.append(mae)\n",
    "    print(f\"Fold {i}: MAE = {mae:.3f}\")\n",
    "\n",
    "print(f\"\\nOLS (city-grouped 5-fold) — MAE mean = {np.mean(fold_mae):.3f} ± {np.std(fold_mae):.3f}\")\n",
    "\n",
    "# Save summary\n",
    "pd.DataFrame({\"fold\": range(1,6), \"MAE\": fold_mae}).to_csv(OUT/\"ols_citygkf_mae.csv\", index=False)\n",
    "print(\"Saved:\", (OUT/\"ols_citygkf_mae.csv\").as_posix())\n"
   ]
  },
  {
   "cell_type": "code",
   "execution_count": 2,
   "id": "b2784c12",
   "metadata": {},
   "outputs": [
    {
     "name": "stdout",
     "output_type": "stream",
     "text": [
      "Fold 1: MAE = 22.701\n",
      "Fold 2: MAE = 29.862\n",
      "Fold 3: MAE = 16.353\n",
      "Fold 4: MAE = 27.873\n",
      "Fold 5: MAE = 20.657\n",
      "\n",
      "Huber (city-grouped 5-fold) — MAE mean = 23.489 ± 4.887\n",
      "Saved: artifacts/huber_citygkf_mae.csv\n"
     ]
    }
   ],
   "source": [
    "# === Baseline Huber (GroupKFold by City) — MAE only ===\n",
    "import pandas as pd\n",
    "import numpy as np\n",
    "from pathlib import Path\n",
    "from sklearn.model_selection import GroupKFold\n",
    "from sklearn.preprocessing import OneHotEncoder, StandardScaler\n",
    "from sklearn.compose import ColumnTransformer\n",
    "from sklearn.pipeline import Pipeline\n",
    "from sklearn.linear_model import HuberRegressor\n",
    "from sklearn.metrics import mean_absolute_error\n",
    "\n",
    "DATA = Path(\"C:/Users/User/Desktop/ML/Project/solar-potential-analysis-github-setup/New_approach/dataset/cleaned_datasets/top20_balanced_sample.parquet\")\n",
    "OUT  = Path(\"artifacts\"); OUT.mkdir(parents=True, exist_ok=True)\n",
    "\n",
    "cols = [\"City\",\"BuildingType_5\",\"kWh_per_m2\",\n",
    "        \"tilt\",\"tilt2\",\"tilt_sin\",\"tilt_cos\",\n",
    "        \"GHI_kWh_per_m2_day\",\"AvgTemp_C\",\"ClearnessIndex\",\"Precip_mm_per_day\"]\n",
    "df = pd.read_parquet(DATA, columns=cols).copy()\n",
    "\n",
    "TARGET = \"kWh_per_m2\"\n",
    "CAT = [\"BuildingType_5\"]\n",
    "NUM = [\"tilt\",\"tilt2\",\"tilt_sin\",\"tilt_cos\",\"GHI_kWh_per_m2_day\",\"AvgTemp_C\",\"ClearnessIndex\",\"Precip_mm_per_day\"]\n",
    "\n",
    "pre = ColumnTransformer([\n",
    "    (\"num\", StandardScaler(), NUM),\n",
    "    (\"cat\", OneHotEncoder(handle_unknown=\"ignore\", sparse_output=False), CAT),\n",
    "])\n",
    "\n",
    "# Huber: quadratic near 0, linear in tails (robust to outliers)\n",
    "huber = HuberRegressor(epsilon=1.35, alpha=0.0001, max_iter=1000)\n",
    "\n",
    "pipe = Pipeline([(\"pre\", pre), (\"huber\", huber)])\n",
    "\n",
    "gkf = GroupKFold(n_splits=5)\n",
    "groups = df[\"City\"].astype(str).values\n",
    "X = df[CAT+NUM]\n",
    "y = df[TARGET].astype(float).values\n",
    "\n",
    "fold_mae = []\n",
    "for i, (tr, te) in enumerate(gkf.split(X, y, groups), 1):\n",
    "    pipe.fit(X.iloc[tr], y[tr])\n",
    "    pred = pipe.predict(X.iloc[te])\n",
    "    mae = mean_absolute_error(y[te], pred)\n",
    "    fold_mae.append(mae)\n",
    "    print(f\"Fold {i}: MAE = {mae:.3f}\")\n",
    "\n",
    "print(f\"\\nHuber (city-grouped 5-fold) — MAE mean = {np.mean(fold_mae):.3f} ± {np.std(fold_mae):.3f}\")\n",
    "pd.DataFrame({\"fold\": range(1,6), \"MAE\": fold_mae}).to_csv(OUT/\"huber_citygkf_mae.csv\", index=False)\n",
    "print(\"Saved:\", (OUT/\"huber_citygkf_mae.csv\").as_posix())\n"
   ]
  },
  {
   "cell_type": "code",
   "execution_count": 4,
   "id": "7890d77b",
   "metadata": {},
   "outputs": [
    {
     "name": "stdout",
     "output_type": "stream",
     "text": [
      "[LightGBM] [Info] Auto-choosing row-wise multi-threading, the overhead of testing was 0.004557 seconds.\n",
      "You can set `force_row_wise=true` to remove the overhead.\n",
      "And if memory is not enough, you can set `force_col_wise=true`.\n",
      "[LightGBM] [Info] Total Bins 1095\n",
      "[LightGBM] [Info] Number of data points in the train set: 766864, number of used features: 14\n",
      "[LightGBM] [Info] Start training from score 272.165832\n",
      "Training until validation scores don't improve for 100 rounds\n",
      "Early stopping, best iteration is:\n",
      "[313]\tvalid_0's l1: 17.2303\tvalid_0's l2: 445.788\n"
     ]
    },
    {
     "name": "stderr",
     "output_type": "stream",
     "text": [
      "c:\\Users\\User\\AppData\\Local\\Programs\\Python\\Python313\\Lib\\site-packages\\sklearn\\utils\\validation.py:2749: UserWarning: X does not have valid feature names, but LGBMRegressor was fitted with feature names\n",
      "  warnings.warn(\n"
     ]
    },
    {
     "name": "stdout",
     "output_type": "stream",
     "text": [
      "Fold 1: MAE = 17.230  (iters=313)\n",
      "[LightGBM] [Info] Auto-choosing row-wise multi-threading, the overhead of testing was 0.003707 seconds.\n",
      "You can set `force_row_wise=true` to remove the overhead.\n",
      "And if memory is not enough, you can set `force_col_wise=true`.\n",
      "[LightGBM] [Info] Total Bins 1096\n",
      "[LightGBM] [Info] Number of data points in the train set: 766864, number of used features: 14\n",
      "[LightGBM] [Info] Start training from score 273.010929\n",
      "Training until validation scores don't improve for 100 rounds\n",
      "Early stopping, best iteration is:\n",
      "[73]\tvalid_0's l1: 17.5076\tvalid_0's l2: 403.12\n",
      "Fold 2: MAE = 17.508  (iters=73)\n"
     ]
    },
    {
     "name": "stderr",
     "output_type": "stream",
     "text": [
      "c:\\Users\\User\\AppData\\Local\\Programs\\Python\\Python313\\Lib\\site-packages\\sklearn\\utils\\validation.py:2749: UserWarning: X does not have valid feature names, but LGBMRegressor was fitted with feature names\n",
      "  warnings.warn(\n"
     ]
    },
    {
     "name": "stdout",
     "output_type": "stream",
     "text": [
      "[LightGBM] [Info] Auto-choosing row-wise multi-threading, the overhead of testing was 0.004329 seconds.\n",
      "You can set `force_row_wise=true` to remove the overhead.\n",
      "And if memory is not enough, you can set `force_col_wise=true`.\n",
      "[LightGBM] [Info] Total Bins 1100\n",
      "[LightGBM] [Info] Number of data points in the train set: 766864, number of used features: 14\n",
      "[LightGBM] [Info] Start training from score 271.877599\n",
      "Training until validation scores don't improve for 100 rounds\n",
      "Early stopping, best iteration is:\n",
      "[64]\tvalid_0's l1: 11.7685\tvalid_0's l2: 223.666\n",
      "Fold 3: MAE = 11.768  (iters=64)\n"
     ]
    },
    {
     "name": "stderr",
     "output_type": "stream",
     "text": [
      "c:\\Users\\User\\AppData\\Local\\Programs\\Python\\Python313\\Lib\\site-packages\\sklearn\\utils\\validation.py:2749: UserWarning: X does not have valid feature names, but LGBMRegressor was fitted with feature names\n",
      "  warnings.warn(\n"
     ]
    },
    {
     "name": "stdout",
     "output_type": "stream",
     "text": [
      "[LightGBM] [Info] Auto-choosing row-wise multi-threading, the overhead of testing was 0.004800 seconds.\n",
      "You can set `force_row_wise=true` to remove the overhead.\n",
      "And if memory is not enough, you can set `force_col_wise=true`.\n",
      "[LightGBM] [Info] Total Bins 1099\n",
      "[LightGBM] [Info] Number of data points in the train set: 766864, number of used features: 14\n",
      "[LightGBM] [Info] Start training from score 277.434894\n",
      "Training until validation scores don't improve for 100 rounds\n",
      "Early stopping, best iteration is:\n",
      "[234]\tvalid_0's l1: 18.2755\tvalid_0's l2: 616.441\n"
     ]
    },
    {
     "name": "stderr",
     "output_type": "stream",
     "text": [
      "c:\\Users\\User\\AppData\\Local\\Programs\\Python\\Python313\\Lib\\site-packages\\sklearn\\utils\\validation.py:2749: UserWarning: X does not have valid feature names, but LGBMRegressor was fitted with feature names\n",
      "  warnings.warn(\n"
     ]
    },
    {
     "name": "stdout",
     "output_type": "stream",
     "text": [
      "Fold 4: MAE = 18.275  (iters=234)\n",
      "[LightGBM] [Info] Auto-choosing row-wise multi-threading, the overhead of testing was 0.004477 seconds.\n",
      "You can set `force_row_wise=true` to remove the overhead.\n",
      "And if memory is not enough, you can set `force_col_wise=true`.\n",
      "[LightGBM] [Info] Total Bins 1095\n",
      "[LightGBM] [Info] Number of data points in the train set: 766864, number of used features: 14\n",
      "[LightGBM] [Info] Start training from score 265.384856\n",
      "Training until validation scores don't improve for 100 rounds\n",
      "Early stopping, best iteration is:\n",
      "[360]\tvalid_0's l1: 21.6748\tvalid_0's l2: 730.554\n"
     ]
    },
    {
     "name": "stderr",
     "output_type": "stream",
     "text": [
      "c:\\Users\\User\\AppData\\Local\\Programs\\Python\\Python313\\Lib\\site-packages\\sklearn\\utils\\validation.py:2749: UserWarning: X does not have valid feature names, but LGBMRegressor was fitted with feature names\n",
      "  warnings.warn(\n"
     ]
    },
    {
     "name": "stdout",
     "output_type": "stream",
     "text": [
      "Fold 5: MAE = 21.675  (iters=360)\n",
      "\n",
      "LightGBM (city-grouped 5-fold) — MAE mean = 17.291 ± 3.185\n",
      "Saved: artifacts/lgbm_citygkf_mae.csv\n"
     ]
    }
   ],
   "source": [
    "# === Baseline LightGBM (GroupKFold by City) — MAE with callbacks ===\n",
    "import pandas as pd, numpy as np\n",
    "from pathlib import Path\n",
    "from sklearn.model_selection import GroupKFold\n",
    "from sklearn.preprocessing import OneHotEncoder, StandardScaler\n",
    "from sklearn.compose import ColumnTransformer\n",
    "from sklearn.metrics import mean_absolute_error\n",
    "from lightgbm import LGBMRegressor, early_stopping, log_evaluation\n",
    "\n",
    "DATA = Path(\"C:/Users/User/Desktop/ML/Project/solar-potential-analysis-github-setup/New_approach/dataset/cleaned_datasets/top20_balanced_sample.parquet\")\n",
    "OUT  = Path(\"artifacts\"); OUT.mkdir(parents=True, exist_ok=True)\n",
    "\n",
    "cols = [\"City\",\"BuildingType_5\",\"kWh_per_m2\",\n",
    "        \"tilt\",\"tilt2\",\"tilt_sin\",\"tilt_cos\",\n",
    "        \"GHI_kWh_per_m2_day\",\"AvgTemp_C\",\"ClearnessIndex\",\"Precip_mm_per_day\"]\n",
    "df = pd.read_parquet(DATA, columns=cols).copy()\n",
    "\n",
    "TARGET = \"kWh_per_m2\"\n",
    "CAT = [\"BuildingType_5\"]\n",
    "NUM = [\"tilt\",\"tilt2\",\"tilt_sin\",\"tilt_cos\",\"GHI_kWh_per_m2_day\",\"AvgTemp_C\",\"ClearnessIndex\",\"Precip_mm_per_day\"]\n",
    "\n",
    "pre = ColumnTransformer([\n",
    "    (\"num\", StandardScaler(), NUM),  # harmless for trees\n",
    "    (\"cat\", OneHotEncoder(handle_unknown=\"ignore\", sparse_output=False), CAT),\n",
    "])\n",
    "\n",
    "gkf = GroupKFold(n_splits=5)\n",
    "groups = df[\"City\"].astype(str).values\n",
    "X = df[CAT+NUM]\n",
    "y = df[TARGET].astype(float).values\n",
    "\n",
    "fold_mae = []\n",
    "fold_iters = []\n",
    "for i, (tr, te) in enumerate(gkf.split(X, y, groups), 1):\n",
    "    # transform once per fold\n",
    "    Xt_tr = pre.fit_transform(X.iloc[tr])\n",
    "    Xt_te = pre.transform(X.iloc[te])\n",
    "\n",
    "    model = LGBMRegressor(\n",
    "        n_estimators=2000,\n",
    "        learning_rate=0.03,\n",
    "        num_leaves=63,\n",
    "        max_depth=-1,\n",
    "        subsample=0.8,\n",
    "        colsample_bytree=0.8,\n",
    "        reg_lambda=1.0,\n",
    "        random_state=42,\n",
    "        n_jobs=-1,\n",
    "        # objective left default (L2); we evaluate on MAE via metric below\n",
    "    )\n",
    "    model.fit(\n",
    "        Xt_tr, y[tr],\n",
    "        eval_set=[(Xt_te, y[te])],\n",
    "        eval_metric=\"l1\",\n",
    "        callbacks=[\n",
    "            early_stopping(stopping_rounds=100),\n",
    "            log_evaluation(period=0)  # silence logs\n",
    "        ],\n",
    "    )\n",
    "    pred = model.predict(Xt_te, num_iteration=model.best_iteration_)\n",
    "    mae = mean_absolute_error(y[te], pred)\n",
    "    fold_mae.append(mae)\n",
    "    fold_iters.append(model.best_iteration_)\n",
    "    print(f\"Fold {i}: MAE = {mae:.3f}  (iters={model.best_iteration_})\")\n",
    "\n",
    "print(f\"\\nLightGBM (city-grouped 5-fold) — MAE mean = {np.mean(fold_mae):.3f} ± {np.std(fold_mae):.3f}\")\n",
    "pd.DataFrame({\"fold\": range(1,6), \"MAE\": fold_mae, \"iters\": fold_iters}).to_csv(OUT/\"lgbm_citygkf_mae.csv\", index=False)\n",
    "print(\"Saved:\", (OUT/\"lgbm_citygkf_mae.csv\").as_posix())\n"
   ]
  },
  {
   "cell_type": "code",
   "execution_count": 5,
   "id": "e66c3b40",
   "metadata": {},
   "outputs": [
    {
     "name": "stdout",
     "output_type": "stream",
     "text": [
      "[LightGBM] [Info] Auto-choosing row-wise multi-threading, the overhead of testing was 0.003969 seconds.\n",
      "You can set `force_row_wise=true` to remove the overhead.\n",
      "And if memory is not enough, you can set `force_col_wise=true`.\n",
      "[LightGBM] [Info] Total Bins 1095\n",
      "[LightGBM] [Info] Number of data points in the train set: 766864, number of used features: 14\n",
      "[LightGBM] [Info] Start training from score 272.165832\n",
      "Training until validation scores don't improve for 100 rounds\n",
      "Early stopping, best iteration is:\n",
      "[313]\tvalid_0's l1: 17.2303\tvalid_0's l2: 445.788\n"
     ]
    },
    {
     "name": "stderr",
     "output_type": "stream",
     "text": [
      "c:\\Users\\User\\AppData\\Local\\Programs\\Python\\Python313\\Lib\\site-packages\\sklearn\\utils\\validation.py:2749: UserWarning: X does not have valid feature names, but LGBMRegressor was fitted with feature names\n",
      "  warnings.warn(\n"
     ]
    },
    {
     "name": "stdout",
     "output_type": "stream",
     "text": [
      "[LightGBM] [Info] Auto-choosing row-wise multi-threading, the overhead of testing was 0.004057 seconds.\n",
      "You can set `force_row_wise=true` to remove the overhead.\n",
      "And if memory is not enough, you can set `force_col_wise=true`.\n",
      "[LightGBM] [Info] Total Bins 1096\n",
      "[LightGBM] [Info] Number of data points in the train set: 766864, number of used features: 14\n",
      "[LightGBM] [Info] Start training from score 273.010929\n",
      "Training until validation scores don't improve for 100 rounds\n",
      "Early stopping, best iteration is:\n",
      "[73]\tvalid_0's l1: 17.5076\tvalid_0's l2: 403.12\n"
     ]
    },
    {
     "name": "stderr",
     "output_type": "stream",
     "text": [
      "c:\\Users\\User\\AppData\\Local\\Programs\\Python\\Python313\\Lib\\site-packages\\sklearn\\utils\\validation.py:2749: UserWarning: X does not have valid feature names, but LGBMRegressor was fitted with feature names\n",
      "  warnings.warn(\n"
     ]
    },
    {
     "name": "stdout",
     "output_type": "stream",
     "text": [
      "[LightGBM] [Info] Auto-choosing row-wise multi-threading, the overhead of testing was 0.004531 seconds.\n",
      "You can set `force_row_wise=true` to remove the overhead.\n",
      "And if memory is not enough, you can set `force_col_wise=true`.\n",
      "[LightGBM] [Info] Total Bins 1100\n",
      "[LightGBM] [Info] Number of data points in the train set: 766864, number of used features: 14\n",
      "[LightGBM] [Info] Start training from score 271.877599\n",
      "Training until validation scores don't improve for 100 rounds\n",
      "Early stopping, best iteration is:\n",
      "[64]\tvalid_0's l1: 11.7685\tvalid_0's l2: 223.666\n"
     ]
    },
    {
     "name": "stderr",
     "output_type": "stream",
     "text": [
      "c:\\Users\\User\\AppData\\Local\\Programs\\Python\\Python313\\Lib\\site-packages\\sklearn\\utils\\validation.py:2749: UserWarning: X does not have valid feature names, but LGBMRegressor was fitted with feature names\n",
      "  warnings.warn(\n"
     ]
    },
    {
     "name": "stdout",
     "output_type": "stream",
     "text": [
      "[LightGBM] [Info] Auto-choosing row-wise multi-threading, the overhead of testing was 0.004488 seconds.\n",
      "You can set `force_row_wise=true` to remove the overhead.\n",
      "And if memory is not enough, you can set `force_col_wise=true`.\n",
      "[LightGBM] [Info] Total Bins 1099\n",
      "[LightGBM] [Info] Number of data points in the train set: 766864, number of used features: 14\n",
      "[LightGBM] [Info] Start training from score 277.434894\n",
      "Training until validation scores don't improve for 100 rounds\n",
      "Early stopping, best iteration is:\n",
      "[234]\tvalid_0's l1: 18.2755\tvalid_0's l2: 616.441\n"
     ]
    },
    {
     "name": "stderr",
     "output_type": "stream",
     "text": [
      "c:\\Users\\User\\AppData\\Local\\Programs\\Python\\Python313\\Lib\\site-packages\\sklearn\\utils\\validation.py:2749: UserWarning: X does not have valid feature names, but LGBMRegressor was fitted with feature names\n",
      "  warnings.warn(\n"
     ]
    },
    {
     "name": "stdout",
     "output_type": "stream",
     "text": [
      "[LightGBM] [Info] Auto-choosing row-wise multi-threading, the overhead of testing was 0.003764 seconds.\n",
      "You can set `force_row_wise=true` to remove the overhead.\n",
      "And if memory is not enough, you can set `force_col_wise=true`.\n",
      "[LightGBM] [Info] Total Bins 1095\n",
      "[LightGBM] [Info] Number of data points in the train set: 766864, number of used features: 14\n",
      "[LightGBM] [Info] Start training from score 265.384856\n",
      "Training until validation scores don't improve for 100 rounds\n",
      "Early stopping, best iteration is:\n",
      "[360]\tvalid_0's l1: 21.6748\tvalid_0's l2: 730.554\n"
     ]
    },
    {
     "name": "stderr",
     "output_type": "stream",
     "text": [
      "c:\\Users\\User\\AppData\\Local\\Programs\\Python\\Python313\\Lib\\site-packages\\sklearn\\utils\\validation.py:2749: UserWarning: X does not have valid feature names, but LGBMRegressor was fitted with feature names\n",
      "  warnings.warn(\n"
     ]
    },
    {
     "name": "stdout",
     "output_type": "stream",
     "text": [
      " fold    MAE  Baseline_MAE  Skill  NMAE_%  iters\n",
      "    1 17.230        26.220  0.343   6.353    313\n",
      "    2 17.508        23.873  0.267   6.537     73\n",
      "    3 11.768        21.591  0.455   4.321     64\n",
      "    4 18.275        32.336  0.435   7.306    234\n",
      "    5 21.675        34.639  0.374   7.265    360\n",
      "\n",
      "Means:\n",
      "fold              3.000\n",
      "MAE              17.291\n",
      "Baseline_MAE     27.732\n",
      "Skill             0.375\n",
      "NMAE_%            6.356\n",
      "iters           208.800\n"
     ]
    }
   ],
   "source": [
    "# === Quality anchors: Skill vs naive + NMAE% (LightGBM, GroupKFold by City) ===\n",
    "import pandas as pd, numpy as np\n",
    "from pathlib import Path\n",
    "from sklearn.model_selection import GroupKFold\n",
    "from sklearn.preprocessing import OneHotEncoder, StandardScaler\n",
    "from sklearn.compose import ColumnTransformer\n",
    "from sklearn.metrics import mean_absolute_error\n",
    "from lightgbm import LGBMRegressor, early_stopping, log_evaluation\n",
    "\n",
    "DATA = Path(\"C:/Users/User/Desktop/ML/Project/solar-potential-analysis-github-setup/New_approach/dataset/cleaned_datasets/top20_balanced_sample.parquet\")\n",
    "\n",
    "cols = [\"City\",\"BuildingType_5\",\"kWh_per_m2\",\n",
    "        \"tilt\",\"tilt2\",\"tilt_sin\",\"tilt_cos\",\n",
    "        \"GHI_kWh_per_m2_day\",\"AvgTemp_C\",\"ClearnessIndex\",\"Precip_mm_per_day\"]\n",
    "df = pd.read_parquet(DATA, columns=cols).copy()\n",
    "\n",
    "TARGET = \"kWh_per_m2\"\n",
    "CAT = [\"BuildingType_5\"]\n",
    "NUM = [\"tilt\",\"tilt2\",\"tilt_sin\",\"tilt_cos\",\"GHI_kWh_per_m2_day\",\"AvgTemp_C\",\"ClearnessIndex\",\"Precip_mm_per_day\"]\n",
    "\n",
    "pre = ColumnTransformer([\n",
    "    (\"num\", StandardScaler(), NUM),\n",
    "    (\"cat\", OneHotEncoder(handle_unknown=\"ignore\", sparse_output=False), CAT),\n",
    "])\n",
    "\n",
    "gkf = GroupKFold(n_splits=5)\n",
    "groups = df[\"City\"].astype(str).values\n",
    "X = df[CAT+NUM]\n",
    "y = df[TARGET].astype(float).values\n",
    "\n",
    "rows = []\n",
    "for i, (tr, te) in enumerate(gkf.split(X, y, groups), 1):\n",
    "    # transform once per fold\n",
    "    Xt_tr = pre.fit_transform(X.iloc[tr])\n",
    "    Xt_te = pre.transform(X.iloc[te])\n",
    "\n",
    "    # naive baseline: predict training median\n",
    "    y_tr = y[tr]\n",
    "    y_te = y[te]\n",
    "    baseline_pred = np.full_like(y_te, fill_value=np.median(y_tr), dtype=float)\n",
    "    mae_base = mean_absolute_error(y_te, baseline_pred)\n",
    "\n",
    "    # model\n",
    "    model = LGBMRegressor(\n",
    "        n_estimators=2000, learning_rate=0.03, num_leaves=63,\n",
    "        subsample=0.8, colsample_bytree=0.8, reg_lambda=1.0,\n",
    "        random_state=42, n_jobs=-1\n",
    "    )\n",
    "    model.fit(\n",
    "        Xt_tr, y_tr,\n",
    "        eval_set=[(Xt_te, y_te)],\n",
    "        eval_metric=\"l1\",\n",
    "        callbacks=[early_stopping(stopping_rounds=100), log_evaluation(period=0)],\n",
    "    )\n",
    "    pred = model.predict(Xt_te, num_iteration=model.best_iteration_)\n",
    "    mae = mean_absolute_error(y_te, pred)\n",
    "\n",
    "    # anchors\n",
    "    skill = 1.0 - (mae / mae_base)\n",
    "    nmae = 100.0 * mae / float(np.mean(y_te))\n",
    "\n",
    "    rows.append({\n",
    "        \"fold\": i,\n",
    "        \"MAE\": mae,\n",
    "        \"Baseline_MAE\": mae_base,\n",
    "        \"Skill\": skill,\n",
    "        \"NMAE_%\": nmae,\n",
    "        \"iters\": model.best_iteration_,\n",
    "    })\n",
    "\n",
    "res = pd.DataFrame(rows)\n",
    "print(res.round(3).to_string(index=False))\n",
    "print(\"\\nMeans:\")\n",
    "print(res.mean(numeric_only=True).round(3).to_string())\n"
   ]
  },
  {
   "cell_type": "code",
   "execution_count": 6,
   "id": "e852fbed",
   "metadata": {},
   "outputs": [
    {
     "name": "stdout",
     "output_type": "stream",
     "text": [
      "[LightGBM] [Warning] min_data_in_leaf is set=3000, min_child_samples=20 will be ignored. Current value: min_data_in_leaf=3000\n",
      "[LightGBM] [Warning] min_data_in_leaf is set=3000, min_child_samples=20 will be ignored. Current value: min_data_in_leaf=3000\n",
      "[LightGBM] [Info] Auto-choosing row-wise multi-threading, the overhead of testing was 0.004246 seconds.\n",
      "You can set `force_row_wise=true` to remove the overhead.\n",
      "And if memory is not enough, you can set `force_col_wise=true`.\n",
      "[LightGBM] [Info] Total Bins 1095\n",
      "[LightGBM] [Info] Number of data points in the train set: 766864, number of used features: 14\n",
      "[LightGBM] [Warning] min_data_in_leaf is set=3000, min_child_samples=20 will be ignored. Current value: min_data_in_leaf=3000\n",
      "[LightGBM] [Info] Start training from score 273.022827\n",
      "Training until validation scores don't improve for 150 rounds\n",
      "Early stopping, best iteration is:\n",
      "[146]\tvalid_0's l1: 19.9213\n",
      "[LightGBM] [Warning] min_data_in_leaf is set=3000, min_child_samples=20 will be ignored. Current value: min_data_in_leaf=3000\n",
      "Fold 1: MAE = 19.921  (iters=146)\n"
     ]
    },
    {
     "name": "stderr",
     "output_type": "stream",
     "text": [
      "c:\\Users\\User\\AppData\\Local\\Programs\\Python\\Python313\\Lib\\site-packages\\sklearn\\utils\\validation.py:2749: UserWarning: X does not have valid feature names, but LGBMRegressor was fitted with feature names\n",
      "  warnings.warn(\n"
     ]
    },
    {
     "name": "stdout",
     "output_type": "stream",
     "text": [
      "[LightGBM] [Warning] min_data_in_leaf is set=3000, min_child_samples=20 will be ignored. Current value: min_data_in_leaf=3000\n",
      "[LightGBM] [Warning] min_data_in_leaf is set=3000, min_child_samples=20 will be ignored. Current value: min_data_in_leaf=3000\n",
      "[LightGBM] [Info] Auto-choosing row-wise multi-threading, the overhead of testing was 0.004772 seconds.\n",
      "You can set `force_row_wise=true` to remove the overhead.\n",
      "And if memory is not enough, you can set `force_col_wise=true`.\n",
      "[LightGBM] [Info] Total Bins 1096\n",
      "[LightGBM] [Info] Number of data points in the train set: 766864, number of used features: 14\n",
      "[LightGBM] [Warning] min_data_in_leaf is set=3000, min_child_samples=20 will be ignored. Current value: min_data_in_leaf=3000\n",
      "[LightGBM] [Info] Start training from score 273.011658\n",
      "Training until validation scores don't improve for 150 rounds\n",
      "Early stopping, best iteration is:\n",
      "[24]\tvalid_0's l1: 22.7804\n",
      "[LightGBM] [Warning] min_data_in_leaf is set=3000, min_child_samples=20 will be ignored. Current value: min_data_in_leaf=3000\n",
      "Fold 2: MAE = 22.780  (iters=24)\n"
     ]
    },
    {
     "name": "stderr",
     "output_type": "stream",
     "text": [
      "c:\\Users\\User\\AppData\\Local\\Programs\\Python\\Python313\\Lib\\site-packages\\sklearn\\utils\\validation.py:2749: UserWarning: X does not have valid feature names, but LGBMRegressor was fitted with feature names\n",
      "  warnings.warn(\n"
     ]
    },
    {
     "name": "stdout",
     "output_type": "stream",
     "text": [
      "[LightGBM] [Warning] min_data_in_leaf is set=3000, min_child_samples=20 will be ignored. Current value: min_data_in_leaf=3000\n",
      "[LightGBM] [Warning] min_data_in_leaf is set=3000, min_child_samples=20 will be ignored. Current value: min_data_in_leaf=3000\n",
      "[LightGBM] [Info] Auto-choosing row-wise multi-threading, the overhead of testing was 0.004600 seconds.\n",
      "You can set `force_row_wise=true` to remove the overhead.\n",
      "And if memory is not enough, you can set `force_col_wise=true`.\n",
      "[LightGBM] [Info] Total Bins 1100\n",
      "[LightGBM] [Info] Number of data points in the train set: 766864, number of used features: 14\n",
      "[LightGBM] [Warning] min_data_in_leaf is set=3000, min_child_samples=20 will be ignored. Current value: min_data_in_leaf=3000\n",
      "[LightGBM] [Info] Start training from score 273.838135\n",
      "Training until validation scores don't improve for 150 rounds\n",
      "Early stopping, best iteration is:\n",
      "[104]\tvalid_0's l1: 11.4055\n",
      "[LightGBM] [Warning] min_data_in_leaf is set=3000, min_child_samples=20 will be ignored. Current value: min_data_in_leaf=3000\n",
      "Fold 3: MAE = 11.406  (iters=104)\n"
     ]
    },
    {
     "name": "stderr",
     "output_type": "stream",
     "text": [
      "c:\\Users\\User\\AppData\\Local\\Programs\\Python\\Python313\\Lib\\site-packages\\sklearn\\utils\\validation.py:2749: UserWarning: X does not have valid feature names, but LGBMRegressor was fitted with feature names\n",
      "  warnings.warn(\n"
     ]
    },
    {
     "name": "stdout",
     "output_type": "stream",
     "text": [
      "[LightGBM] [Warning] min_data_in_leaf is set=3000, min_child_samples=20 will be ignored. Current value: min_data_in_leaf=3000\n",
      "[LightGBM] [Warning] min_data_in_leaf is set=3000, min_child_samples=20 will be ignored. Current value: min_data_in_leaf=3000\n",
      "[LightGBM] [Info] Auto-choosing row-wise multi-threading, the overhead of testing was 0.004758 seconds.\n",
      "You can set `force_row_wise=true` to remove the overhead.\n",
      "And if memory is not enough, you can set `force_col_wise=true`.\n",
      "[LightGBM] [Info] Total Bins 1099\n",
      "[LightGBM] [Info] Number of data points in the train set: 766864, number of used features: 14\n",
      "[LightGBM] [Warning] min_data_in_leaf is set=3000, min_child_samples=20 will be ignored. Current value: min_data_in_leaf=3000\n",
      "[LightGBM] [Info] Start training from score 278.404968\n",
      "Training until validation scores don't improve for 150 rounds\n",
      "Early stopping, best iteration is:\n",
      "[288]\tvalid_0's l1: 19.7261\n",
      "[LightGBM] [Warning] min_data_in_leaf is set=3000, min_child_samples=20 will be ignored. Current value: min_data_in_leaf=3000\n"
     ]
    },
    {
     "name": "stderr",
     "output_type": "stream",
     "text": [
      "c:\\Users\\User\\AppData\\Local\\Programs\\Python\\Python313\\Lib\\site-packages\\sklearn\\utils\\validation.py:2749: UserWarning: X does not have valid feature names, but LGBMRegressor was fitted with feature names\n",
      "  warnings.warn(\n"
     ]
    },
    {
     "name": "stdout",
     "output_type": "stream",
     "text": [
      "Fold 4: MAE = 19.726  (iters=288)\n",
      "[LightGBM] [Warning] min_data_in_leaf is set=3000, min_child_samples=20 will be ignored. Current value: min_data_in_leaf=3000\n",
      "[LightGBM] [Warning] min_data_in_leaf is set=3000, min_child_samples=20 will be ignored. Current value: min_data_in_leaf=3000\n",
      "[LightGBM] [Info] Auto-choosing row-wise multi-threading, the overhead of testing was 0.005354 seconds.\n",
      "You can set `force_row_wise=true` to remove the overhead.\n",
      "And if memory is not enough, you can set `force_col_wise=true`.\n",
      "[LightGBM] [Info] Total Bins 1095\n",
      "[LightGBM] [Info] Number of data points in the train set: 766864, number of used features: 14\n",
      "[LightGBM] [Warning] min_data_in_leaf is set=3000, min_child_samples=20 will be ignored. Current value: min_data_in_leaf=3000\n",
      "[LightGBM] [Info] Start training from score 265.025757\n",
      "Training until validation scores don't improve for 150 rounds\n",
      "Early stopping, best iteration is:\n",
      "[677]\tvalid_0's l1: 25.2226\n",
      "[LightGBM] [Warning] min_data_in_leaf is set=3000, min_child_samples=20 will be ignored. Current value: min_data_in_leaf=3000\n"
     ]
    },
    {
     "name": "stderr",
     "output_type": "stream",
     "text": [
      "c:\\Users\\User\\AppData\\Local\\Programs\\Python\\Python313\\Lib\\site-packages\\sklearn\\utils\\validation.py:2749: UserWarning: X does not have valid feature names, but LGBMRegressor was fitted with feature names\n",
      "  warnings.warn(\n"
     ]
    },
    {
     "name": "stdout",
     "output_type": "stream",
     "text": [
      "Fold 5: MAE = 25.223  (iters=677)\n",
      "\n",
      "LightGBM (MAE objective, smoothed) — MAE mean = 19.811 ± 4.664\n"
     ]
    }
   ],
   "source": [
    "# === LightGBM tuned for MAE (regression_l1) + smoother leaves ===\n",
    "import pandas as pd, numpy as np\n",
    "from pathlib import Path\n",
    "from sklearn.model_selection import GroupKFold\n",
    "from sklearn.preprocessing import OneHotEncoder, StandardScaler\n",
    "from sklearn.compose import ColumnTransformer\n",
    "from sklearn.metrics import mean_absolute_error\n",
    "from lightgbm import LGBMRegressor, early_stopping, log_evaluation\n",
    "\n",
    "DATA = Path(\"C:/Users/User/Desktop/ML/Project/solar-potential-analysis-github-setup/New_approach/dataset/cleaned_datasets/top20_balanced_sample.parquet\")\n",
    "\n",
    "cols = [\"City\",\"BuildingType_5\",\"kWh_per_m2\",\n",
    "        \"tilt\",\"tilt2\",\"tilt_sin\",\"tilt_cos\",\n",
    "        \"GHI_kWh_per_m2_day\",\"AvgTemp_C\",\"ClearnessIndex\",\"Precip_mm_per_day\"]\n",
    "df = pd.read_parquet(DATA, columns=cols).copy()\n",
    "\n",
    "TARGET = \"kWh_per_m2\"\n",
    "CAT = [\"BuildingType_5\"]\n",
    "NUM = [\"tilt\",\"tilt2\",\"tilt_sin\",\"tilt_cos\",\"GHI_kWh_per_m2_day\",\"AvgTemp_C\",\"ClearnessIndex\",\"Precip_mm_per_day\"]\n",
    "\n",
    "pre = ColumnTransformer([\n",
    "    (\"num\", StandardScaler(), NUM),\n",
    "    (\"cat\", OneHotEncoder(handle_unknown=\"ignore\", sparse_output=False), CAT),\n",
    "])\n",
    "\n",
    "gkf = GroupKFold(n_splits=5)\n",
    "groups = df[\"City\"].astype(str).values\n",
    "X = df[CAT+NUM]\n",
    "y = df[TARGET].astype(float).values\n",
    "\n",
    "fold_mae, fold_iters = [], []\n",
    "for i, (tr, te) in enumerate(gkf.split(X, y, groups), 1):\n",
    "    Xt_tr = pre.fit_transform(X.iloc[tr])\n",
    "    Xt_te = pre.transform(X.iloc[te])\n",
    "\n",
    "    model = LGBMRegressor(\n",
    "        objective=\"regression_l1\",   # optimize MAE directly\n",
    "        n_estimators=4000,\n",
    "        learning_rate=0.02,\n",
    "        num_leaves=31,               # smaller leaves = smoother\n",
    "        min_data_in_leaf=3000,       # stronger smoothing\n",
    "        subsample=0.8,\n",
    "        colsample_bytree=0.8,\n",
    "        reg_lambda=1.0,\n",
    "        random_state=42,\n",
    "        n_jobs=-1,\n",
    "    )\n",
    "    model.fit(\n",
    "        Xt_tr, y[tr],\n",
    "        eval_set=[(Xt_te, y[te])],\n",
    "        eval_metric=\"l1\",\n",
    "        callbacks=[early_stopping(stopping_rounds=150), log_evaluation(period=0)],\n",
    "    )\n",
    "    pred = model.predict(Xt_te, num_iteration=model.best_iteration_)\n",
    "    mae = mean_absolute_error(y[te], pred)\n",
    "    fold_mae.append(mae)\n",
    "    fold_iters.append(model.best_iteration_)\n",
    "    print(f\"Fold {i}: MAE = {mae:.3f}  (iters={model.best_iteration_})\")\n",
    "\n",
    "print(f\"\\nLightGBM (MAE objective, smoothed) — MAE mean = {np.mean(fold_mae):.3f} ± {np.std(fold_mae):.3f}\")\n"
   ]
  },
  {
   "cell_type": "code",
   "execution_count": 7,
   "id": "a954adfa",
   "metadata": {},
   "outputs": [
    {
     "name": "stdout",
     "output_type": "stream",
     "text": [
      "[LightGBM] [Warning] min_data_in_leaf is set=3000, min_child_samples=20 will be ignored. Current value: min_data_in_leaf=3000\n",
      "[LightGBM] [Warning] min_data_in_leaf is set=3000, min_child_samples=20 will be ignored. Current value: min_data_in_leaf=3000\n",
      "[LightGBM] [Info] Auto-choosing row-wise multi-threading, the overhead of testing was 0.004568 seconds.\n",
      "You can set `force_row_wise=true` to remove the overhead.\n",
      "And if memory is not enough, you can set `force_col_wise=true`.\n",
      "[LightGBM] [Info] Total Bins 1095\n",
      "[LightGBM] [Info] Number of data points in the train set: 766864, number of used features: 14\n",
      "[LightGBM] [Warning] min_data_in_leaf is set=3000, min_child_samples=20 will be ignored. Current value: min_data_in_leaf=3000\n",
      "[LightGBM] [Info] Start training from score 272.165832\n",
      "Training until validation scores don't improve for 150 rounds\n",
      "Early stopping, best iteration is:\n",
      "[156]\tvalid_0's l1: 17.024\tvalid_0's l2: 435.35\n",
      "[LightGBM] [Warning] min_data_in_leaf is set=3000, min_child_samples=20 will be ignored. Current value: min_data_in_leaf=3000\n",
      "Fold 1: MAE = 17.024  (iters=156)\n"
     ]
    },
    {
     "name": "stderr",
     "output_type": "stream",
     "text": [
      "c:\\Users\\User\\AppData\\Local\\Programs\\Python\\Python313\\Lib\\site-packages\\sklearn\\utils\\validation.py:2749: UserWarning: X does not have valid feature names, but LGBMRegressor was fitted with feature names\n",
      "  warnings.warn(\n"
     ]
    },
    {
     "name": "stdout",
     "output_type": "stream",
     "text": [
      "[LightGBM] [Warning] min_data_in_leaf is set=3000, min_child_samples=20 will be ignored. Current value: min_data_in_leaf=3000\n",
      "[LightGBM] [Warning] min_data_in_leaf is set=3000, min_child_samples=20 will be ignored. Current value: min_data_in_leaf=3000\n",
      "[LightGBM] [Info] Auto-choosing col-wise multi-threading, the overhead of testing was 0.035319 seconds.\n",
      "You can set `force_col_wise=true` to remove the overhead.\n",
      "[LightGBM] [Info] Total Bins 1096\n",
      "[LightGBM] [Info] Number of data points in the train set: 766864, number of used features: 14\n",
      "[LightGBM] [Warning] min_data_in_leaf is set=3000, min_child_samples=20 will be ignored. Current value: min_data_in_leaf=3000\n",
      "[LightGBM] [Info] Start training from score 273.010929\n",
      "Training until validation scores don't improve for 150 rounds\n",
      "Early stopping, best iteration is:\n",
      "[53]\tvalid_0's l1: 17.8492\tvalid_0's l2: 414.285\n",
      "[LightGBM] [Warning] min_data_in_leaf is set=3000, min_child_samples=20 will be ignored. Current value: min_data_in_leaf=3000\n",
      "Fold 2: MAE = 17.849  (iters=53)\n"
     ]
    },
    {
     "name": "stderr",
     "output_type": "stream",
     "text": [
      "c:\\Users\\User\\AppData\\Local\\Programs\\Python\\Python313\\Lib\\site-packages\\sklearn\\utils\\validation.py:2749: UserWarning: X does not have valid feature names, but LGBMRegressor was fitted with feature names\n",
      "  warnings.warn(\n"
     ]
    },
    {
     "name": "stdout",
     "output_type": "stream",
     "text": [
      "[LightGBM] [Warning] min_data_in_leaf is set=3000, min_child_samples=20 will be ignored. Current value: min_data_in_leaf=3000\n",
      "[LightGBM] [Warning] min_data_in_leaf is set=3000, min_child_samples=20 will be ignored. Current value: min_data_in_leaf=3000\n",
      "[LightGBM] [Info] Auto-choosing row-wise multi-threading, the overhead of testing was 0.004573 seconds.\n",
      "You can set `force_row_wise=true` to remove the overhead.\n",
      "And if memory is not enough, you can set `force_col_wise=true`.\n",
      "[LightGBM] [Info] Total Bins 1100\n",
      "[LightGBM] [Info] Number of data points in the train set: 766864, number of used features: 14\n",
      "[LightGBM] [Warning] min_data_in_leaf is set=3000, min_child_samples=20 will be ignored. Current value: min_data_in_leaf=3000\n",
      "[LightGBM] [Info] Start training from score 271.877599\n",
      "Training until validation scores don't improve for 150 rounds\n",
      "Early stopping, best iteration is:\n",
      "[66]\tvalid_0's l1: 11.544\tvalid_0's l2: 220.876\n",
      "[LightGBM] [Warning] min_data_in_leaf is set=3000, min_child_samples=20 will be ignored. Current value: min_data_in_leaf=3000\n",
      "Fold 3: MAE = 11.544  (iters=66)\n"
     ]
    },
    {
     "name": "stderr",
     "output_type": "stream",
     "text": [
      "c:\\Users\\User\\AppData\\Local\\Programs\\Python\\Python313\\Lib\\site-packages\\sklearn\\utils\\validation.py:2749: UserWarning: X does not have valid feature names, but LGBMRegressor was fitted with feature names\n",
      "  warnings.warn(\n"
     ]
    },
    {
     "name": "stdout",
     "output_type": "stream",
     "text": [
      "[LightGBM] [Warning] min_data_in_leaf is set=3000, min_child_samples=20 will be ignored. Current value: min_data_in_leaf=3000\n",
      "[LightGBM] [Warning] min_data_in_leaf is set=3000, min_child_samples=20 will be ignored. Current value: min_data_in_leaf=3000\n",
      "[LightGBM] [Info] Auto-choosing row-wise multi-threading, the overhead of testing was 0.003854 seconds.\n",
      "You can set `force_row_wise=true` to remove the overhead.\n",
      "And if memory is not enough, you can set `force_col_wise=true`.\n",
      "[LightGBM] [Info] Total Bins 1099\n",
      "[LightGBM] [Info] Number of data points in the train set: 766864, number of used features: 14\n",
      "[LightGBM] [Warning] min_data_in_leaf is set=3000, min_child_samples=20 will be ignored. Current value: min_data_in_leaf=3000\n",
      "[LightGBM] [Info] Start training from score 277.434894\n",
      "Training until validation scores don't improve for 150 rounds\n",
      "Early stopping, best iteration is:\n",
      "[247]\tvalid_0's l1: 17.8915\tvalid_0's l2: 582.785\n",
      "[LightGBM] [Warning] min_data_in_leaf is set=3000, min_child_samples=20 will be ignored. Current value: min_data_in_leaf=3000\n"
     ]
    },
    {
     "name": "stderr",
     "output_type": "stream",
     "text": [
      "c:\\Users\\User\\AppData\\Local\\Programs\\Python\\Python313\\Lib\\site-packages\\sklearn\\utils\\validation.py:2749: UserWarning: X does not have valid feature names, but LGBMRegressor was fitted with feature names\n",
      "  warnings.warn(\n"
     ]
    },
    {
     "name": "stdout",
     "output_type": "stream",
     "text": [
      "Fold 4: MAE = 17.891  (iters=247)\n",
      "[LightGBM] [Warning] min_data_in_leaf is set=3000, min_child_samples=20 will be ignored. Current value: min_data_in_leaf=3000\n",
      "[LightGBM] [Warning] min_data_in_leaf is set=3000, min_child_samples=20 will be ignored. Current value: min_data_in_leaf=3000\n",
      "[LightGBM] [Info] Auto-choosing row-wise multi-threading, the overhead of testing was 0.004738 seconds.\n",
      "You can set `force_row_wise=true` to remove the overhead.\n",
      "And if memory is not enough, you can set `force_col_wise=true`.\n",
      "[LightGBM] [Info] Total Bins 1095\n",
      "[LightGBM] [Info] Number of data points in the train set: 766864, number of used features: 14\n",
      "[LightGBM] [Warning] min_data_in_leaf is set=3000, min_child_samples=20 will be ignored. Current value: min_data_in_leaf=3000\n",
      "[LightGBM] [Info] Start training from score 265.384856\n",
      "Training until validation scores don't improve for 150 rounds\n",
      "Early stopping, best iteration is:\n",
      "[166]\tvalid_0's l1: 20.6986\tvalid_0's l2: 726.41\n",
      "[LightGBM] [Warning] min_data_in_leaf is set=3000, min_child_samples=20 will be ignored. Current value: min_data_in_leaf=3000\n",
      "Fold 5: MAE = 20.699  (iters=166)\n",
      "\n",
      "LightGBM (L2 + smoother leaves) — MAE mean = 17.001 ± 2.999\n"
     ]
    },
    {
     "name": "stderr",
     "output_type": "stream",
     "text": [
      "c:\\Users\\User\\AppData\\Local\\Programs\\Python\\Python313\\Lib\\site-packages\\sklearn\\utils\\validation.py:2749: UserWarning: X does not have valid feature names, but LGBMRegressor was fitted with feature names\n",
      "  warnings.warn(\n"
     ]
    }
   ],
   "source": [
    "# === LightGBM (L2 objective) + smoother leaves (sanity check) ===\n",
    "import pandas as pd, numpy as np\n",
    "from pathlib import Path\n",
    "from sklearn.model_selection import GroupKFold\n",
    "from sklearn.preprocessing import OneHotEncoder, StandardScaler\n",
    "from sklearn.compose import ColumnTransformer\n",
    "from sklearn.metrics import mean_absolute_error\n",
    "from lightgbm import LGBMRegressor, early_stopping, log_evaluation\n",
    "\n",
    "DATA = Path(\"C:/Users/User/Desktop/ML/Project/solar-potential-analysis-github-setup/New_approach/dataset/cleaned_datasets/top20_balanced_sample.parquet\")\n",
    "\n",
    "cols = [\"City\",\"BuildingType_5\",\"kWh_per_m2\",\n",
    "        \"tilt\",\"tilt2\",\"tilt_sin\",\"tilt_cos\",\n",
    "        \"GHI_kWh_per_m2_day\",\"AvgTemp_C\",\"ClearnessIndex\",\"Precip_mm_per_day\"]\n",
    "df = pd.read_parquet(DATA, columns=cols).copy()\n",
    "\n",
    "TARGET = \"kWh_per_m2\"\n",
    "CAT = [\"BuildingType_5\"]\n",
    "NUM = [\"tilt\",\"tilt2\",\"tilt_sin\",\"tilt_cos\",\"GHI_kWh_per_m2_day\",\"AvgTemp_C\",\"ClearnessIndex\",\"Precip_mm_per_day\"]\n",
    "\n",
    "pre = ColumnTransformer([\n",
    "    (\"num\", StandardScaler(), NUM),\n",
    "    (\"cat\", OneHotEncoder(handle_unknown=\"ignore\", sparse_output=False), CAT),\n",
    "])\n",
    "\n",
    "gkf = GroupKFold(n_splits=5)\n",
    "groups = df[\"City\"].astype(str).values\n",
    "X = df[CAT+NUM]; y = df[TARGET].astype(float).values\n",
    "\n",
    "fold_mae, fold_iters = [], []\n",
    "for i, (tr, te) in enumerate(gkf.split(X, y, groups), 1):\n",
    "    Xt_tr = pre.fit_transform(X.iloc[tr])\n",
    "    Xt_te = pre.transform(X.iloc[te])\n",
    "\n",
    "    model = LGBMRegressor(\n",
    "        objective=\"regression\",   # L2/MSE (baseline objective)\n",
    "        n_estimators=3000,\n",
    "        learning_rate=0.03,\n",
    "        num_leaves=31,            # smoother than baseline 63\n",
    "        min_data_in_leaf=3000,    # smoothing\n",
    "        subsample=0.8,\n",
    "        colsample_bytree=0.8,\n",
    "        reg_lambda=1.0,\n",
    "        random_state=42,\n",
    "        n_jobs=-1,\n",
    "    )\n",
    "    model.fit(\n",
    "        Xt_tr, y[tr],\n",
    "        eval_set=[(Xt_te, y[te])],\n",
    "        eval_metric=\"l1\",\n",
    "        callbacks=[early_stopping(stopping_rounds=150), log_evaluation(period=0)],\n",
    "    )\n",
    "    pred = model.predict(Xt_te, num_iteration=model.best_iteration_)\n",
    "    mae = mean_absolute_error(y[te], pred)\n",
    "    fold_mae.append(mae); fold_iters.append(model.best_iteration_)\n",
    "    print(f\"Fold {i}: MAE = {mae:.3f}  (iters={model.best_iteration_})\")\n",
    "\n",
    "print(f\"\\nLightGBM (L2 + smoother leaves) — MAE mean = {np.mean(fold_mae):.3f} ± {np.std(fold_mae):.3f}\")\n"
   ]
  },
  {
   "cell_type": "code",
   "execution_count": 8,
   "id": "f5862bd4",
   "metadata": {},
   "outputs": [
    {
     "name": "stdout",
     "output_type": "stream",
     "text": [
      "[LightGBM] [Warning] min_data_in_leaf is set=3000, min_child_samples=20 will be ignored. Current value: min_data_in_leaf=3000\n",
      "[LightGBM] [Warning] min_data_in_leaf is set=3000, min_child_samples=20 will be ignored. Current value: min_data_in_leaf=3000\n",
      "[LightGBM] [Info] Auto-choosing row-wise multi-threading, the overhead of testing was 0.004961 seconds.\n",
      "You can set `force_row_wise=true` to remove the overhead.\n",
      "And if memory is not enough, you can set `force_col_wise=true`.\n",
      "[LightGBM] [Info] Total Bins 1107\n",
      "[LightGBM] [Info] Number of data points in the train set: 819585, number of used features: 14\n",
      "[LightGBM] [Warning] min_data_in_leaf is set=3000, min_child_samples=20 will be ignored. Current value: min_data_in_leaf=3000\n",
      "[LightGBM] [Info] Start training from score 272.169051\n",
      "Training until validation scores don't improve for 150 rounds\n",
      "Early stopping, best iteration is:\n",
      "[1888]\tvalid_0's l1: 7.83268\tvalid_0's l2: 147.955\n",
      "[LightGBM] [Warning] min_data_in_leaf is set=3000, min_child_samples=20 will be ignored. Current value: min_data_in_leaf=3000\n"
     ]
    },
    {
     "name": "stderr",
     "output_type": "stream",
     "text": [
      "c:\\Users\\User\\AppData\\Local\\Programs\\Python\\Python313\\Lib\\site-packages\\sklearn\\utils\\validation.py:2749: UserWarning: X does not have valid feature names, but LGBMRegressor was fitted with feature names\n",
      "  warnings.warn(\n"
     ]
    },
    {
     "name": "stdout",
     "output_type": "stream",
     "text": [
      "[LightGBM] [Warning] min_data_in_leaf is set=3000, min_child_samples=20 will be ignored. Current value: min_data_in_leaf=3000\n",
      "[LightGBM] [Warning] min_data_in_leaf is set=3000, min_child_samples=20 will be ignored. Current value: min_data_in_leaf=3000\n",
      "[LightGBM] [Info] Auto-choosing row-wise multi-threading, the overhead of testing was 0.005026 seconds.\n",
      "You can set `force_row_wise=true` to remove the overhead.\n",
      "And if memory is not enough, you can set `force_col_wise=true`.\n",
      "[LightGBM] [Info] Total Bins 1107\n",
      "[LightGBM] [Info] Number of data points in the train set: 819585, number of used features: 14\n",
      "[LightGBM] [Warning] min_data_in_leaf is set=3000, min_child_samples=20 will be ignored. Current value: min_data_in_leaf=3000\n",
      "[LightGBM] [Info] Start training from score 273.898541\n",
      "Training until validation scores don't improve for 150 rounds\n",
      "Early stopping, best iteration is:\n",
      "[1800]\tvalid_0's l1: 7.51307\tvalid_0's l2: 133.402\n",
      "[LightGBM] [Warning] min_data_in_leaf is set=3000, min_child_samples=20 will be ignored. Current value: min_data_in_leaf=3000\n"
     ]
    },
    {
     "name": "stderr",
     "output_type": "stream",
     "text": [
      "c:\\Users\\User\\AppData\\Local\\Programs\\Python\\Python313\\Lib\\site-packages\\sklearn\\utils\\validation.py:2749: UserWarning: X does not have valid feature names, but LGBMRegressor was fitted with feature names\n",
      "  warnings.warn(\n"
     ]
    },
    {
     "name": "stdout",
     "output_type": "stream",
     "text": [
      "[LightGBM] [Warning] min_data_in_leaf is set=3000, min_child_samples=20 will be ignored. Current value: min_data_in_leaf=3000\n",
      "[LightGBM] [Warning] min_data_in_leaf is set=3000, min_child_samples=20 will be ignored. Current value: min_data_in_leaf=3000\n",
      "[LightGBM] [Info] Auto-choosing row-wise multi-threading, the overhead of testing was 0.005563 seconds.\n",
      "You can set `force_row_wise=true` to remove the overhead.\n",
      "And if memory is not enough, you can set `force_col_wise=true`.\n",
      "[LightGBM] [Info] Total Bins 1107\n",
      "[LightGBM] [Info] Number of data points in the train set: 819585, number of used features: 14\n",
      "[LightGBM] [Warning] min_data_in_leaf is set=3000, min_child_samples=20 will be ignored. Current value: min_data_in_leaf=3000\n",
      "[LightGBM] [Info] Start training from score 270.805649\n",
      "Training until validation scores don't improve for 150 rounds\n",
      "Early stopping, best iteration is:\n",
      "[1856]\tvalid_0's l1: 7.60404\tvalid_0's l2: 141.653\n",
      "[LightGBM] [Warning] min_data_in_leaf is set=3000, min_child_samples=20 will be ignored. Current value: min_data_in_leaf=3000\n"
     ]
    },
    {
     "name": "stderr",
     "output_type": "stream",
     "text": [
      "c:\\Users\\User\\AppData\\Local\\Programs\\Python\\Python313\\Lib\\site-packages\\sklearn\\utils\\validation.py:2749: UserWarning: X does not have valid feature names, but LGBMRegressor was fitted with feature names\n",
      "  warnings.warn(\n"
     ]
    },
    {
     "name": "stdout",
     "output_type": "stream",
     "text": [
      "[LightGBM] [Warning] min_data_in_leaf is set=3000, min_child_samples=20 will be ignored. Current value: min_data_in_leaf=3000\n",
      "[LightGBM] [Warning] min_data_in_leaf is set=3000, min_child_samples=20 will be ignored. Current value: min_data_in_leaf=3000\n",
      "[LightGBM] [Info] Auto-choosing col-wise multi-threading, the overhead of testing was 0.051290 seconds.\n",
      "You can set `force_col_wise=true` to remove the overhead.\n",
      "[LightGBM] [Info] Total Bins 1108\n",
      "[LightGBM] [Info] Number of data points in the train set: 819585, number of used features: 14\n",
      "[LightGBM] [Warning] min_data_in_leaf is set=3000, min_child_samples=20 will be ignored. Current value: min_data_in_leaf=3000\n",
      "[LightGBM] [Info] Start training from score 273.747613\n",
      "Training until validation scores don't improve for 150 rounds\n",
      "Early stopping, best iteration is:\n",
      "[1219]\tvalid_0's l1: 7.73658\tvalid_0's l2: 144.996\n",
      "[LightGBM] [Warning] min_data_in_leaf is set=3000, min_child_samples=20 will be ignored. Current value: min_data_in_leaf=3000\n"
     ]
    },
    {
     "name": "stderr",
     "output_type": "stream",
     "text": [
      "c:\\Users\\User\\AppData\\Local\\Programs\\Python\\Python313\\Lib\\site-packages\\sklearn\\utils\\validation.py:2749: UserWarning: X does not have valid feature names, but LGBMRegressor was fitted with feature names\n",
      "  warnings.warn(\n"
     ]
    },
    {
     "name": "stdout",
     "output_type": "stream",
     "text": [
      "[LightGBM] [Warning] min_data_in_leaf is set=3000, min_child_samples=20 will be ignored. Current value: min_data_in_leaf=3000\n",
      "[LightGBM] [Warning] min_data_in_leaf is set=3000, min_child_samples=20 will be ignored. Current value: min_data_in_leaf=3000\n",
      "[LightGBM] [Info] Auto-choosing row-wise multi-threading, the overhead of testing was 0.005108 seconds.\n",
      "You can set `force_row_wise=true` to remove the overhead.\n",
      "And if memory is not enough, you can set `force_col_wise=true`.\n",
      "[LightGBM] [Info] Total Bins 1107\n",
      "[LightGBM] [Info] Number of data points in the train set: 819585, number of used features: 14\n",
      "[LightGBM] [Warning] min_data_in_leaf is set=3000, min_child_samples=20 will be ignored. Current value: min_data_in_leaf=3000\n",
      "[LightGBM] [Info] Start training from score 271.562076\n",
      "Training until validation scores don't improve for 150 rounds\n",
      "Early stopping, best iteration is:\n",
      "[1311]\tvalid_0's l1: 7.95923\tvalid_0's l2: 148.998\n",
      "[LightGBM] [Warning] min_data_in_leaf is set=3000, min_child_samples=20 will be ignored. Current value: min_data_in_leaf=3000\n"
     ]
    },
    {
     "name": "stderr",
     "output_type": "stream",
     "text": [
      "c:\\Users\\User\\AppData\\Local\\Programs\\Python\\Python313\\Lib\\site-packages\\sklearn\\utils\\validation.py:2749: UserWarning: X does not have valid feature names, but LGBMRegressor was fitted with feature names\n",
      "  warnings.warn(\n"
     ]
    },
    {
     "name": "stdout",
     "output_type": "stream",
     "text": [
      "[LightGBM] [Warning] min_data_in_leaf is set=3000, min_child_samples=20 will be ignored. Current value: min_data_in_leaf=3000\n",
      "[LightGBM] [Warning] min_data_in_leaf is set=3000, min_child_samples=20 will be ignored. Current value: min_data_in_leaf=3000\n",
      "[LightGBM] [Info] Auto-choosing row-wise multi-threading, the overhead of testing was 0.005722 seconds.\n",
      "You can set `force_row_wise=true` to remove the overhead.\n",
      "And if memory is not enough, you can set `force_col_wise=true`.\n",
      "[LightGBM] [Info] Total Bins 1107\n",
      "[LightGBM] [Info] Number of data points in the train set: 819585, number of used features: 14\n",
      "[LightGBM] [Warning] min_data_in_leaf is set=3000, min_child_samples=20 will be ignored. Current value: min_data_in_leaf=3000\n",
      "[LightGBM] [Info] Start training from score 271.437339\n",
      "Training until validation scores don't improve for 150 rounds\n",
      "Early stopping, best iteration is:\n",
      "[1157]\tvalid_0's l1: 7.95203\tvalid_0's l2: 148.838\n",
      "[LightGBM] [Warning] min_data_in_leaf is set=3000, min_child_samples=20 will be ignored. Current value: min_data_in_leaf=3000\n"
     ]
    },
    {
     "name": "stderr",
     "output_type": "stream",
     "text": [
      "c:\\Users\\User\\AppData\\Local\\Programs\\Python\\Python313\\Lib\\site-packages\\sklearn\\utils\\validation.py:2749: UserWarning: X does not have valid feature names, but LGBMRegressor was fitted with feature names\n",
      "  warnings.warn(\n"
     ]
    },
    {
     "name": "stdout",
     "output_type": "stream",
     "text": [
      "[LightGBM] [Warning] min_data_in_leaf is set=3000, min_child_samples=20 will be ignored. Current value: min_data_in_leaf=3000\n",
      "[LightGBM] [Warning] min_data_in_leaf is set=3000, min_child_samples=20 will be ignored. Current value: min_data_in_leaf=3000\n",
      "[LightGBM] [Info] Auto-choosing row-wise multi-threading, the overhead of testing was 0.004219 seconds.\n",
      "You can set `force_row_wise=true` to remove the overhead.\n",
      "And if memory is not enough, you can set `force_col_wise=true`.\n",
      "[LightGBM] [Info] Total Bins 1107\n",
      "[LightGBM] [Info] Number of data points in the train set: 819585, number of used features: 14\n",
      "[LightGBM] [Warning] min_data_in_leaf is set=3000, min_child_samples=20 will be ignored. Current value: min_data_in_leaf=3000\n",
      "[LightGBM] [Info] Start training from score 273.720206\n",
      "Training until validation scores don't improve for 150 rounds\n",
      "Early stopping, best iteration is:\n",
      "[977]\tvalid_0's l1: 7.72157\tvalid_0's l2: 143.836\n",
      "[LightGBM] [Warning] min_data_in_leaf is set=3000, min_child_samples=20 will be ignored. Current value: min_data_in_leaf=3000\n"
     ]
    },
    {
     "name": "stderr",
     "output_type": "stream",
     "text": [
      "c:\\Users\\User\\AppData\\Local\\Programs\\Python\\Python313\\Lib\\site-packages\\sklearn\\utils\\validation.py:2749: UserWarning: X does not have valid feature names, but LGBMRegressor was fitted with feature names\n",
      "  warnings.warn(\n"
     ]
    },
    {
     "name": "stdout",
     "output_type": "stream",
     "text": [
      "[LightGBM] [Warning] min_data_in_leaf is set=3000, min_child_samples=20 will be ignored. Current value: min_data_in_leaf=3000\n",
      "[LightGBM] [Warning] min_data_in_leaf is set=3000, min_child_samples=20 will be ignored. Current value: min_data_in_leaf=3000\n",
      "[LightGBM] [Info] Auto-choosing row-wise multi-threading, the overhead of testing was 0.005156 seconds.\n",
      "You can set `force_row_wise=true` to remove the overhead.\n",
      "And if memory is not enough, you can set `force_col_wise=true`.\n",
      "[LightGBM] [Info] Total Bins 1108\n",
      "[LightGBM] [Info] Number of data points in the train set: 819585, number of used features: 14\n",
      "[LightGBM] [Warning] min_data_in_leaf is set=3000, min_child_samples=20 will be ignored. Current value: min_data_in_leaf=3000\n",
      "[LightGBM] [Info] Start training from score 271.347611\n",
      "Training until validation scores don't improve for 150 rounds\n",
      "Early stopping, best iteration is:\n",
      "[1024]\tvalid_0's l1: 7.35028\tvalid_0's l2: 134.236\n",
      "[LightGBM] [Warning] min_data_in_leaf is set=3000, min_child_samples=20 will be ignored. Current value: min_data_in_leaf=3000\n"
     ]
    },
    {
     "name": "stderr",
     "output_type": "stream",
     "text": [
      "c:\\Users\\User\\AppData\\Local\\Programs\\Python\\Python313\\Lib\\site-packages\\sklearn\\utils\\validation.py:2749: UserWarning: X does not have valid feature names, but LGBMRegressor was fitted with feature names\n",
      "  warnings.warn(\n"
     ]
    },
    {
     "name": "stdout",
     "output_type": "stream",
     "text": [
      "[LightGBM] [Warning] min_data_in_leaf is set=3000, min_child_samples=20 will be ignored. Current value: min_data_in_leaf=3000\n",
      "[LightGBM] [Warning] min_data_in_leaf is set=3000, min_child_samples=20 will be ignored. Current value: min_data_in_leaf=3000\n",
      "[LightGBM] [Info] Auto-choosing row-wise multi-threading, the overhead of testing was 0.004708 seconds.\n",
      "You can set `force_row_wise=true` to remove the overhead.\n",
      "And if memory is not enough, you can set `force_col_wise=true`.\n",
      "[LightGBM] [Info] Total Bins 1107\n",
      "[LightGBM] [Info] Number of data points in the train set: 819585, number of used features: 14\n",
      "[LightGBM] [Warning] min_data_in_leaf is set=3000, min_child_samples=20 will be ignored. Current value: min_data_in_leaf=3000\n",
      "[LightGBM] [Info] Start training from score 271.631985\n",
      "Training until validation scores don't improve for 150 rounds\n",
      "Early stopping, best iteration is:\n",
      "[1856]\tvalid_0's l1: 7.57967\tvalid_0's l2: 142.605\n",
      "[LightGBM] [Warning] min_data_in_leaf is set=3000, min_child_samples=20 will be ignored. Current value: min_data_in_leaf=3000\n"
     ]
    },
    {
     "name": "stderr",
     "output_type": "stream",
     "text": [
      "c:\\Users\\User\\AppData\\Local\\Programs\\Python\\Python313\\Lib\\site-packages\\sklearn\\utils\\validation.py:2749: UserWarning: X does not have valid feature names, but LGBMRegressor was fitted with feature names\n",
      "  warnings.warn(\n"
     ]
    },
    {
     "name": "stdout",
     "output_type": "stream",
     "text": [
      "[LightGBM] [Warning] min_data_in_leaf is set=3000, min_child_samples=20 will be ignored. Current value: min_data_in_leaf=3000\n",
      "[LightGBM] [Warning] min_data_in_leaf is set=3000, min_child_samples=20 will be ignored. Current value: min_data_in_leaf=3000\n",
      "[LightGBM] [Info] Auto-choosing row-wise multi-threading, the overhead of testing was 0.003967 seconds.\n",
      "You can set `force_row_wise=true` to remove the overhead.\n",
      "And if memory is not enough, you can set `force_col_wise=true`.\n",
      "[LightGBM] [Info] Total Bins 1107\n",
      "[LightGBM] [Info] Number of data points in the train set: 819585, number of used features: 14\n",
      "[LightGBM] [Warning] min_data_in_leaf is set=3000, min_child_samples=20 will be ignored. Current value: min_data_in_leaf=3000\n",
      "[LightGBM] [Info] Start training from score 272.323663\n",
      "Training until validation scores don't improve for 150 rounds\n",
      "Early stopping, best iteration is:\n",
      "[1346]\tvalid_0's l1: 7.5361\tvalid_0's l2: 136.799\n",
      "[LightGBM] [Warning] min_data_in_leaf is set=3000, min_child_samples=20 will be ignored. Current value: min_data_in_leaf=3000\n"
     ]
    },
    {
     "name": "stderr",
     "output_type": "stream",
     "text": [
      "c:\\Users\\User\\AppData\\Local\\Programs\\Python\\Python313\\Lib\\site-packages\\sklearn\\utils\\validation.py:2749: UserWarning: X does not have valid feature names, but LGBMRegressor was fitted with feature names\n",
      "  warnings.warn(\n"
     ]
    },
    {
     "name": "stdout",
     "output_type": "stream",
     "text": [
      "[LightGBM] [Warning] min_data_in_leaf is set=3000, min_child_samples=20 will be ignored. Current value: min_data_in_leaf=3000\n",
      "[LightGBM] [Warning] min_data_in_leaf is set=3000, min_child_samples=20 will be ignored. Current value: min_data_in_leaf=3000\n",
      "[LightGBM] [Info] Auto-choosing row-wise multi-threading, the overhead of testing was 0.004222 seconds.\n",
      "You can set `force_row_wise=true` to remove the overhead.\n",
      "And if memory is not enough, you can set `force_col_wise=true`.\n",
      "[LightGBM] [Info] Total Bins 1107\n",
      "[LightGBM] [Info] Number of data points in the train set: 819585, number of used features: 14\n",
      "[LightGBM] [Warning] min_data_in_leaf is set=3000, min_child_samples=20 will be ignored. Current value: min_data_in_leaf=3000\n",
      "[LightGBM] [Info] Start training from score 270.174022\n",
      "Training until validation scores don't improve for 150 rounds\n",
      "Early stopping, best iteration is:\n",
      "[1962]\tvalid_0's l1: 8.00328\tvalid_0's l2: 151.007\n",
      "[LightGBM] [Warning] min_data_in_leaf is set=3000, min_child_samples=20 will be ignored. Current value: min_data_in_leaf=3000\n"
     ]
    },
    {
     "name": "stderr",
     "output_type": "stream",
     "text": [
      "c:\\Users\\User\\AppData\\Local\\Programs\\Python\\Python313\\Lib\\site-packages\\sklearn\\utils\\validation.py:2749: UserWarning: X does not have valid feature names, but LGBMRegressor was fitted with feature names\n",
      "  warnings.warn(\n"
     ]
    },
    {
     "name": "stdout",
     "output_type": "stream",
     "text": [
      "[LightGBM] [Warning] min_data_in_leaf is set=3000, min_child_samples=20 will be ignored. Current value: min_data_in_leaf=3000\n",
      "[LightGBM] [Warning] min_data_in_leaf is set=3000, min_child_samples=20 will be ignored. Current value: min_data_in_leaf=3000\n",
      "[LightGBM] [Info] Auto-choosing row-wise multi-threading, the overhead of testing was 0.005339 seconds.\n",
      "You can set `force_row_wise=true` to remove the overhead.\n",
      "And if memory is not enough, you can set `force_col_wise=true`.\n",
      "[LightGBM] [Info] Total Bins 1111\n",
      "[LightGBM] [Info] Number of data points in the train set: 819585, number of used features: 14\n",
      "[LightGBM] [Warning] min_data_in_leaf is set=3000, min_child_samples=20 will be ignored. Current value: min_data_in_leaf=3000\n",
      "[LightGBM] [Info] Start training from score 273.619955\n",
      "Training until validation scores don't improve for 150 rounds\n",
      "Early stopping, best iteration is:\n",
      "[1310]\tvalid_0's l1: 7.78116\tvalid_0's l2: 148.099\n",
      "[LightGBM] [Warning] min_data_in_leaf is set=3000, min_child_samples=20 will be ignored. Current value: min_data_in_leaf=3000\n"
     ]
    },
    {
     "name": "stderr",
     "output_type": "stream",
     "text": [
      "c:\\Users\\User\\AppData\\Local\\Programs\\Python\\Python313\\Lib\\site-packages\\sklearn\\utils\\validation.py:2749: UserWarning: X does not have valid feature names, but LGBMRegressor was fitted with feature names\n",
      "  warnings.warn(\n"
     ]
    },
    {
     "name": "stdout",
     "output_type": "stream",
     "text": [
      "[LightGBM] [Warning] min_data_in_leaf is set=3000, min_child_samples=20 will be ignored. Current value: min_data_in_leaf=3000\n",
      "[LightGBM] [Warning] min_data_in_leaf is set=3000, min_child_samples=20 will be ignored. Current value: min_data_in_leaf=3000\n",
      "[LightGBM] [Info] Auto-choosing row-wise multi-threading, the overhead of testing was 0.003490 seconds.\n",
      "You can set `force_row_wise=true` to remove the overhead.\n",
      "And if memory is not enough, you can set `force_col_wise=true`.\n",
      "[LightGBM] [Info] Total Bins 1111\n",
      "[LightGBM] [Info] Number of data points in the train set: 819585, number of used features: 14\n",
      "[LightGBM] [Warning] min_data_in_leaf is set=3000, min_child_samples=20 will be ignored. Current value: min_data_in_leaf=3000\n",
      "[LightGBM] [Info] Start training from score 273.448833\n",
      "Training until validation scores don't improve for 150 rounds\n",
      "Early stopping, best iteration is:\n",
      "[995]\tvalid_0's l1: 7.77975\tvalid_0's l2: 147.678\n",
      "[LightGBM] [Warning] min_data_in_leaf is set=3000, min_child_samples=20 will be ignored. Current value: min_data_in_leaf=3000\n"
     ]
    },
    {
     "name": "stderr",
     "output_type": "stream",
     "text": [
      "c:\\Users\\User\\AppData\\Local\\Programs\\Python\\Python313\\Lib\\site-packages\\sklearn\\utils\\validation.py:2749: UserWarning: X does not have valid feature names, but LGBMRegressor was fitted with feature names\n",
      "  warnings.warn(\n"
     ]
    },
    {
     "name": "stdout",
     "output_type": "stream",
     "text": [
      "[LightGBM] [Warning] min_data_in_leaf is set=3000, min_child_samples=20 will be ignored. Current value: min_data_in_leaf=3000\n",
      "[LightGBM] [Warning] min_data_in_leaf is set=3000, min_child_samples=20 will be ignored. Current value: min_data_in_leaf=3000\n",
      "[LightGBM] [Info] Auto-choosing row-wise multi-threading, the overhead of testing was 0.004822 seconds.\n",
      "You can set `force_row_wise=true` to remove the overhead.\n",
      "And if memory is not enough, you can set `force_col_wise=true`.\n",
      "[LightGBM] [Info] Total Bins 1107\n",
      "[LightGBM] [Info] Number of data points in the train set: 819585, number of used features: 14\n",
      "[LightGBM] [Warning] min_data_in_leaf is set=3000, min_child_samples=20 will be ignored. Current value: min_data_in_leaf=3000\n",
      "[LightGBM] [Info] Start training from score 270.788151\n",
      "Training until validation scores don't improve for 150 rounds\n",
      "Early stopping, best iteration is:\n",
      "[1625]\tvalid_0's l1: 7.97665\tvalid_0's l2: 150.571\n",
      "[LightGBM] [Warning] min_data_in_leaf is set=3000, min_child_samples=20 will be ignored. Current value: min_data_in_leaf=3000\n"
     ]
    },
    {
     "name": "stderr",
     "output_type": "stream",
     "text": [
      "c:\\Users\\User\\AppData\\Local\\Programs\\Python\\Python313\\Lib\\site-packages\\sklearn\\utils\\validation.py:2749: UserWarning: X does not have valid feature names, but LGBMRegressor was fitted with feature names\n",
      "  warnings.warn(\n"
     ]
    },
    {
     "name": "stdout",
     "output_type": "stream",
     "text": [
      "[LightGBM] [Warning] min_data_in_leaf is set=3000, min_child_samples=20 will be ignored. Current value: min_data_in_leaf=3000\n",
      "[LightGBM] [Warning] min_data_in_leaf is set=3000, min_child_samples=20 will be ignored. Current value: min_data_in_leaf=3000\n",
      "[LightGBM] [Info] Auto-choosing row-wise multi-threading, the overhead of testing was 0.006148 seconds.\n",
      "You can set `force_row_wise=true` to remove the overhead.\n",
      "And if memory is not enough, you can set `force_col_wise=true`.\n",
      "[LightGBM] [Info] Total Bins 1107\n",
      "[LightGBM] [Info] Number of data points in the train set: 819585, number of used features: 14\n",
      "[LightGBM] [Warning] min_data_in_leaf is set=3000, min_child_samples=20 will be ignored. Current value: min_data_in_leaf=3000\n",
      "[LightGBM] [Info] Start training from score 273.727424\n",
      "Training until validation scores don't improve for 150 rounds\n",
      "Early stopping, best iteration is:\n",
      "[1120]\tvalid_0's l1: 7.82365\tvalid_0's l2: 148.497\n",
      "[LightGBM] [Warning] min_data_in_leaf is set=3000, min_child_samples=20 will be ignored. Current value: min_data_in_leaf=3000\n"
     ]
    },
    {
     "name": "stderr",
     "output_type": "stream",
     "text": [
      "c:\\Users\\User\\AppData\\Local\\Programs\\Python\\Python313\\Lib\\site-packages\\sklearn\\utils\\validation.py:2749: UserWarning: X does not have valid feature names, but LGBMRegressor was fitted with feature names\n",
      "  warnings.warn(\n"
     ]
    },
    {
     "name": "stdout",
     "output_type": "stream",
     "text": [
      "[LightGBM] [Warning] min_data_in_leaf is set=3000, min_child_samples=20 will be ignored. Current value: min_data_in_leaf=3000\n",
      "[LightGBM] [Warning] min_data_in_leaf is set=3000, min_child_samples=20 will be ignored. Current value: min_data_in_leaf=3000\n",
      "[LightGBM] [Info] Auto-choosing row-wise multi-threading, the overhead of testing was 0.003935 seconds.\n",
      "You can set `force_row_wise=true` to remove the overhead.\n",
      "And if memory is not enough, you can set `force_col_wise=true`.\n",
      "[LightGBM] [Info] Total Bins 1107\n",
      "[LightGBM] [Info] Number of data points in the train set: 819585, number of used features: 14\n",
      "[LightGBM] [Warning] min_data_in_leaf is set=3000, min_child_samples=20 will be ignored. Current value: min_data_in_leaf=3000\n",
      "[LightGBM] [Info] Start training from score 268.549354\n",
      "Training until validation scores don't improve for 150 rounds\n",
      "Early stopping, best iteration is:\n",
      "[1118]\tvalid_0's l1: 7.8867\tvalid_0's l2: 147.321\n",
      "[LightGBM] [Warning] min_data_in_leaf is set=3000, min_child_samples=20 will be ignored. Current value: min_data_in_leaf=3000\n"
     ]
    },
    {
     "name": "stderr",
     "output_type": "stream",
     "text": [
      "c:\\Users\\User\\AppData\\Local\\Programs\\Python\\Python313\\Lib\\site-packages\\sklearn\\utils\\validation.py:2749: UserWarning: X does not have valid feature names, but LGBMRegressor was fitted with feature names\n",
      "  warnings.warn(\n"
     ]
    },
    {
     "name": "stdout",
     "output_type": "stream",
     "text": [
      "[LightGBM] [Warning] min_data_in_leaf is set=3000, min_child_samples=20 will be ignored. Current value: min_data_in_leaf=3000\n",
      "[LightGBM] [Warning] min_data_in_leaf is set=3000, min_child_samples=20 will be ignored. Current value: min_data_in_leaf=3000\n",
      "[LightGBM] [Info] Auto-choosing row-wise multi-threading, the overhead of testing was 0.005906 seconds.\n",
      "You can set `force_row_wise=true` to remove the overhead.\n",
      "And if memory is not enough, you can set `force_col_wise=true`.\n",
      "[LightGBM] [Info] Total Bins 1107\n",
      "[LightGBM] [Info] Number of data points in the train set: 819585, number of used features: 14\n",
      "[LightGBM] [Warning] min_data_in_leaf is set=3000, min_child_samples=20 will be ignored. Current value: min_data_in_leaf=3000\n",
      "[LightGBM] [Info] Start training from score 271.246760\n",
      "Training until validation scores don't improve for 150 rounds\n",
      "Early stopping, best iteration is:\n",
      "[2131]\tvalid_0's l1: 7.9687\tvalid_0's l2: 150.9\n",
      "[LightGBM] [Warning] min_data_in_leaf is set=3000, min_child_samples=20 will be ignored. Current value: min_data_in_leaf=3000\n"
     ]
    },
    {
     "name": "stderr",
     "output_type": "stream",
     "text": [
      "c:\\Users\\User\\AppData\\Local\\Programs\\Python\\Python313\\Lib\\site-packages\\sklearn\\utils\\validation.py:2749: UserWarning: X does not have valid feature names, but LGBMRegressor was fitted with feature names\n",
      "  warnings.warn(\n"
     ]
    },
    {
     "name": "stdout",
     "output_type": "stream",
     "text": [
      "[LightGBM] [Warning] min_data_in_leaf is set=3000, min_child_samples=20 will be ignored. Current value: min_data_in_leaf=3000\n",
      "[LightGBM] [Warning] min_data_in_leaf is set=3000, min_child_samples=20 will be ignored. Current value: min_data_in_leaf=3000\n",
      "[LightGBM] [Info] Auto-choosing row-wise multi-threading, the overhead of testing was 0.005062 seconds.\n",
      "You can set `force_row_wise=true` to remove the overhead.\n",
      "And if memory is not enough, you can set `force_col_wise=true`.\n",
      "[LightGBM] [Info] Total Bins 1107\n",
      "[LightGBM] [Info] Number of data points in the train set: 819585, number of used features: 14\n",
      "[LightGBM] [Warning] min_data_in_leaf is set=3000, min_child_samples=20 will be ignored. Current value: min_data_in_leaf=3000\n",
      "[LightGBM] [Info] Start training from score 272.202964\n",
      "Training until validation scores don't improve for 150 rounds\n",
      "Early stopping, best iteration is:\n",
      "[935]\tvalid_0's l1: 7.61077\tvalid_0's l2: 143.382\n",
      "[LightGBM] [Warning] min_data_in_leaf is set=3000, min_child_samples=20 will be ignored. Current value: min_data_in_leaf=3000\n"
     ]
    },
    {
     "name": "stderr",
     "output_type": "stream",
     "text": [
      "c:\\Users\\User\\AppData\\Local\\Programs\\Python\\Python313\\Lib\\site-packages\\sklearn\\utils\\validation.py:2749: UserWarning: X does not have valid feature names, but LGBMRegressor was fitted with feature names\n",
      "  warnings.warn(\n"
     ]
    },
    {
     "name": "stdout",
     "output_type": "stream",
     "text": [
      "[LightGBM] [Warning] min_data_in_leaf is set=3000, min_child_samples=20 will be ignored. Current value: min_data_in_leaf=3000\n",
      "[LightGBM] [Warning] min_data_in_leaf is set=3000, min_child_samples=20 will be ignored. Current value: min_data_in_leaf=3000\n",
      "[LightGBM] [Info] Auto-choosing row-wise multi-threading, the overhead of testing was 0.004940 seconds.\n",
      "You can set `force_row_wise=true` to remove the overhead.\n",
      "And if memory is not enough, you can set `force_col_wise=true`.\n",
      "[LightGBM] [Info] Total Bins 1107\n",
      "[LightGBM] [Info] Number of data points in the train set: 819585, number of used features: 14\n",
      "[LightGBM] [Warning] min_data_in_leaf is set=3000, min_child_samples=20 will be ignored. Current value: min_data_in_leaf=3000\n",
      "[LightGBM] [Info] Start training from score 272.609537\n",
      "Training until validation scores don't improve for 150 rounds\n",
      "Early stopping, best iteration is:\n",
      "[2305]\tvalid_0's l1: 7.44865\tvalid_0's l2: 134.123\n",
      "[LightGBM] [Warning] min_data_in_leaf is set=3000, min_child_samples=20 will be ignored. Current value: min_data_in_leaf=3000\n"
     ]
    },
    {
     "name": "stderr",
     "output_type": "stream",
     "text": [
      "c:\\Users\\User\\AppData\\Local\\Programs\\Python\\Python313\\Lib\\site-packages\\sklearn\\utils\\validation.py:2749: UserWarning: X does not have valid feature names, but LGBMRegressor was fitted with feature names\n",
      "  warnings.warn(\n"
     ]
    },
    {
     "name": "stdout",
     "output_type": "stream",
     "text": [
      "[LightGBM] [Warning] min_data_in_leaf is set=3000, min_child_samples=20 will be ignored. Current value: min_data_in_leaf=3000\n",
      "[LightGBM] [Warning] min_data_in_leaf is set=3000, min_child_samples=20 will be ignored. Current value: min_data_in_leaf=3000\n",
      "[LightGBM] [Info] Auto-choosing row-wise multi-threading, the overhead of testing was 0.004144 seconds.\n",
      "You can set `force_row_wise=true` to remove the overhead.\n",
      "And if memory is not enough, you can set `force_col_wise=true`.\n",
      "[LightGBM] [Info] Total Bins 1107\n",
      "[LightGBM] [Info] Number of data points in the train set: 819585, number of used features: 14\n",
      "[LightGBM] [Warning] min_data_in_leaf is set=3000, min_child_samples=20 will be ignored. Current value: min_data_in_leaf=3000\n",
      "[LightGBM] [Info] Start training from score 270.436684\n",
      "Training until validation scores don't improve for 150 rounds\n",
      "Early stopping, best iteration is:\n",
      "[1363]\tvalid_0's l1: 7.1427\tvalid_0's l2: 115.852\n",
      "[LightGBM] [Warning] min_data_in_leaf is set=3000, min_child_samples=20 will be ignored. Current value: min_data_in_leaf=3000\n"
     ]
    },
    {
     "name": "stderr",
     "output_type": "stream",
     "text": [
      "c:\\Users\\User\\AppData\\Local\\Programs\\Python\\Python313\\Lib\\site-packages\\sklearn\\utils\\validation.py:2749: UserWarning: X does not have valid feature names, but LGBMRegressor was fitted with feature names\n",
      "  warnings.warn(\n"
     ]
    },
    {
     "name": "stdout",
     "output_type": "stream",
     "text": [
      "=== LOCO MAE by held-out city (sorted best→worst) ===\n",
      "            City     n    MAE\n",
      "     DarEsSalaam 47929  6.007\n",
      "           Accra 47929  7.341\n",
      "      LagosState 47929  9.063\n",
      "           Lagos 47929  9.247\n",
      "GreatDhakaRegion 47929  9.729\n",
      "         Colombo 47929 11.159\n",
      "          Beirut 47929 12.325\n",
      "          Panama 47929 12.760\n",
      "         Antigua 47929 13.443\n",
      "         Nairobi 47929 13.891\n",
      "          Manila 47929 15.607\n",
      "         Grenada 47929 16.982\n",
      "        Maldives 47929 17.376\n",
      "       Samarkand 47929 20.167\n",
      "           Izmir 47929 20.705\n",
      "     SouthAfrica 47929 23.397\n",
      "        Honduras 47929 24.445\n",
      "     Mexico City 47929 34.833\n",
      "         Karachi 47929 37.114\n",
      "          Almaty 47929 39.992\n",
      "\n",
      "LOCO Macro-MAE (mean across 20 cities): 17.779\n",
      "LOCO Micro-MAE (overall): 17.779\n",
      "\n",
      "Saved: artifacts/loco_lgbm_l2_smooth_mae.csv\n"
     ]
    }
   ],
   "source": [
    "# === LOCO (Leave-One-City-Out) with best L2 LightGBM config ===\n",
    "import pandas as pd, numpy as np\n",
    "from pathlib import Path\n",
    "from sklearn.model_selection import train_test_split\n",
    "from sklearn.preprocessing import OneHotEncoder, StandardScaler\n",
    "from sklearn.compose import ColumnTransformer\n",
    "from sklearn.metrics import mean_absolute_error\n",
    "from lightgbm import LGBMRegressor, early_stopping, log_evaluation\n",
    "\n",
    "DATA = Path(\"C:/Users/User/Desktop/ML/Project/solar-potential-analysis-github-setup/New_approach/dataset/cleaned_datasets/top20_balanced_sample.parquet\")\n",
    "OUT  = Path(\"artifacts\"); OUT.mkdir(parents=True, exist_ok=True)\n",
    "\n",
    "# Load\n",
    "cols = [\"City\",\"BuildingType_5\",\"kWh_per_m2\",\n",
    "        \"tilt\",\"tilt2\",\"tilt_sin\",\"tilt_cos\",\n",
    "        \"GHI_kWh_per_m2_day\",\"AvgTemp_C\",\"ClearnessIndex\",\"Precip_mm_per_day\"]\n",
    "df = pd.read_parquet(DATA, columns=cols).copy()\n",
    "\n",
    "TARGET = \"kWh_per_m2\"\n",
    "CAT = [\"BuildingType_5\"]\n",
    "NUM = [\"tilt\",\"tilt2\",\"tilt_sin\",\"tilt_cos\",\"GHI_kWh_per_m2_day\",\"AvgTemp_C\",\"ClearnessIndex\",\"Precip_mm_per_day\"]\n",
    "\n",
    "cities = df[\"City\"].astype(str).unique().tolist()\n",
    "results = []\n",
    "\n",
    "for city in sorted(cities):\n",
    "    # Split LOCO\n",
    "    test = df[df[\"City\"] == city].copy()\n",
    "    train = df[df[\"City\"] != city].copy()\n",
    "\n",
    "    # Preprocess (fit on train only)\n",
    "    pre = ColumnTransformer([\n",
    "        (\"num\", StandardScaler(), NUM),\n",
    "        (\"cat\", OneHotEncoder(handle_unknown=\"ignore\", sparse_output=False), CAT),\n",
    "    ])\n",
    "    Xtr_full = train[CAT+NUM]\n",
    "    ytr_full = train[TARGET].values.astype(float)\n",
    "    Xte = test[CAT+NUM]\n",
    "    yte = test[TARGET].values.astype(float)\n",
    "\n",
    "    # small validation from train cities only (no leakage)\n",
    "    Xtr, Xval, ytr, yval = train_test_split(\n",
    "        Xtr_full, ytr_full, test_size=0.10, random_state=42\n",
    "    )\n",
    "\n",
    "    Xt_tr  = pre.fit_transform(Xtr)\n",
    "    Xt_val = pre.transform(Xval)\n",
    "    Xt_te  = pre.transform(Xte)\n",
    "\n",
    "    # Best L2 config from your CV sweep (smoother leaves)\n",
    "    model = LGBMRegressor(\n",
    "        objective=\"regression\",       # L2/MSE\n",
    "        n_estimators=3000,\n",
    "        learning_rate=0.03,\n",
    "        num_leaves=31,\n",
    "        min_data_in_leaf=3000,\n",
    "        subsample=0.8,\n",
    "        colsample_bytree=0.8,\n",
    "        reg_lambda=1.0,\n",
    "        random_state=42,\n",
    "        n_jobs=-1,\n",
    "    )\n",
    "    model.fit(\n",
    "        Xt_tr, ytr,\n",
    "        eval_set=[(Xt_val, yval)],\n",
    "        eval_metric=\"l1\",\n",
    "        callbacks=[early_stopping(stopping_rounds=150), log_evaluation(period=0)],\n",
    "    )\n",
    "    pred = model.predict(Xt_te, num_iteration=model.best_iteration_)\n",
    "    mae  = mean_absolute_error(yte, pred)\n",
    "\n",
    "    results.append({\"City\": city, \"MAE\": mae, \"iters\": model.best_iteration_})\n",
    "\n",
    "# Summaries\n",
    "res = pd.DataFrame(results).sort_values(\"MAE\").reset_index(drop=True)\n",
    "macro_mae = res[\"MAE\"].mean()\n",
    "# micro-MAE weights by city size:\n",
    "sizes = df.groupby(\"City\").size().rename(\"n\").reset_index()\n",
    "res = res.merge(sizes, on=\"City\", how=\"left\")\n",
    "micro_mae = (res[\"MAE\"] * res[\"n\"]).sum() / res[\"n\"].sum()\n",
    "\n",
    "print(\"=== LOCO MAE by held-out city (sorted best→worst) ===\")\n",
    "print(res[[\"City\",\"n\",\"MAE\"]].to_string(index=False,\n",
    "      formatters={\"MAE\": lambda x: f\"{x:.3f}\"}))\n",
    "print(f\"\\nLOCO Macro-MAE (mean across 20 cities): {macro_mae:.3f}\")\n",
    "print(f\"LOCO Micro-MAE (overall): {micro_mae:.3f}\")\n",
    "\n",
    "# Save\n",
    "out_csv = OUT / \"loco_lgbm_l2_smooth_mae.csv\"\n",
    "res.to_csv(out_csv, index=False)\n",
    "print(\"\\nSaved:\", out_csv.as_posix())\n"
   ]
  },
  {
   "cell_type": "code",
   "execution_count": 9,
   "id": "b0f36fab",
   "metadata": {},
   "outputs": [
    {
     "name": "stdout",
     "output_type": "stream",
     "text": [
      "[LightGBM] [Warning] min_data_in_leaf is set=3000, min_child_samples=20 will be ignored. Current value: min_data_in_leaf=3000\n",
      "[LightGBM] [Warning] min_data_in_leaf is set=3000, min_child_samples=20 will be ignored. Current value: min_data_in_leaf=3000\n",
      "[LightGBM] [Info] Auto-choosing row-wise multi-threading, the overhead of testing was 0.003897 seconds.\n",
      "You can set `force_row_wise=true` to remove the overhead.\n",
      "And if memory is not enough, you can set `force_col_wise=true`.\n",
      "[LightGBM] [Info] Total Bins 1107\n",
      "[LightGBM] [Info] Number of data points in the train set: 819585, number of used features: 14\n",
      "[LightGBM] [Warning] min_data_in_leaf is set=3000, min_child_samples=20 will be ignored. Current value: min_data_in_leaf=3000\n",
      "[LightGBM] [Info] Start training from score 272.169051\n",
      "Training until validation scores don't improve for 150 rounds\n",
      "Early stopping, best iteration is:\n",
      "[1888]\tvalid_0's l1: 7.83268\tvalid_0's l2: 147.955\n",
      "[LightGBM] [Warning] min_data_in_leaf is set=3000, min_child_samples=20 will be ignored. Current value: min_data_in_leaf=3000\n"
     ]
    },
    {
     "name": "stderr",
     "output_type": "stream",
     "text": [
      "c:\\Users\\User\\AppData\\Local\\Programs\\Python\\Python313\\Lib\\site-packages\\sklearn\\utils\\validation.py:2749: UserWarning: X does not have valid feature names, but LGBMRegressor was fitted with feature names\n",
      "  warnings.warn(\n"
     ]
    },
    {
     "name": "stdout",
     "output_type": "stream",
     "text": [
      "[LightGBM] [Warning] min_data_in_leaf is set=3000, min_child_samples=20 will be ignored. Current value: min_data_in_leaf=3000\n",
      "[LightGBM] [Warning] min_data_in_leaf is set=3000, min_child_samples=20 will be ignored. Current value: min_data_in_leaf=3000\n",
      "[LightGBM] [Info] Auto-choosing row-wise multi-threading, the overhead of testing was 0.005395 seconds.\n",
      "You can set `force_row_wise=true` to remove the overhead.\n",
      "And if memory is not enough, you can set `force_col_wise=true`.\n",
      "[LightGBM] [Info] Total Bins 1107\n",
      "[LightGBM] [Info] Number of data points in the train set: 819585, number of used features: 14\n",
      "[LightGBM] [Warning] min_data_in_leaf is set=3000, min_child_samples=20 will be ignored. Current value: min_data_in_leaf=3000\n",
      "[LightGBM] [Info] Start training from score 273.898541\n",
      "Training until validation scores don't improve for 150 rounds\n",
      "Early stopping, best iteration is:\n",
      "[1800]\tvalid_0's l1: 7.51307\tvalid_0's l2: 133.402\n",
      "[LightGBM] [Warning] min_data_in_leaf is set=3000, min_child_samples=20 will be ignored. Current value: min_data_in_leaf=3000\n"
     ]
    },
    {
     "name": "stderr",
     "output_type": "stream",
     "text": [
      "c:\\Users\\User\\AppData\\Local\\Programs\\Python\\Python313\\Lib\\site-packages\\sklearn\\utils\\validation.py:2749: UserWarning: X does not have valid feature names, but LGBMRegressor was fitted with feature names\n",
      "  warnings.warn(\n"
     ]
    },
    {
     "name": "stdout",
     "output_type": "stream",
     "text": [
      "[LightGBM] [Warning] min_data_in_leaf is set=3000, min_child_samples=20 will be ignored. Current value: min_data_in_leaf=3000\n",
      "[LightGBM] [Warning] min_data_in_leaf is set=3000, min_child_samples=20 will be ignored. Current value: min_data_in_leaf=3000\n",
      "[LightGBM] [Info] Auto-choosing row-wise multi-threading, the overhead of testing was 0.004784 seconds.\n",
      "You can set `force_row_wise=true` to remove the overhead.\n",
      "And if memory is not enough, you can set `force_col_wise=true`.\n",
      "[LightGBM] [Info] Total Bins 1107\n",
      "[LightGBM] [Info] Number of data points in the train set: 819585, number of used features: 14\n",
      "[LightGBM] [Warning] min_data_in_leaf is set=3000, min_child_samples=20 will be ignored. Current value: min_data_in_leaf=3000\n",
      "[LightGBM] [Info] Start training from score 270.805649\n",
      "Training until validation scores don't improve for 150 rounds\n",
      "Early stopping, best iteration is:\n",
      "[1856]\tvalid_0's l1: 7.60404\tvalid_0's l2: 141.653\n",
      "[LightGBM] [Warning] min_data_in_leaf is set=3000, min_child_samples=20 will be ignored. Current value: min_data_in_leaf=3000\n"
     ]
    },
    {
     "name": "stderr",
     "output_type": "stream",
     "text": [
      "c:\\Users\\User\\AppData\\Local\\Programs\\Python\\Python313\\Lib\\site-packages\\sklearn\\utils\\validation.py:2749: UserWarning: X does not have valid feature names, but LGBMRegressor was fitted with feature names\n",
      "  warnings.warn(\n"
     ]
    },
    {
     "name": "stdout",
     "output_type": "stream",
     "text": [
      "[LightGBM] [Warning] min_data_in_leaf is set=3000, min_child_samples=20 will be ignored. Current value: min_data_in_leaf=3000\n",
      "[LightGBM] [Warning] min_data_in_leaf is set=3000, min_child_samples=20 will be ignored. Current value: min_data_in_leaf=3000\n",
      "[LightGBM] [Info] Auto-choosing row-wise multi-threading, the overhead of testing was 0.005584 seconds.\n",
      "You can set `force_row_wise=true` to remove the overhead.\n",
      "And if memory is not enough, you can set `force_col_wise=true`.\n",
      "[LightGBM] [Info] Total Bins 1108\n",
      "[LightGBM] [Info] Number of data points in the train set: 819585, number of used features: 14\n",
      "[LightGBM] [Warning] min_data_in_leaf is set=3000, min_child_samples=20 will be ignored. Current value: min_data_in_leaf=3000\n",
      "[LightGBM] [Info] Start training from score 273.747613\n",
      "Training until validation scores don't improve for 150 rounds\n",
      "Early stopping, best iteration is:\n",
      "[1219]\tvalid_0's l1: 7.73658\tvalid_0's l2: 144.996\n",
      "[LightGBM] [Warning] min_data_in_leaf is set=3000, min_child_samples=20 will be ignored. Current value: min_data_in_leaf=3000\n"
     ]
    },
    {
     "name": "stderr",
     "output_type": "stream",
     "text": [
      "c:\\Users\\User\\AppData\\Local\\Programs\\Python\\Python313\\Lib\\site-packages\\sklearn\\utils\\validation.py:2749: UserWarning: X does not have valid feature names, but LGBMRegressor was fitted with feature names\n",
      "  warnings.warn(\n"
     ]
    },
    {
     "name": "stdout",
     "output_type": "stream",
     "text": [
      "[LightGBM] [Warning] min_data_in_leaf is set=3000, min_child_samples=20 will be ignored. Current value: min_data_in_leaf=3000\n",
      "[LightGBM] [Warning] min_data_in_leaf is set=3000, min_child_samples=20 will be ignored. Current value: min_data_in_leaf=3000\n",
      "[LightGBM] [Info] Auto-choosing row-wise multi-threading, the overhead of testing was 0.004549 seconds.\n",
      "You can set `force_row_wise=true` to remove the overhead.\n",
      "And if memory is not enough, you can set `force_col_wise=true`.\n",
      "[LightGBM] [Info] Total Bins 1107\n",
      "[LightGBM] [Info] Number of data points in the train set: 819585, number of used features: 14\n",
      "[LightGBM] [Warning] min_data_in_leaf is set=3000, min_child_samples=20 will be ignored. Current value: min_data_in_leaf=3000\n",
      "[LightGBM] [Info] Start training from score 271.562076\n",
      "Training until validation scores don't improve for 150 rounds\n",
      "Early stopping, best iteration is:\n",
      "[1311]\tvalid_0's l1: 7.95923\tvalid_0's l2: 148.998\n",
      "[LightGBM] [Warning] min_data_in_leaf is set=3000, min_child_samples=20 will be ignored. Current value: min_data_in_leaf=3000\n"
     ]
    },
    {
     "name": "stderr",
     "output_type": "stream",
     "text": [
      "c:\\Users\\User\\AppData\\Local\\Programs\\Python\\Python313\\Lib\\site-packages\\sklearn\\utils\\validation.py:2749: UserWarning: X does not have valid feature names, but LGBMRegressor was fitted with feature names\n",
      "  warnings.warn(\n"
     ]
    },
    {
     "name": "stdout",
     "output_type": "stream",
     "text": [
      "[LightGBM] [Warning] min_data_in_leaf is set=3000, min_child_samples=20 will be ignored. Current value: min_data_in_leaf=3000\n",
      "[LightGBM] [Warning] min_data_in_leaf is set=3000, min_child_samples=20 will be ignored. Current value: min_data_in_leaf=3000\n",
      "[LightGBM] [Info] Auto-choosing row-wise multi-threading, the overhead of testing was 0.004106 seconds.\n",
      "You can set `force_row_wise=true` to remove the overhead.\n",
      "And if memory is not enough, you can set `force_col_wise=true`.\n",
      "[LightGBM] [Info] Total Bins 1107\n",
      "[LightGBM] [Info] Number of data points in the train set: 819585, number of used features: 14\n",
      "[LightGBM] [Warning] min_data_in_leaf is set=3000, min_child_samples=20 will be ignored. Current value: min_data_in_leaf=3000\n",
      "[LightGBM] [Info] Start training from score 271.437339\n",
      "Training until validation scores don't improve for 150 rounds\n",
      "Early stopping, best iteration is:\n",
      "[1157]\tvalid_0's l1: 7.95203\tvalid_0's l2: 148.838\n",
      "[LightGBM] [Warning] min_data_in_leaf is set=3000, min_child_samples=20 will be ignored. Current value: min_data_in_leaf=3000\n"
     ]
    },
    {
     "name": "stderr",
     "output_type": "stream",
     "text": [
      "c:\\Users\\User\\AppData\\Local\\Programs\\Python\\Python313\\Lib\\site-packages\\sklearn\\utils\\validation.py:2749: UserWarning: X does not have valid feature names, but LGBMRegressor was fitted with feature names\n",
      "  warnings.warn(\n"
     ]
    },
    {
     "name": "stdout",
     "output_type": "stream",
     "text": [
      "[LightGBM] [Warning] min_data_in_leaf is set=3000, min_child_samples=20 will be ignored. Current value: min_data_in_leaf=3000\n",
      "[LightGBM] [Warning] min_data_in_leaf is set=3000, min_child_samples=20 will be ignored. Current value: min_data_in_leaf=3000\n",
      "[LightGBM] [Info] Auto-choosing row-wise multi-threading, the overhead of testing was 0.004919 seconds.\n",
      "You can set `force_row_wise=true` to remove the overhead.\n",
      "And if memory is not enough, you can set `force_col_wise=true`.\n",
      "[LightGBM] [Info] Total Bins 1107\n",
      "[LightGBM] [Info] Number of data points in the train set: 819585, number of used features: 14\n",
      "[LightGBM] [Warning] min_data_in_leaf is set=3000, min_child_samples=20 will be ignored. Current value: min_data_in_leaf=3000\n",
      "[LightGBM] [Info] Start training from score 273.720206\n",
      "Training until validation scores don't improve for 150 rounds\n",
      "Early stopping, best iteration is:\n",
      "[977]\tvalid_0's l1: 7.72157\tvalid_0's l2: 143.836\n",
      "[LightGBM] [Warning] min_data_in_leaf is set=3000, min_child_samples=20 will be ignored. Current value: min_data_in_leaf=3000\n"
     ]
    },
    {
     "name": "stderr",
     "output_type": "stream",
     "text": [
      "c:\\Users\\User\\AppData\\Local\\Programs\\Python\\Python313\\Lib\\site-packages\\sklearn\\utils\\validation.py:2749: UserWarning: X does not have valid feature names, but LGBMRegressor was fitted with feature names\n",
      "  warnings.warn(\n"
     ]
    },
    {
     "name": "stdout",
     "output_type": "stream",
     "text": [
      "[LightGBM] [Warning] min_data_in_leaf is set=3000, min_child_samples=20 will be ignored. Current value: min_data_in_leaf=3000\n",
      "[LightGBM] [Warning] min_data_in_leaf is set=3000, min_child_samples=20 will be ignored. Current value: min_data_in_leaf=3000\n",
      "[LightGBM] [Info] Auto-choosing row-wise multi-threading, the overhead of testing was 0.004749 seconds.\n",
      "You can set `force_row_wise=true` to remove the overhead.\n",
      "And if memory is not enough, you can set `force_col_wise=true`.\n",
      "[LightGBM] [Info] Total Bins 1108\n",
      "[LightGBM] [Info] Number of data points in the train set: 819585, number of used features: 14\n",
      "[LightGBM] [Warning] min_data_in_leaf is set=3000, min_child_samples=20 will be ignored. Current value: min_data_in_leaf=3000\n",
      "[LightGBM] [Info] Start training from score 271.347611\n",
      "Training until validation scores don't improve for 150 rounds\n",
      "Early stopping, best iteration is:\n",
      "[1024]\tvalid_0's l1: 7.35028\tvalid_0's l2: 134.236\n",
      "[LightGBM] [Warning] min_data_in_leaf is set=3000, min_child_samples=20 will be ignored. Current value: min_data_in_leaf=3000\n"
     ]
    },
    {
     "name": "stderr",
     "output_type": "stream",
     "text": [
      "c:\\Users\\User\\AppData\\Local\\Programs\\Python\\Python313\\Lib\\site-packages\\sklearn\\utils\\validation.py:2749: UserWarning: X does not have valid feature names, but LGBMRegressor was fitted with feature names\n",
      "  warnings.warn(\n"
     ]
    },
    {
     "name": "stdout",
     "output_type": "stream",
     "text": [
      "[LightGBM] [Warning] min_data_in_leaf is set=3000, min_child_samples=20 will be ignored. Current value: min_data_in_leaf=3000\n",
      "[LightGBM] [Warning] min_data_in_leaf is set=3000, min_child_samples=20 will be ignored. Current value: min_data_in_leaf=3000\n",
      "[LightGBM] [Info] Auto-choosing row-wise multi-threading, the overhead of testing was 0.005307 seconds.\n",
      "You can set `force_row_wise=true` to remove the overhead.\n",
      "And if memory is not enough, you can set `force_col_wise=true`.\n",
      "[LightGBM] [Info] Total Bins 1107\n",
      "[LightGBM] [Info] Number of data points in the train set: 819585, number of used features: 14\n",
      "[LightGBM] [Warning] min_data_in_leaf is set=3000, min_child_samples=20 will be ignored. Current value: min_data_in_leaf=3000\n",
      "[LightGBM] [Info] Start training from score 271.631985\n",
      "Training until validation scores don't improve for 150 rounds\n",
      "Early stopping, best iteration is:\n",
      "[1856]\tvalid_0's l1: 7.57967\tvalid_0's l2: 142.605\n",
      "[LightGBM] [Warning] min_data_in_leaf is set=3000, min_child_samples=20 will be ignored. Current value: min_data_in_leaf=3000\n"
     ]
    },
    {
     "name": "stderr",
     "output_type": "stream",
     "text": [
      "c:\\Users\\User\\AppData\\Local\\Programs\\Python\\Python313\\Lib\\site-packages\\sklearn\\utils\\validation.py:2749: UserWarning: X does not have valid feature names, but LGBMRegressor was fitted with feature names\n",
      "  warnings.warn(\n"
     ]
    },
    {
     "name": "stdout",
     "output_type": "stream",
     "text": [
      "[LightGBM] [Warning] min_data_in_leaf is set=3000, min_child_samples=20 will be ignored. Current value: min_data_in_leaf=3000\n",
      "[LightGBM] [Warning] min_data_in_leaf is set=3000, min_child_samples=20 will be ignored. Current value: min_data_in_leaf=3000\n",
      "[LightGBM] [Info] Auto-choosing row-wise multi-threading, the overhead of testing was 0.004625 seconds.\n",
      "You can set `force_row_wise=true` to remove the overhead.\n",
      "And if memory is not enough, you can set `force_col_wise=true`.\n",
      "[LightGBM] [Info] Total Bins 1107\n",
      "[LightGBM] [Info] Number of data points in the train set: 819585, number of used features: 14\n",
      "[LightGBM] [Warning] min_data_in_leaf is set=3000, min_child_samples=20 will be ignored. Current value: min_data_in_leaf=3000\n",
      "[LightGBM] [Info] Start training from score 272.323663\n",
      "Training until validation scores don't improve for 150 rounds\n",
      "Early stopping, best iteration is:\n",
      "[1346]\tvalid_0's l1: 7.5361\tvalid_0's l2: 136.799\n",
      "[LightGBM] [Warning] min_data_in_leaf is set=3000, min_child_samples=20 will be ignored. Current value: min_data_in_leaf=3000\n"
     ]
    },
    {
     "name": "stderr",
     "output_type": "stream",
     "text": [
      "c:\\Users\\User\\AppData\\Local\\Programs\\Python\\Python313\\Lib\\site-packages\\sklearn\\utils\\validation.py:2749: UserWarning: X does not have valid feature names, but LGBMRegressor was fitted with feature names\n",
      "  warnings.warn(\n"
     ]
    },
    {
     "name": "stdout",
     "output_type": "stream",
     "text": [
      "[LightGBM] [Warning] min_data_in_leaf is set=3000, min_child_samples=20 will be ignored. Current value: min_data_in_leaf=3000\n",
      "[LightGBM] [Warning] min_data_in_leaf is set=3000, min_child_samples=20 will be ignored. Current value: min_data_in_leaf=3000\n",
      "[LightGBM] [Info] Auto-choosing row-wise multi-threading, the overhead of testing was 0.004351 seconds.\n",
      "You can set `force_row_wise=true` to remove the overhead.\n",
      "And if memory is not enough, you can set `force_col_wise=true`.\n",
      "[LightGBM] [Info] Total Bins 1107\n",
      "[LightGBM] [Info] Number of data points in the train set: 819585, number of used features: 14\n",
      "[LightGBM] [Warning] min_data_in_leaf is set=3000, min_child_samples=20 will be ignored. Current value: min_data_in_leaf=3000\n",
      "[LightGBM] [Info] Start training from score 270.174022\n",
      "Training until validation scores don't improve for 150 rounds\n",
      "Early stopping, best iteration is:\n",
      "[1962]\tvalid_0's l1: 8.00328\tvalid_0's l2: 151.007\n",
      "[LightGBM] [Warning] min_data_in_leaf is set=3000, min_child_samples=20 will be ignored. Current value: min_data_in_leaf=3000\n"
     ]
    },
    {
     "name": "stderr",
     "output_type": "stream",
     "text": [
      "c:\\Users\\User\\AppData\\Local\\Programs\\Python\\Python313\\Lib\\site-packages\\sklearn\\utils\\validation.py:2749: UserWarning: X does not have valid feature names, but LGBMRegressor was fitted with feature names\n",
      "  warnings.warn(\n"
     ]
    },
    {
     "name": "stdout",
     "output_type": "stream",
     "text": [
      "[LightGBM] [Warning] min_data_in_leaf is set=3000, min_child_samples=20 will be ignored. Current value: min_data_in_leaf=3000\n",
      "[LightGBM] [Warning] min_data_in_leaf is set=3000, min_child_samples=20 will be ignored. Current value: min_data_in_leaf=3000\n",
      "[LightGBM] [Info] Auto-choosing row-wise multi-threading, the overhead of testing was 0.005085 seconds.\n",
      "You can set `force_row_wise=true` to remove the overhead.\n",
      "And if memory is not enough, you can set `force_col_wise=true`.\n",
      "[LightGBM] [Info] Total Bins 1111\n",
      "[LightGBM] [Info] Number of data points in the train set: 819585, number of used features: 14\n",
      "[LightGBM] [Warning] min_data_in_leaf is set=3000, min_child_samples=20 will be ignored. Current value: min_data_in_leaf=3000\n",
      "[LightGBM] [Info] Start training from score 273.619955\n",
      "Training until validation scores don't improve for 150 rounds\n",
      "Early stopping, best iteration is:\n",
      "[1310]\tvalid_0's l1: 7.78116\tvalid_0's l2: 148.099\n",
      "[LightGBM] [Warning] min_data_in_leaf is set=3000, min_child_samples=20 will be ignored. Current value: min_data_in_leaf=3000\n"
     ]
    },
    {
     "name": "stderr",
     "output_type": "stream",
     "text": [
      "c:\\Users\\User\\AppData\\Local\\Programs\\Python\\Python313\\Lib\\site-packages\\sklearn\\utils\\validation.py:2749: UserWarning: X does not have valid feature names, but LGBMRegressor was fitted with feature names\n",
      "  warnings.warn(\n"
     ]
    },
    {
     "name": "stdout",
     "output_type": "stream",
     "text": [
      "[LightGBM] [Warning] min_data_in_leaf is set=3000, min_child_samples=20 will be ignored. Current value: min_data_in_leaf=3000\n",
      "[LightGBM] [Warning] min_data_in_leaf is set=3000, min_child_samples=20 will be ignored. Current value: min_data_in_leaf=3000\n",
      "[LightGBM] [Info] Auto-choosing col-wise multi-threading, the overhead of testing was 0.015508 seconds.\n",
      "You can set `force_col_wise=true` to remove the overhead.\n",
      "[LightGBM] [Info] Total Bins 1111\n",
      "[LightGBM] [Info] Number of data points in the train set: 819585, number of used features: 14\n",
      "[LightGBM] [Warning] min_data_in_leaf is set=3000, min_child_samples=20 will be ignored. Current value: min_data_in_leaf=3000\n",
      "[LightGBM] [Info] Start training from score 273.448833\n",
      "Training until validation scores don't improve for 150 rounds\n",
      "Early stopping, best iteration is:\n",
      "[995]\tvalid_0's l1: 7.77975\tvalid_0's l2: 147.678\n",
      "[LightGBM] [Warning] min_data_in_leaf is set=3000, min_child_samples=20 will be ignored. Current value: min_data_in_leaf=3000\n"
     ]
    },
    {
     "name": "stderr",
     "output_type": "stream",
     "text": [
      "c:\\Users\\User\\AppData\\Local\\Programs\\Python\\Python313\\Lib\\site-packages\\sklearn\\utils\\validation.py:2749: UserWarning: X does not have valid feature names, but LGBMRegressor was fitted with feature names\n",
      "  warnings.warn(\n"
     ]
    },
    {
     "name": "stdout",
     "output_type": "stream",
     "text": [
      "[LightGBM] [Warning] min_data_in_leaf is set=3000, min_child_samples=20 will be ignored. Current value: min_data_in_leaf=3000\n",
      "[LightGBM] [Warning] min_data_in_leaf is set=3000, min_child_samples=20 will be ignored. Current value: min_data_in_leaf=3000\n",
      "[LightGBM] [Info] Auto-choosing row-wise multi-threading, the overhead of testing was 0.004919 seconds.\n",
      "You can set `force_row_wise=true` to remove the overhead.\n",
      "And if memory is not enough, you can set `force_col_wise=true`.\n",
      "[LightGBM] [Info] Total Bins 1107\n",
      "[LightGBM] [Info] Number of data points in the train set: 819585, number of used features: 14\n",
      "[LightGBM] [Warning] min_data_in_leaf is set=3000, min_child_samples=20 will be ignored. Current value: min_data_in_leaf=3000\n",
      "[LightGBM] [Info] Start training from score 270.788151\n",
      "Training until validation scores don't improve for 150 rounds\n",
      "Early stopping, best iteration is:\n",
      "[1625]\tvalid_0's l1: 7.97665\tvalid_0's l2: 150.571\n",
      "[LightGBM] [Warning] min_data_in_leaf is set=3000, min_child_samples=20 will be ignored. Current value: min_data_in_leaf=3000\n"
     ]
    },
    {
     "name": "stderr",
     "output_type": "stream",
     "text": [
      "c:\\Users\\User\\AppData\\Local\\Programs\\Python\\Python313\\Lib\\site-packages\\sklearn\\utils\\validation.py:2749: UserWarning: X does not have valid feature names, but LGBMRegressor was fitted with feature names\n",
      "  warnings.warn(\n"
     ]
    },
    {
     "name": "stdout",
     "output_type": "stream",
     "text": [
      "[LightGBM] [Warning] min_data_in_leaf is set=3000, min_child_samples=20 will be ignored. Current value: min_data_in_leaf=3000\n",
      "[LightGBM] [Warning] min_data_in_leaf is set=3000, min_child_samples=20 will be ignored. Current value: min_data_in_leaf=3000\n",
      "[LightGBM] [Info] Auto-choosing row-wise multi-threading, the overhead of testing was 0.003992 seconds.\n",
      "You can set `force_row_wise=true` to remove the overhead.\n",
      "And if memory is not enough, you can set `force_col_wise=true`.\n",
      "[LightGBM] [Info] Total Bins 1107\n",
      "[LightGBM] [Info] Number of data points in the train set: 819585, number of used features: 14\n",
      "[LightGBM] [Warning] min_data_in_leaf is set=3000, min_child_samples=20 will be ignored. Current value: min_data_in_leaf=3000\n",
      "[LightGBM] [Info] Start training from score 273.727424\n",
      "Training until validation scores don't improve for 150 rounds\n",
      "Early stopping, best iteration is:\n",
      "[1120]\tvalid_0's l1: 7.82365\tvalid_0's l2: 148.497\n",
      "[LightGBM] [Warning] min_data_in_leaf is set=3000, min_child_samples=20 will be ignored. Current value: min_data_in_leaf=3000\n"
     ]
    },
    {
     "name": "stderr",
     "output_type": "stream",
     "text": [
      "c:\\Users\\User\\AppData\\Local\\Programs\\Python\\Python313\\Lib\\site-packages\\sklearn\\utils\\validation.py:2749: UserWarning: X does not have valid feature names, but LGBMRegressor was fitted with feature names\n",
      "  warnings.warn(\n"
     ]
    },
    {
     "name": "stdout",
     "output_type": "stream",
     "text": [
      "[LightGBM] [Warning] min_data_in_leaf is set=3000, min_child_samples=20 will be ignored. Current value: min_data_in_leaf=3000\n",
      "[LightGBM] [Warning] min_data_in_leaf is set=3000, min_child_samples=20 will be ignored. Current value: min_data_in_leaf=3000\n",
      "[LightGBM] [Info] Auto-choosing row-wise multi-threading, the overhead of testing was 0.004222 seconds.\n",
      "You can set `force_row_wise=true` to remove the overhead.\n",
      "And if memory is not enough, you can set `force_col_wise=true`.\n",
      "[LightGBM] [Info] Total Bins 1107\n",
      "[LightGBM] [Info] Number of data points in the train set: 819585, number of used features: 14\n",
      "[LightGBM] [Warning] min_data_in_leaf is set=3000, min_child_samples=20 will be ignored. Current value: min_data_in_leaf=3000\n",
      "[LightGBM] [Info] Start training from score 268.549354\n",
      "Training until validation scores don't improve for 150 rounds\n",
      "Early stopping, best iteration is:\n",
      "[1118]\tvalid_0's l1: 7.8867\tvalid_0's l2: 147.321\n",
      "[LightGBM] [Warning] min_data_in_leaf is set=3000, min_child_samples=20 will be ignored. Current value: min_data_in_leaf=3000\n"
     ]
    },
    {
     "name": "stderr",
     "output_type": "stream",
     "text": [
      "c:\\Users\\User\\AppData\\Local\\Programs\\Python\\Python313\\Lib\\site-packages\\sklearn\\utils\\validation.py:2749: UserWarning: X does not have valid feature names, but LGBMRegressor was fitted with feature names\n",
      "  warnings.warn(\n"
     ]
    },
    {
     "name": "stdout",
     "output_type": "stream",
     "text": [
      "[LightGBM] [Warning] min_data_in_leaf is set=3000, min_child_samples=20 will be ignored. Current value: min_data_in_leaf=3000\n",
      "[LightGBM] [Warning] min_data_in_leaf is set=3000, min_child_samples=20 will be ignored. Current value: min_data_in_leaf=3000\n",
      "[LightGBM] [Info] Auto-choosing row-wise multi-threading, the overhead of testing was 0.004379 seconds.\n",
      "You can set `force_row_wise=true` to remove the overhead.\n",
      "And if memory is not enough, you can set `force_col_wise=true`.\n",
      "[LightGBM] [Info] Total Bins 1107\n",
      "[LightGBM] [Info] Number of data points in the train set: 819585, number of used features: 14\n",
      "[LightGBM] [Warning] min_data_in_leaf is set=3000, min_child_samples=20 will be ignored. Current value: min_data_in_leaf=3000\n",
      "[LightGBM] [Info] Start training from score 271.246760\n",
      "Training until validation scores don't improve for 150 rounds\n",
      "Early stopping, best iteration is:\n",
      "[2131]\tvalid_0's l1: 7.9687\tvalid_0's l2: 150.9\n",
      "[LightGBM] [Warning] min_data_in_leaf is set=3000, min_child_samples=20 will be ignored. Current value: min_data_in_leaf=3000\n"
     ]
    },
    {
     "name": "stderr",
     "output_type": "stream",
     "text": [
      "c:\\Users\\User\\AppData\\Local\\Programs\\Python\\Python313\\Lib\\site-packages\\sklearn\\utils\\validation.py:2749: UserWarning: X does not have valid feature names, but LGBMRegressor was fitted with feature names\n",
      "  warnings.warn(\n"
     ]
    },
    {
     "name": "stdout",
     "output_type": "stream",
     "text": [
      "[LightGBM] [Warning] min_data_in_leaf is set=3000, min_child_samples=20 will be ignored. Current value: min_data_in_leaf=3000\n",
      "[LightGBM] [Warning] min_data_in_leaf is set=3000, min_child_samples=20 will be ignored. Current value: min_data_in_leaf=3000\n",
      "[LightGBM] [Info] Auto-choosing row-wise multi-threading, the overhead of testing was 0.005921 seconds.\n",
      "You can set `force_row_wise=true` to remove the overhead.\n",
      "And if memory is not enough, you can set `force_col_wise=true`.\n",
      "[LightGBM] [Info] Total Bins 1107\n",
      "[LightGBM] [Info] Number of data points in the train set: 819585, number of used features: 14\n",
      "[LightGBM] [Warning] min_data_in_leaf is set=3000, min_child_samples=20 will be ignored. Current value: min_data_in_leaf=3000\n",
      "[LightGBM] [Info] Start training from score 272.202964\n",
      "Training until validation scores don't improve for 150 rounds\n",
      "Early stopping, best iteration is:\n",
      "[935]\tvalid_0's l1: 7.61077\tvalid_0's l2: 143.382\n",
      "[LightGBM] [Warning] min_data_in_leaf is set=3000, min_child_samples=20 will be ignored. Current value: min_data_in_leaf=3000\n"
     ]
    },
    {
     "name": "stderr",
     "output_type": "stream",
     "text": [
      "c:\\Users\\User\\AppData\\Local\\Programs\\Python\\Python313\\Lib\\site-packages\\sklearn\\utils\\validation.py:2749: UserWarning: X does not have valid feature names, but LGBMRegressor was fitted with feature names\n",
      "  warnings.warn(\n"
     ]
    },
    {
     "name": "stdout",
     "output_type": "stream",
     "text": [
      "[LightGBM] [Warning] min_data_in_leaf is set=3000, min_child_samples=20 will be ignored. Current value: min_data_in_leaf=3000\n",
      "[LightGBM] [Warning] min_data_in_leaf is set=3000, min_child_samples=20 will be ignored. Current value: min_data_in_leaf=3000\n",
      "[LightGBM] [Info] Auto-choosing row-wise multi-threading, the overhead of testing was 0.005647 seconds.\n",
      "You can set `force_row_wise=true` to remove the overhead.\n",
      "And if memory is not enough, you can set `force_col_wise=true`.\n",
      "[LightGBM] [Info] Total Bins 1107\n",
      "[LightGBM] [Info] Number of data points in the train set: 819585, number of used features: 14\n",
      "[LightGBM] [Warning] min_data_in_leaf is set=3000, min_child_samples=20 will be ignored. Current value: min_data_in_leaf=3000\n",
      "[LightGBM] [Info] Start training from score 272.609537\n",
      "Training until validation scores don't improve for 150 rounds\n",
      "Early stopping, best iteration is:\n",
      "[2305]\tvalid_0's l1: 7.44865\tvalid_0's l2: 134.123\n",
      "[LightGBM] [Warning] min_data_in_leaf is set=3000, min_child_samples=20 will be ignored. Current value: min_data_in_leaf=3000\n"
     ]
    },
    {
     "name": "stderr",
     "output_type": "stream",
     "text": [
      "c:\\Users\\User\\AppData\\Local\\Programs\\Python\\Python313\\Lib\\site-packages\\sklearn\\utils\\validation.py:2749: UserWarning: X does not have valid feature names, but LGBMRegressor was fitted with feature names\n",
      "  warnings.warn(\n"
     ]
    },
    {
     "name": "stdout",
     "output_type": "stream",
     "text": [
      "[LightGBM] [Warning] min_data_in_leaf is set=3000, min_child_samples=20 will be ignored. Current value: min_data_in_leaf=3000\n",
      "[LightGBM] [Warning] min_data_in_leaf is set=3000, min_child_samples=20 will be ignored. Current value: min_data_in_leaf=3000\n",
      "[LightGBM] [Info] Auto-choosing row-wise multi-threading, the overhead of testing was 0.005111 seconds.\n",
      "You can set `force_row_wise=true` to remove the overhead.\n",
      "And if memory is not enough, you can set `force_col_wise=true`.\n",
      "[LightGBM] [Info] Total Bins 1107\n",
      "[LightGBM] [Info] Number of data points in the train set: 819585, number of used features: 14\n",
      "[LightGBM] [Warning] min_data_in_leaf is set=3000, min_child_samples=20 will be ignored. Current value: min_data_in_leaf=3000\n",
      "[LightGBM] [Info] Start training from score 270.436684\n",
      "Training until validation scores don't improve for 150 rounds\n",
      "Early stopping, best iteration is:\n",
      "[1363]\tvalid_0's l1: 7.1427\tvalid_0's l2: 115.852\n",
      "[LightGBM] [Warning] min_data_in_leaf is set=3000, min_child_samples=20 will be ignored. Current value: min_data_in_leaf=3000\n"
     ]
    },
    {
     "name": "stderr",
     "output_type": "stream",
     "text": [
      "c:\\Users\\User\\AppData\\Local\\Programs\\Python\\Python313\\Lib\\site-packages\\sklearn\\utils\\validation.py:2749: UserWarning: X does not have valid feature names, but LGBMRegressor was fitted with feature names\n",
      "  warnings.warn(\n"
     ]
    },
    {
     "name": "stdout",
     "output_type": "stream",
     "text": [
      "=== LOCO with SuperType — MAE by held-out city (best→worst) ===\n",
      "            City     n    MAE\n",
      "     DarEsSalaam 47929  6.007\n",
      "           Accra 47929  7.341\n",
      "      LagosState 47929  9.063\n",
      "           Lagos 47929  9.247\n",
      "GreatDhakaRegion 47929  9.729\n",
      "         Colombo 47929 11.159\n",
      "          Beirut 47929 12.325\n",
      "          Panama 47929 12.760\n",
      "         Antigua 47929 13.443\n",
      "         Nairobi 47929 13.891\n",
      "          Manila 47929 15.607\n",
      "         Grenada 47929 16.982\n",
      "        Maldives 47929 17.376\n",
      "       Samarkand 47929 20.167\n",
      "           Izmir 47929 20.705\n",
      "     SouthAfrica 47929 23.397\n",
      "        Honduras 47929 24.445\n",
      "     Mexico City 47929 34.833\n",
      "         Karachi 47929 37.114\n",
      "          Almaty 47929 39.992\n",
      "\n",
      "LOCO Macro-MAE: 17.779   Micro-MAE: 17.779\n",
      "\n",
      "Saved: artifacts/loco_lgbm_l2_smooth_with_supertype_mae.csv\n"
     ]
    }
   ],
   "source": [
    "# === LOCO with SuperType back-off added (same best L2 config) ===\n",
    "import pandas as pd, numpy as np\n",
    "from pathlib import Path\n",
    "from sklearn.model_selection import train_test_split\n",
    "from sklearn.preprocessing import OneHotEncoder, StandardScaler\n",
    "from sklearn.compose import ColumnTransformer\n",
    "from sklearn.metrics import mean_absolute_error\n",
    "from lightgbm import LGBMRegressor, early_stopping, log_evaluation\n",
    "\n",
    "DATA = Path(\"C:/Users/User/Desktop/ML/Project/solar-potential-analysis-github-setup/New_approach/dataset/cleaned_datasets/top20_balanced_sample.parquet\")\n",
    "OUT  = Path(\"artifacts\"); OUT.mkdir(parents=True, exist_ok=True)\n",
    "\n",
    "# Load\n",
    "cols = [\"City\",\"BuildingType_5\",\"kWh_per_m2\",\"tilt\",\"tilt2\",\"tilt_sin\",\"tilt_cos\",\n",
    "        \"GHI_kWh_per_m2_day\",\"AvgTemp_C\",\"ClearnessIndex\",\"Precip_mm_per_day\",\"SuperType\"]\n",
    "df = pd.read_parquet(DATA, columns=[c for c in cols if c in pd.read_parquet(DATA).columns]).copy()\n",
    "\n",
    "# If SuperType is missing in this file, rebuild it quickly from BuildingType (fallback)\n",
    "if \"SuperType\" not in df.columns:\n",
    "    # lightweight map (same as we agreed)\n",
    "    sup = {\n",
    "        \"single family residential\":\"Residential\",\n",
    "        \"multifamily residential\":\"Residential\",\n",
    "        \"peri-urban settlement\":\"Residential\",\n",
    "        \"commercial\":\"Commercial\",\n",
    "        \"small commercial\":\"Commercial\",\n",
    "        \"hotels\":\"Commercial\",\n",
    "        \"industrial\":\"Industrial\",\n",
    "        \"public sector\":\"Public\",\n",
    "        \"schools\":\"Public\",\n",
    "        \"public health facilities\":\"Public\",\n",
    "    }\n",
    "    # you'll have original BuildingType only if present; otherwise skip this block\n",
    "    if \"BuildingType\" in df.columns:\n",
    "        df[\"SuperType\"] = df[\"BuildingType\"].map(sup).astype(\"string\")\n",
    "\n",
    "TARGET = \"kWh_per_m2\"\n",
    "CAT = [\"BuildingType_5\", \"SuperType\"] if \"SuperType\" in df.columns else [\"BuildingType_5\"]\n",
    "NUM = [\"tilt\",\"tilt2\",\"tilt_sin\",\"tilt_cos\",\"GHI_kWh_per_m2_day\",\"AvgTemp_C\",\"ClearnessIndex\",\"Precip_mm_per_day\"]\n",
    "\n",
    "cities = df[\"City\"].astype(str).unique().tolist()\n",
    "results = []\n",
    "\n",
    "for city in sorted(cities):\n",
    "    test  = df[df[\"City\"] == city].copy()\n",
    "    train = df[df[\"City\"] != city].copy()\n",
    "\n",
    "    pre = ColumnTransformer([\n",
    "        (\"num\", StandardScaler(), NUM),\n",
    "        (\"cat\", OneHotEncoder(handle_unknown=\"ignore\", sparse_output=False), CAT),\n",
    "    ])\n",
    "    Xtr_full = train[CAT+NUM]; ytr_full = train[TARGET].values.astype(float)\n",
    "    Xte = test[CAT+NUM];        yte = test[TARGET].values.astype(float)\n",
    "\n",
    "    # small val split from training cities only\n",
    "    Xtr, Xval, ytr, yval = train_test_split(Xtr_full, ytr_full, test_size=0.10, random_state=42)\n",
    "\n",
    "    Xt_tr  = pre.fit_transform(Xtr)\n",
    "    Xt_val = pre.transform(Xval)\n",
    "    Xt_te  = pre.transform(Xte)\n",
    "\n",
    "    model = LGBMRegressor(\n",
    "        objective=\"regression\",\n",
    "        n_estimators=3000,\n",
    "        learning_rate=0.03,\n",
    "        num_leaves=31,\n",
    "        min_data_in_leaf=3000,\n",
    "        subsample=0.8,\n",
    "        colsample_bytree=0.8,\n",
    "        reg_lambda=1.0,\n",
    "        random_state=42,\n",
    "        n_jobs=-1,\n",
    "    )\n",
    "    model.fit(\n",
    "        Xt_tr, ytr,\n",
    "        eval_set=[(Xt_val, yval)],\n",
    "        eval_metric=\"l1\",\n",
    "        callbacks=[early_stopping(stopping_rounds=150), log_evaluation(period=0)],\n",
    "    )\n",
    "    pred = model.predict(Xt_te, num_iteration=model.best_iteration_)\n",
    "    mae  = mean_absolute_error(yte, pred)\n",
    "    results.append({\"City\": city, \"MAE\": mae, \"iters\": model.best_iteration_})\n",
    "\n",
    "res = pd.DataFrame(results).sort_values(\"MAE\").reset_index(drop=True)\n",
    "macro_mae = res[\"MAE\"].mean()\n",
    "sizes = df.groupby(\"City\").size().rename(\"n\").reset_index()\n",
    "res = res.merge(sizes, on=\"City\", how=\"left\")\n",
    "micro_mae = (res[\"MAE\"] * res[\"n\"]).sum() / res[\"n\"].sum()\n",
    "\n",
    "print(\"=== LOCO with SuperType — MAE by held-out city (best→worst) ===\")\n",
    "print(res[[\"City\",\"n\",\"MAE\"]].to_string(index=False, formatters={\"MAE\": lambda x: f\"{x:.3f}\"}))\n",
    "print(f\"\\nLOCO Macro-MAE: {macro_mae:.3f}   Micro-MAE: {micro_mae:.3f}\")\n",
    "\n",
    "out_csv = OUT / \"loco_lgbm_l2_smooth_with_supertype_mae.csv\"\n",
    "res.to_csv(out_csv, index=False)\n",
    "print(\"\\nSaved:\", out_csv.as_posix())\n"
   ]
  },
  {
   "cell_type": "code",
   "execution_count": 10,
   "id": "a55322b0",
   "metadata": {},
   "outputs": [
    {
     "name": "stdout",
     "output_type": "stream",
     "text": [
      "[LightGBM] [Warning] min_data_in_leaf is set=3000, min_child_samples=20 will be ignored. Current value: min_data_in_leaf=3000\n",
      "[LightGBM] [Warning] min_data_in_leaf is set=3000, min_child_samples=20 will be ignored. Current value: min_data_in_leaf=3000\n",
      "[LightGBM] [Info] Auto-choosing row-wise multi-threading, the overhead of testing was 0.004772 seconds.\n",
      "You can set `force_row_wise=true` to remove the overhead.\n",
      "And if memory is not enough, you can set `force_col_wise=true`.\n",
      "[LightGBM] [Info] Total Bins 1107\n",
      "[LightGBM] [Info] Number of data points in the train set: 819585, number of used features: 14\n",
      "[LightGBM] [Warning] min_data_in_leaf is set=3000, min_child_samples=20 will be ignored. Current value: min_data_in_leaf=3000\n",
      "[LightGBM] [Info] Start training from score 272.169051\n",
      "Training until validation scores don't improve for 150 rounds\n",
      "Early stopping, best iteration is:\n",
      "[1888]\tvalid_0's l1: 7.83268\tvalid_0's l2: 147.955\n",
      "[LightGBM] [Warning] min_data_in_leaf is set=3000, min_child_samples=20 will be ignored. Current value: min_data_in_leaf=3000\n"
     ]
    },
    {
     "name": "stderr",
     "output_type": "stream",
     "text": [
      "c:\\Users\\User\\AppData\\Local\\Programs\\Python\\Python313\\Lib\\site-packages\\sklearn\\utils\\validation.py:2749: UserWarning: X does not have valid feature names, but LGBMRegressor was fitted with feature names\n",
      "  warnings.warn(\n",
      "C:\\Users\\User\\AppData\\Local\\Temp\\ipykernel_48164\\3704256362.py:69: FutureWarning: DataFrameGroupBy.apply operated on the grouping columns. This behavior is deprecated, and in a future version of pandas the grouping columns will be excluded from the operation. Either pass `include_groups=False` to exclude the groupings or explicitly select the grouping columns after groupby to silence this warning.\n",
      "  g = tmp.groupby(\"BuildingType_5\").apply(lambda d: mean_absolute_error(d[\"y\"], d[\"yhat\"])).rename(\"MAE_type\")\n"
     ]
    },
    {
     "name": "stdout",
     "output_type": "stream",
     "text": [
      "[LightGBM] [Warning] min_data_in_leaf is set=3000, min_child_samples=20 will be ignored. Current value: min_data_in_leaf=3000\n",
      "[LightGBM] [Warning] min_data_in_leaf is set=3000, min_child_samples=20 will be ignored. Current value: min_data_in_leaf=3000\n",
      "[LightGBM] [Info] Auto-choosing row-wise multi-threading, the overhead of testing was 0.004840 seconds.\n",
      "You can set `force_row_wise=true` to remove the overhead.\n",
      "And if memory is not enough, you can set `force_col_wise=true`.\n",
      "[LightGBM] [Info] Total Bins 1107\n",
      "[LightGBM] [Info] Number of data points in the train set: 819585, number of used features: 14\n",
      "[LightGBM] [Warning] min_data_in_leaf is set=3000, min_child_samples=20 will be ignored. Current value: min_data_in_leaf=3000\n",
      "[LightGBM] [Info] Start training from score 273.898541\n",
      "Training until validation scores don't improve for 150 rounds\n",
      "Early stopping, best iteration is:\n",
      "[1800]\tvalid_0's l1: 7.51307\tvalid_0's l2: 133.402\n",
      "[LightGBM] [Warning] min_data_in_leaf is set=3000, min_child_samples=20 will be ignored. Current value: min_data_in_leaf=3000\n"
     ]
    },
    {
     "name": "stderr",
     "output_type": "stream",
     "text": [
      "c:\\Users\\User\\AppData\\Local\\Programs\\Python\\Python313\\Lib\\site-packages\\sklearn\\utils\\validation.py:2749: UserWarning: X does not have valid feature names, but LGBMRegressor was fitted with feature names\n",
      "  warnings.warn(\n",
      "C:\\Users\\User\\AppData\\Local\\Temp\\ipykernel_48164\\3704256362.py:69: FutureWarning: DataFrameGroupBy.apply operated on the grouping columns. This behavior is deprecated, and in a future version of pandas the grouping columns will be excluded from the operation. Either pass `include_groups=False` to exclude the groupings or explicitly select the grouping columns after groupby to silence this warning.\n",
      "  g = tmp.groupby(\"BuildingType_5\").apply(lambda d: mean_absolute_error(d[\"y\"], d[\"yhat\"])).rename(\"MAE_type\")\n"
     ]
    },
    {
     "name": "stdout",
     "output_type": "stream",
     "text": [
      "[LightGBM] [Warning] min_data_in_leaf is set=3000, min_child_samples=20 will be ignored. Current value: min_data_in_leaf=3000\n",
      "[LightGBM] [Warning] min_data_in_leaf is set=3000, min_child_samples=20 will be ignored. Current value: min_data_in_leaf=3000\n",
      "[LightGBM] [Info] Auto-choosing row-wise multi-threading, the overhead of testing was 0.004219 seconds.\n",
      "You can set `force_row_wise=true` to remove the overhead.\n",
      "And if memory is not enough, you can set `force_col_wise=true`.\n",
      "[LightGBM] [Info] Total Bins 1107\n",
      "[LightGBM] [Info] Number of data points in the train set: 819585, number of used features: 14\n",
      "[LightGBM] [Warning] min_data_in_leaf is set=3000, min_child_samples=20 will be ignored. Current value: min_data_in_leaf=3000\n",
      "[LightGBM] [Info] Start training from score 270.805649\n",
      "Training until validation scores don't improve for 150 rounds\n",
      "Early stopping, best iteration is:\n",
      "[1856]\tvalid_0's l1: 7.60404\tvalid_0's l2: 141.653\n",
      "[LightGBM] [Warning] min_data_in_leaf is set=3000, min_child_samples=20 will be ignored. Current value: min_data_in_leaf=3000\n"
     ]
    },
    {
     "name": "stderr",
     "output_type": "stream",
     "text": [
      "c:\\Users\\User\\AppData\\Local\\Programs\\Python\\Python313\\Lib\\site-packages\\sklearn\\utils\\validation.py:2749: UserWarning: X does not have valid feature names, but LGBMRegressor was fitted with feature names\n",
      "  warnings.warn(\n",
      "C:\\Users\\User\\AppData\\Local\\Temp\\ipykernel_48164\\3704256362.py:69: FutureWarning: DataFrameGroupBy.apply operated on the grouping columns. This behavior is deprecated, and in a future version of pandas the grouping columns will be excluded from the operation. Either pass `include_groups=False` to exclude the groupings or explicitly select the grouping columns after groupby to silence this warning.\n",
      "  g = tmp.groupby(\"BuildingType_5\").apply(lambda d: mean_absolute_error(d[\"y\"], d[\"yhat\"])).rename(\"MAE_type\")\n"
     ]
    },
    {
     "name": "stdout",
     "output_type": "stream",
     "text": [
      "[LightGBM] [Warning] min_data_in_leaf is set=3000, min_child_samples=20 will be ignored. Current value: min_data_in_leaf=3000\n",
      "[LightGBM] [Warning] min_data_in_leaf is set=3000, min_child_samples=20 will be ignored. Current value: min_data_in_leaf=3000\n",
      "[LightGBM] [Info] Auto-choosing row-wise multi-threading, the overhead of testing was 0.002960 seconds.\n",
      "You can set `force_row_wise=true` to remove the overhead.\n",
      "And if memory is not enough, you can set `force_col_wise=true`.\n",
      "[LightGBM] [Info] Total Bins 1108\n",
      "[LightGBM] [Info] Number of data points in the train set: 819585, number of used features: 14\n",
      "[LightGBM] [Warning] min_data_in_leaf is set=3000, min_child_samples=20 will be ignored. Current value: min_data_in_leaf=3000\n",
      "[LightGBM] [Info] Start training from score 273.747613\n",
      "Training until validation scores don't improve for 150 rounds\n",
      "Early stopping, best iteration is:\n",
      "[1219]\tvalid_0's l1: 7.73658\tvalid_0's l2: 144.996\n",
      "[LightGBM] [Warning] min_data_in_leaf is set=3000, min_child_samples=20 will be ignored. Current value: min_data_in_leaf=3000\n"
     ]
    },
    {
     "name": "stderr",
     "output_type": "stream",
     "text": [
      "c:\\Users\\User\\AppData\\Local\\Programs\\Python\\Python313\\Lib\\site-packages\\sklearn\\utils\\validation.py:2749: UserWarning: X does not have valid feature names, but LGBMRegressor was fitted with feature names\n",
      "  warnings.warn(\n",
      "C:\\Users\\User\\AppData\\Local\\Temp\\ipykernel_48164\\3704256362.py:69: FutureWarning: DataFrameGroupBy.apply operated on the grouping columns. This behavior is deprecated, and in a future version of pandas the grouping columns will be excluded from the operation. Either pass `include_groups=False` to exclude the groupings or explicitly select the grouping columns after groupby to silence this warning.\n",
      "  g = tmp.groupby(\"BuildingType_5\").apply(lambda d: mean_absolute_error(d[\"y\"], d[\"yhat\"])).rename(\"MAE_type\")\n"
     ]
    },
    {
     "name": "stdout",
     "output_type": "stream",
     "text": [
      "[LightGBM] [Warning] min_data_in_leaf is set=3000, min_child_samples=20 will be ignored. Current value: min_data_in_leaf=3000\n",
      "[LightGBM] [Warning] min_data_in_leaf is set=3000, min_child_samples=20 will be ignored. Current value: min_data_in_leaf=3000\n",
      "[LightGBM] [Info] Auto-choosing row-wise multi-threading, the overhead of testing was 0.006162 seconds.\n",
      "You can set `force_row_wise=true` to remove the overhead.\n",
      "And if memory is not enough, you can set `force_col_wise=true`.\n",
      "[LightGBM] [Info] Total Bins 1107\n",
      "[LightGBM] [Info] Number of data points in the train set: 819585, number of used features: 14\n",
      "[LightGBM] [Warning] min_data_in_leaf is set=3000, min_child_samples=20 will be ignored. Current value: min_data_in_leaf=3000\n",
      "[LightGBM] [Info] Start training from score 271.562076\n",
      "Training until validation scores don't improve for 150 rounds\n",
      "Early stopping, best iteration is:\n",
      "[1311]\tvalid_0's l1: 7.95923\tvalid_0's l2: 148.998\n",
      "[LightGBM] [Warning] min_data_in_leaf is set=3000, min_child_samples=20 will be ignored. Current value: min_data_in_leaf=3000\n"
     ]
    },
    {
     "name": "stderr",
     "output_type": "stream",
     "text": [
      "c:\\Users\\User\\AppData\\Local\\Programs\\Python\\Python313\\Lib\\site-packages\\sklearn\\utils\\validation.py:2749: UserWarning: X does not have valid feature names, but LGBMRegressor was fitted with feature names\n",
      "  warnings.warn(\n",
      "C:\\Users\\User\\AppData\\Local\\Temp\\ipykernel_48164\\3704256362.py:69: FutureWarning: DataFrameGroupBy.apply operated on the grouping columns. This behavior is deprecated, and in a future version of pandas the grouping columns will be excluded from the operation. Either pass `include_groups=False` to exclude the groupings or explicitly select the grouping columns after groupby to silence this warning.\n",
      "  g = tmp.groupby(\"BuildingType_5\").apply(lambda d: mean_absolute_error(d[\"y\"], d[\"yhat\"])).rename(\"MAE_type\")\n"
     ]
    },
    {
     "name": "stdout",
     "output_type": "stream",
     "text": [
      "[LightGBM] [Warning] min_data_in_leaf is set=3000, min_child_samples=20 will be ignored. Current value: min_data_in_leaf=3000\n",
      "[LightGBM] [Warning] min_data_in_leaf is set=3000, min_child_samples=20 will be ignored. Current value: min_data_in_leaf=3000\n",
      "[LightGBM] [Info] Auto-choosing row-wise multi-threading, the overhead of testing was 0.005151 seconds.\n",
      "You can set `force_row_wise=true` to remove the overhead.\n",
      "And if memory is not enough, you can set `force_col_wise=true`.\n",
      "[LightGBM] [Info] Total Bins 1107\n",
      "[LightGBM] [Info] Number of data points in the train set: 819585, number of used features: 14\n",
      "[LightGBM] [Warning] min_data_in_leaf is set=3000, min_child_samples=20 will be ignored. Current value: min_data_in_leaf=3000\n",
      "[LightGBM] [Info] Start training from score 271.437339\n",
      "Training until validation scores don't improve for 150 rounds\n",
      "Early stopping, best iteration is:\n",
      "[1157]\tvalid_0's l1: 7.95203\tvalid_0's l2: 148.838\n",
      "[LightGBM] [Warning] min_data_in_leaf is set=3000, min_child_samples=20 will be ignored. Current value: min_data_in_leaf=3000\n"
     ]
    },
    {
     "name": "stderr",
     "output_type": "stream",
     "text": [
      "c:\\Users\\User\\AppData\\Local\\Programs\\Python\\Python313\\Lib\\site-packages\\sklearn\\utils\\validation.py:2749: UserWarning: X does not have valid feature names, but LGBMRegressor was fitted with feature names\n",
      "  warnings.warn(\n",
      "C:\\Users\\User\\AppData\\Local\\Temp\\ipykernel_48164\\3704256362.py:69: FutureWarning: DataFrameGroupBy.apply operated on the grouping columns. This behavior is deprecated, and in a future version of pandas the grouping columns will be excluded from the operation. Either pass `include_groups=False` to exclude the groupings or explicitly select the grouping columns after groupby to silence this warning.\n",
      "  g = tmp.groupby(\"BuildingType_5\").apply(lambda d: mean_absolute_error(d[\"y\"], d[\"yhat\"])).rename(\"MAE_type\")\n"
     ]
    },
    {
     "name": "stdout",
     "output_type": "stream",
     "text": [
      "[LightGBM] [Warning] min_data_in_leaf is set=3000, min_child_samples=20 will be ignored. Current value: min_data_in_leaf=3000\n",
      "[LightGBM] [Warning] min_data_in_leaf is set=3000, min_child_samples=20 will be ignored. Current value: min_data_in_leaf=3000\n",
      "[LightGBM] [Info] Auto-choosing row-wise multi-threading, the overhead of testing was 0.004341 seconds.\n",
      "You can set `force_row_wise=true` to remove the overhead.\n",
      "And if memory is not enough, you can set `force_col_wise=true`.\n",
      "[LightGBM] [Info] Total Bins 1107\n",
      "[LightGBM] [Info] Number of data points in the train set: 819585, number of used features: 14\n",
      "[LightGBM] [Warning] min_data_in_leaf is set=3000, min_child_samples=20 will be ignored. Current value: min_data_in_leaf=3000\n",
      "[LightGBM] [Info] Start training from score 273.720206\n",
      "Training until validation scores don't improve for 150 rounds\n",
      "Early stopping, best iteration is:\n",
      "[977]\tvalid_0's l1: 7.72157\tvalid_0's l2: 143.836\n",
      "[LightGBM] [Warning] min_data_in_leaf is set=3000, min_child_samples=20 will be ignored. Current value: min_data_in_leaf=3000\n"
     ]
    },
    {
     "name": "stderr",
     "output_type": "stream",
     "text": [
      "c:\\Users\\User\\AppData\\Local\\Programs\\Python\\Python313\\Lib\\site-packages\\sklearn\\utils\\validation.py:2749: UserWarning: X does not have valid feature names, but LGBMRegressor was fitted with feature names\n",
      "  warnings.warn(\n",
      "C:\\Users\\User\\AppData\\Local\\Temp\\ipykernel_48164\\3704256362.py:69: FutureWarning: DataFrameGroupBy.apply operated on the grouping columns. This behavior is deprecated, and in a future version of pandas the grouping columns will be excluded from the operation. Either pass `include_groups=False` to exclude the groupings or explicitly select the grouping columns after groupby to silence this warning.\n",
      "  g = tmp.groupby(\"BuildingType_5\").apply(lambda d: mean_absolute_error(d[\"y\"], d[\"yhat\"])).rename(\"MAE_type\")\n"
     ]
    },
    {
     "name": "stdout",
     "output_type": "stream",
     "text": [
      "[LightGBM] [Warning] min_data_in_leaf is set=3000, min_child_samples=20 will be ignored. Current value: min_data_in_leaf=3000\n",
      "[LightGBM] [Warning] min_data_in_leaf is set=3000, min_child_samples=20 will be ignored. Current value: min_data_in_leaf=3000\n",
      "[LightGBM] [Info] Auto-choosing row-wise multi-threading, the overhead of testing was 0.003303 seconds.\n",
      "You can set `force_row_wise=true` to remove the overhead.\n",
      "And if memory is not enough, you can set `force_col_wise=true`.\n",
      "[LightGBM] [Info] Total Bins 1108\n",
      "[LightGBM] [Info] Number of data points in the train set: 819585, number of used features: 14\n",
      "[LightGBM] [Warning] min_data_in_leaf is set=3000, min_child_samples=20 will be ignored. Current value: min_data_in_leaf=3000\n",
      "[LightGBM] [Info] Start training from score 271.347611\n",
      "Training until validation scores don't improve for 150 rounds\n",
      "Early stopping, best iteration is:\n",
      "[1024]\tvalid_0's l1: 7.35028\tvalid_0's l2: 134.236\n",
      "[LightGBM] [Warning] min_data_in_leaf is set=3000, min_child_samples=20 will be ignored. Current value: min_data_in_leaf=3000\n"
     ]
    },
    {
     "name": "stderr",
     "output_type": "stream",
     "text": [
      "c:\\Users\\User\\AppData\\Local\\Programs\\Python\\Python313\\Lib\\site-packages\\sklearn\\utils\\validation.py:2749: UserWarning: X does not have valid feature names, but LGBMRegressor was fitted with feature names\n",
      "  warnings.warn(\n",
      "C:\\Users\\User\\AppData\\Local\\Temp\\ipykernel_48164\\3704256362.py:69: FutureWarning: DataFrameGroupBy.apply operated on the grouping columns. This behavior is deprecated, and in a future version of pandas the grouping columns will be excluded from the operation. Either pass `include_groups=False` to exclude the groupings or explicitly select the grouping columns after groupby to silence this warning.\n",
      "  g = tmp.groupby(\"BuildingType_5\").apply(lambda d: mean_absolute_error(d[\"y\"], d[\"yhat\"])).rename(\"MAE_type\")\n"
     ]
    },
    {
     "name": "stdout",
     "output_type": "stream",
     "text": [
      "[LightGBM] [Warning] min_data_in_leaf is set=3000, min_child_samples=20 will be ignored. Current value: min_data_in_leaf=3000\n",
      "[LightGBM] [Warning] min_data_in_leaf is set=3000, min_child_samples=20 will be ignored. Current value: min_data_in_leaf=3000\n",
      "[LightGBM] [Info] Auto-choosing row-wise multi-threading, the overhead of testing was 0.005365 seconds.\n",
      "You can set `force_row_wise=true` to remove the overhead.\n",
      "And if memory is not enough, you can set `force_col_wise=true`.\n",
      "[LightGBM] [Info] Total Bins 1107\n",
      "[LightGBM] [Info] Number of data points in the train set: 819585, number of used features: 14\n",
      "[LightGBM] [Warning] min_data_in_leaf is set=3000, min_child_samples=20 will be ignored. Current value: min_data_in_leaf=3000\n",
      "[LightGBM] [Info] Start training from score 271.631985\n",
      "Training until validation scores don't improve for 150 rounds\n",
      "Early stopping, best iteration is:\n",
      "[1856]\tvalid_0's l1: 7.57967\tvalid_0's l2: 142.605\n",
      "[LightGBM] [Warning] min_data_in_leaf is set=3000, min_child_samples=20 will be ignored. Current value: min_data_in_leaf=3000\n"
     ]
    },
    {
     "name": "stderr",
     "output_type": "stream",
     "text": [
      "c:\\Users\\User\\AppData\\Local\\Programs\\Python\\Python313\\Lib\\site-packages\\sklearn\\utils\\validation.py:2749: UserWarning: X does not have valid feature names, but LGBMRegressor was fitted with feature names\n",
      "  warnings.warn(\n",
      "C:\\Users\\User\\AppData\\Local\\Temp\\ipykernel_48164\\3704256362.py:69: FutureWarning: DataFrameGroupBy.apply operated on the grouping columns. This behavior is deprecated, and in a future version of pandas the grouping columns will be excluded from the operation. Either pass `include_groups=False` to exclude the groupings or explicitly select the grouping columns after groupby to silence this warning.\n",
      "  g = tmp.groupby(\"BuildingType_5\").apply(lambda d: mean_absolute_error(d[\"y\"], d[\"yhat\"])).rename(\"MAE_type\")\n"
     ]
    },
    {
     "name": "stdout",
     "output_type": "stream",
     "text": [
      "[LightGBM] [Warning] min_data_in_leaf is set=3000, min_child_samples=20 will be ignored. Current value: min_data_in_leaf=3000\n",
      "[LightGBM] [Warning] min_data_in_leaf is set=3000, min_child_samples=20 will be ignored. Current value: min_data_in_leaf=3000\n",
      "[LightGBM] [Info] Auto-choosing row-wise multi-threading, the overhead of testing was 0.004844 seconds.\n",
      "You can set `force_row_wise=true` to remove the overhead.\n",
      "And if memory is not enough, you can set `force_col_wise=true`.\n",
      "[LightGBM] [Info] Total Bins 1107\n",
      "[LightGBM] [Info] Number of data points in the train set: 819585, number of used features: 14\n",
      "[LightGBM] [Warning] min_data_in_leaf is set=3000, min_child_samples=20 will be ignored. Current value: min_data_in_leaf=3000\n",
      "[LightGBM] [Info] Start training from score 272.323663\n",
      "Training until validation scores don't improve for 150 rounds\n",
      "Early stopping, best iteration is:\n",
      "[1346]\tvalid_0's l1: 7.5361\tvalid_0's l2: 136.799\n",
      "[LightGBM] [Warning] min_data_in_leaf is set=3000, min_child_samples=20 will be ignored. Current value: min_data_in_leaf=3000\n"
     ]
    },
    {
     "name": "stderr",
     "output_type": "stream",
     "text": [
      "c:\\Users\\User\\AppData\\Local\\Programs\\Python\\Python313\\Lib\\site-packages\\sklearn\\utils\\validation.py:2749: UserWarning: X does not have valid feature names, but LGBMRegressor was fitted with feature names\n",
      "  warnings.warn(\n",
      "C:\\Users\\User\\AppData\\Local\\Temp\\ipykernel_48164\\3704256362.py:69: FutureWarning: DataFrameGroupBy.apply operated on the grouping columns. This behavior is deprecated, and in a future version of pandas the grouping columns will be excluded from the operation. Either pass `include_groups=False` to exclude the groupings or explicitly select the grouping columns after groupby to silence this warning.\n",
      "  g = tmp.groupby(\"BuildingType_5\").apply(lambda d: mean_absolute_error(d[\"y\"], d[\"yhat\"])).rename(\"MAE_type\")\n"
     ]
    },
    {
     "name": "stdout",
     "output_type": "stream",
     "text": [
      "[LightGBM] [Warning] min_data_in_leaf is set=3000, min_child_samples=20 will be ignored. Current value: min_data_in_leaf=3000\n",
      "[LightGBM] [Warning] min_data_in_leaf is set=3000, min_child_samples=20 will be ignored. Current value: min_data_in_leaf=3000\n",
      "[LightGBM] [Info] Auto-choosing row-wise multi-threading, the overhead of testing was 0.004803 seconds.\n",
      "You can set `force_row_wise=true` to remove the overhead.\n",
      "And if memory is not enough, you can set `force_col_wise=true`.\n",
      "[LightGBM] [Info] Total Bins 1107\n",
      "[LightGBM] [Info] Number of data points in the train set: 819585, number of used features: 14\n",
      "[LightGBM] [Warning] min_data_in_leaf is set=3000, min_child_samples=20 will be ignored. Current value: min_data_in_leaf=3000\n",
      "[LightGBM] [Info] Start training from score 270.174022\n",
      "Training until validation scores don't improve for 150 rounds\n",
      "Early stopping, best iteration is:\n",
      "[1962]\tvalid_0's l1: 8.00328\tvalid_0's l2: 151.007\n",
      "[LightGBM] [Warning] min_data_in_leaf is set=3000, min_child_samples=20 will be ignored. Current value: min_data_in_leaf=3000\n"
     ]
    },
    {
     "name": "stderr",
     "output_type": "stream",
     "text": [
      "c:\\Users\\User\\AppData\\Local\\Programs\\Python\\Python313\\Lib\\site-packages\\sklearn\\utils\\validation.py:2749: UserWarning: X does not have valid feature names, but LGBMRegressor was fitted with feature names\n",
      "  warnings.warn(\n",
      "C:\\Users\\User\\AppData\\Local\\Temp\\ipykernel_48164\\3704256362.py:69: FutureWarning: DataFrameGroupBy.apply operated on the grouping columns. This behavior is deprecated, and in a future version of pandas the grouping columns will be excluded from the operation. Either pass `include_groups=False` to exclude the groupings or explicitly select the grouping columns after groupby to silence this warning.\n",
      "  g = tmp.groupby(\"BuildingType_5\").apply(lambda d: mean_absolute_error(d[\"y\"], d[\"yhat\"])).rename(\"MAE_type\")\n"
     ]
    },
    {
     "name": "stdout",
     "output_type": "stream",
     "text": [
      "[LightGBM] [Warning] min_data_in_leaf is set=3000, min_child_samples=20 will be ignored. Current value: min_data_in_leaf=3000\n",
      "[LightGBM] [Warning] min_data_in_leaf is set=3000, min_child_samples=20 will be ignored. Current value: min_data_in_leaf=3000\n",
      "[LightGBM] [Info] Auto-choosing row-wise multi-threading, the overhead of testing was 0.002945 seconds.\n",
      "You can set `force_row_wise=true` to remove the overhead.\n",
      "And if memory is not enough, you can set `force_col_wise=true`.\n",
      "[LightGBM] [Info] Total Bins 1111\n",
      "[LightGBM] [Info] Number of data points in the train set: 819585, number of used features: 14\n",
      "[LightGBM] [Warning] min_data_in_leaf is set=3000, min_child_samples=20 will be ignored. Current value: min_data_in_leaf=3000\n",
      "[LightGBM] [Info] Start training from score 273.619955\n",
      "Training until validation scores don't improve for 150 rounds\n",
      "Early stopping, best iteration is:\n",
      "[1310]\tvalid_0's l1: 7.78116\tvalid_0's l2: 148.099\n",
      "[LightGBM] [Warning] min_data_in_leaf is set=3000, min_child_samples=20 will be ignored. Current value: min_data_in_leaf=3000\n"
     ]
    },
    {
     "name": "stderr",
     "output_type": "stream",
     "text": [
      "c:\\Users\\User\\AppData\\Local\\Programs\\Python\\Python313\\Lib\\site-packages\\sklearn\\utils\\validation.py:2749: UserWarning: X does not have valid feature names, but LGBMRegressor was fitted with feature names\n",
      "  warnings.warn(\n",
      "C:\\Users\\User\\AppData\\Local\\Temp\\ipykernel_48164\\3704256362.py:69: FutureWarning: DataFrameGroupBy.apply operated on the grouping columns. This behavior is deprecated, and in a future version of pandas the grouping columns will be excluded from the operation. Either pass `include_groups=False` to exclude the groupings or explicitly select the grouping columns after groupby to silence this warning.\n",
      "  g = tmp.groupby(\"BuildingType_5\").apply(lambda d: mean_absolute_error(d[\"y\"], d[\"yhat\"])).rename(\"MAE_type\")\n"
     ]
    },
    {
     "name": "stdout",
     "output_type": "stream",
     "text": [
      "[LightGBM] [Warning] min_data_in_leaf is set=3000, min_child_samples=20 will be ignored. Current value: min_data_in_leaf=3000\n",
      "[LightGBM] [Warning] min_data_in_leaf is set=3000, min_child_samples=20 will be ignored. Current value: min_data_in_leaf=3000\n",
      "[LightGBM] [Info] Auto-choosing row-wise multi-threading, the overhead of testing was 0.004364 seconds.\n",
      "You can set `force_row_wise=true` to remove the overhead.\n",
      "And if memory is not enough, you can set `force_col_wise=true`.\n",
      "[LightGBM] [Info] Total Bins 1111\n",
      "[LightGBM] [Info] Number of data points in the train set: 819585, number of used features: 14\n",
      "[LightGBM] [Warning] min_data_in_leaf is set=3000, min_child_samples=20 will be ignored. Current value: min_data_in_leaf=3000\n",
      "[LightGBM] [Info] Start training from score 273.448833\n",
      "Training until validation scores don't improve for 150 rounds\n",
      "Early stopping, best iteration is:\n",
      "[995]\tvalid_0's l1: 7.77975\tvalid_0's l2: 147.678\n",
      "[LightGBM] [Warning] min_data_in_leaf is set=3000, min_child_samples=20 will be ignored. Current value: min_data_in_leaf=3000\n"
     ]
    },
    {
     "name": "stderr",
     "output_type": "stream",
     "text": [
      "c:\\Users\\User\\AppData\\Local\\Programs\\Python\\Python313\\Lib\\site-packages\\sklearn\\utils\\validation.py:2749: UserWarning: X does not have valid feature names, but LGBMRegressor was fitted with feature names\n",
      "  warnings.warn(\n",
      "C:\\Users\\User\\AppData\\Local\\Temp\\ipykernel_48164\\3704256362.py:69: FutureWarning: DataFrameGroupBy.apply operated on the grouping columns. This behavior is deprecated, and in a future version of pandas the grouping columns will be excluded from the operation. Either pass `include_groups=False` to exclude the groupings or explicitly select the grouping columns after groupby to silence this warning.\n",
      "  g = tmp.groupby(\"BuildingType_5\").apply(lambda d: mean_absolute_error(d[\"y\"], d[\"yhat\"])).rename(\"MAE_type\")\n"
     ]
    },
    {
     "name": "stdout",
     "output_type": "stream",
     "text": [
      "[LightGBM] [Warning] min_data_in_leaf is set=3000, min_child_samples=20 will be ignored. Current value: min_data_in_leaf=3000\n",
      "[LightGBM] [Warning] min_data_in_leaf is set=3000, min_child_samples=20 will be ignored. Current value: min_data_in_leaf=3000\n",
      "[LightGBM] [Info] Auto-choosing row-wise multi-threading, the overhead of testing was 0.004039 seconds.\n",
      "You can set `force_row_wise=true` to remove the overhead.\n",
      "And if memory is not enough, you can set `force_col_wise=true`.\n",
      "[LightGBM] [Info] Total Bins 1107\n",
      "[LightGBM] [Info] Number of data points in the train set: 819585, number of used features: 14\n",
      "[LightGBM] [Warning] min_data_in_leaf is set=3000, min_child_samples=20 will be ignored. Current value: min_data_in_leaf=3000\n",
      "[LightGBM] [Info] Start training from score 270.788151\n",
      "Training until validation scores don't improve for 150 rounds\n",
      "Early stopping, best iteration is:\n",
      "[1625]\tvalid_0's l1: 7.97665\tvalid_0's l2: 150.571\n",
      "[LightGBM] [Warning] min_data_in_leaf is set=3000, min_child_samples=20 will be ignored. Current value: min_data_in_leaf=3000\n"
     ]
    },
    {
     "name": "stderr",
     "output_type": "stream",
     "text": [
      "c:\\Users\\User\\AppData\\Local\\Programs\\Python\\Python313\\Lib\\site-packages\\sklearn\\utils\\validation.py:2749: UserWarning: X does not have valid feature names, but LGBMRegressor was fitted with feature names\n",
      "  warnings.warn(\n",
      "C:\\Users\\User\\AppData\\Local\\Temp\\ipykernel_48164\\3704256362.py:69: FutureWarning: DataFrameGroupBy.apply operated on the grouping columns. This behavior is deprecated, and in a future version of pandas the grouping columns will be excluded from the operation. Either pass `include_groups=False` to exclude the groupings or explicitly select the grouping columns after groupby to silence this warning.\n",
      "  g = tmp.groupby(\"BuildingType_5\").apply(lambda d: mean_absolute_error(d[\"y\"], d[\"yhat\"])).rename(\"MAE_type\")\n"
     ]
    },
    {
     "name": "stdout",
     "output_type": "stream",
     "text": [
      "[LightGBM] [Warning] min_data_in_leaf is set=3000, min_child_samples=20 will be ignored. Current value: min_data_in_leaf=3000\n",
      "[LightGBM] [Warning] min_data_in_leaf is set=3000, min_child_samples=20 will be ignored. Current value: min_data_in_leaf=3000\n",
      "[LightGBM] [Info] Auto-choosing row-wise multi-threading, the overhead of testing was 0.005338 seconds.\n",
      "You can set `force_row_wise=true` to remove the overhead.\n",
      "And if memory is not enough, you can set `force_col_wise=true`.\n",
      "[LightGBM] [Info] Total Bins 1107\n",
      "[LightGBM] [Info] Number of data points in the train set: 819585, number of used features: 14\n",
      "[LightGBM] [Warning] min_data_in_leaf is set=3000, min_child_samples=20 will be ignored. Current value: min_data_in_leaf=3000\n",
      "[LightGBM] [Info] Start training from score 273.727424\n",
      "Training until validation scores don't improve for 150 rounds\n",
      "Early stopping, best iteration is:\n",
      "[1120]\tvalid_0's l1: 7.82365\tvalid_0's l2: 148.497\n",
      "[LightGBM] [Warning] min_data_in_leaf is set=3000, min_child_samples=20 will be ignored. Current value: min_data_in_leaf=3000\n"
     ]
    },
    {
     "name": "stderr",
     "output_type": "stream",
     "text": [
      "c:\\Users\\User\\AppData\\Local\\Programs\\Python\\Python313\\Lib\\site-packages\\sklearn\\utils\\validation.py:2749: UserWarning: X does not have valid feature names, but LGBMRegressor was fitted with feature names\n",
      "  warnings.warn(\n",
      "C:\\Users\\User\\AppData\\Local\\Temp\\ipykernel_48164\\3704256362.py:69: FutureWarning: DataFrameGroupBy.apply operated on the grouping columns. This behavior is deprecated, and in a future version of pandas the grouping columns will be excluded from the operation. Either pass `include_groups=False` to exclude the groupings or explicitly select the grouping columns after groupby to silence this warning.\n",
      "  g = tmp.groupby(\"BuildingType_5\").apply(lambda d: mean_absolute_error(d[\"y\"], d[\"yhat\"])).rename(\"MAE_type\")\n"
     ]
    },
    {
     "name": "stdout",
     "output_type": "stream",
     "text": [
      "[LightGBM] [Warning] min_data_in_leaf is set=3000, min_child_samples=20 will be ignored. Current value: min_data_in_leaf=3000\n",
      "[LightGBM] [Warning] min_data_in_leaf is set=3000, min_child_samples=20 will be ignored. Current value: min_data_in_leaf=3000\n",
      "[LightGBM] [Info] Auto-choosing row-wise multi-threading, the overhead of testing was 0.005435 seconds.\n",
      "You can set `force_row_wise=true` to remove the overhead.\n",
      "And if memory is not enough, you can set `force_col_wise=true`.\n",
      "[LightGBM] [Info] Total Bins 1107\n",
      "[LightGBM] [Info] Number of data points in the train set: 819585, number of used features: 14\n",
      "[LightGBM] [Warning] min_data_in_leaf is set=3000, min_child_samples=20 will be ignored. Current value: min_data_in_leaf=3000\n",
      "[LightGBM] [Info] Start training from score 268.549354\n",
      "Training until validation scores don't improve for 150 rounds\n",
      "Early stopping, best iteration is:\n",
      "[1118]\tvalid_0's l1: 7.8867\tvalid_0's l2: 147.321\n",
      "[LightGBM] [Warning] min_data_in_leaf is set=3000, min_child_samples=20 will be ignored. Current value: min_data_in_leaf=3000\n"
     ]
    },
    {
     "name": "stderr",
     "output_type": "stream",
     "text": [
      "c:\\Users\\User\\AppData\\Local\\Programs\\Python\\Python313\\Lib\\site-packages\\sklearn\\utils\\validation.py:2749: UserWarning: X does not have valid feature names, but LGBMRegressor was fitted with feature names\n",
      "  warnings.warn(\n",
      "C:\\Users\\User\\AppData\\Local\\Temp\\ipykernel_48164\\3704256362.py:69: FutureWarning: DataFrameGroupBy.apply operated on the grouping columns. This behavior is deprecated, and in a future version of pandas the grouping columns will be excluded from the operation. Either pass `include_groups=False` to exclude the groupings or explicitly select the grouping columns after groupby to silence this warning.\n",
      "  g = tmp.groupby(\"BuildingType_5\").apply(lambda d: mean_absolute_error(d[\"y\"], d[\"yhat\"])).rename(\"MAE_type\")\n"
     ]
    },
    {
     "name": "stdout",
     "output_type": "stream",
     "text": [
      "[LightGBM] [Warning] min_data_in_leaf is set=3000, min_child_samples=20 will be ignored. Current value: min_data_in_leaf=3000\n",
      "[LightGBM] [Warning] min_data_in_leaf is set=3000, min_child_samples=20 will be ignored. Current value: min_data_in_leaf=3000\n",
      "[LightGBM] [Info] Auto-choosing row-wise multi-threading, the overhead of testing was 0.006344 seconds.\n",
      "You can set `force_row_wise=true` to remove the overhead.\n",
      "And if memory is not enough, you can set `force_col_wise=true`.\n",
      "[LightGBM] [Info] Total Bins 1107\n",
      "[LightGBM] [Info] Number of data points in the train set: 819585, number of used features: 14\n",
      "[LightGBM] [Warning] min_data_in_leaf is set=3000, min_child_samples=20 will be ignored. Current value: min_data_in_leaf=3000\n",
      "[LightGBM] [Info] Start training from score 271.246760\n",
      "Training until validation scores don't improve for 150 rounds\n",
      "Early stopping, best iteration is:\n",
      "[2131]\tvalid_0's l1: 7.9687\tvalid_0's l2: 150.9\n",
      "[LightGBM] [Warning] min_data_in_leaf is set=3000, min_child_samples=20 will be ignored. Current value: min_data_in_leaf=3000\n"
     ]
    },
    {
     "name": "stderr",
     "output_type": "stream",
     "text": [
      "c:\\Users\\User\\AppData\\Local\\Programs\\Python\\Python313\\Lib\\site-packages\\sklearn\\utils\\validation.py:2749: UserWarning: X does not have valid feature names, but LGBMRegressor was fitted with feature names\n",
      "  warnings.warn(\n",
      "C:\\Users\\User\\AppData\\Local\\Temp\\ipykernel_48164\\3704256362.py:69: FutureWarning: DataFrameGroupBy.apply operated on the grouping columns. This behavior is deprecated, and in a future version of pandas the grouping columns will be excluded from the operation. Either pass `include_groups=False` to exclude the groupings or explicitly select the grouping columns after groupby to silence this warning.\n",
      "  g = tmp.groupby(\"BuildingType_5\").apply(lambda d: mean_absolute_error(d[\"y\"], d[\"yhat\"])).rename(\"MAE_type\")\n"
     ]
    },
    {
     "name": "stdout",
     "output_type": "stream",
     "text": [
      "[LightGBM] [Warning] min_data_in_leaf is set=3000, min_child_samples=20 will be ignored. Current value: min_data_in_leaf=3000\n",
      "[LightGBM] [Warning] min_data_in_leaf is set=3000, min_child_samples=20 will be ignored. Current value: min_data_in_leaf=3000\n",
      "[LightGBM] [Info] Auto-choosing row-wise multi-threading, the overhead of testing was 0.005176 seconds.\n",
      "You can set `force_row_wise=true` to remove the overhead.\n",
      "And if memory is not enough, you can set `force_col_wise=true`.\n",
      "[LightGBM] [Info] Total Bins 1107\n",
      "[LightGBM] [Info] Number of data points in the train set: 819585, number of used features: 14\n",
      "[LightGBM] [Warning] min_data_in_leaf is set=3000, min_child_samples=20 will be ignored. Current value: min_data_in_leaf=3000\n",
      "[LightGBM] [Info] Start training from score 272.202964\n",
      "Training until validation scores don't improve for 150 rounds\n",
      "Early stopping, best iteration is:\n",
      "[935]\tvalid_0's l1: 7.61077\tvalid_0's l2: 143.382\n",
      "[LightGBM] [Warning] min_data_in_leaf is set=3000, min_child_samples=20 will be ignored. Current value: min_data_in_leaf=3000\n"
     ]
    },
    {
     "name": "stderr",
     "output_type": "stream",
     "text": [
      "c:\\Users\\User\\AppData\\Local\\Programs\\Python\\Python313\\Lib\\site-packages\\sklearn\\utils\\validation.py:2749: UserWarning: X does not have valid feature names, but LGBMRegressor was fitted with feature names\n",
      "  warnings.warn(\n",
      "C:\\Users\\User\\AppData\\Local\\Temp\\ipykernel_48164\\3704256362.py:69: FutureWarning: DataFrameGroupBy.apply operated on the grouping columns. This behavior is deprecated, and in a future version of pandas the grouping columns will be excluded from the operation. Either pass `include_groups=False` to exclude the groupings or explicitly select the grouping columns after groupby to silence this warning.\n",
      "  g = tmp.groupby(\"BuildingType_5\").apply(lambda d: mean_absolute_error(d[\"y\"], d[\"yhat\"])).rename(\"MAE_type\")\n"
     ]
    },
    {
     "name": "stdout",
     "output_type": "stream",
     "text": [
      "[LightGBM] [Warning] min_data_in_leaf is set=3000, min_child_samples=20 will be ignored. Current value: min_data_in_leaf=3000\n",
      "[LightGBM] [Warning] min_data_in_leaf is set=3000, min_child_samples=20 will be ignored. Current value: min_data_in_leaf=3000\n",
      "[LightGBM] [Info] Auto-choosing row-wise multi-threading, the overhead of testing was 0.004291 seconds.\n",
      "You can set `force_row_wise=true` to remove the overhead.\n",
      "And if memory is not enough, you can set `force_col_wise=true`.\n",
      "[LightGBM] [Info] Total Bins 1107\n",
      "[LightGBM] [Info] Number of data points in the train set: 819585, number of used features: 14\n",
      "[LightGBM] [Warning] min_data_in_leaf is set=3000, min_child_samples=20 will be ignored. Current value: min_data_in_leaf=3000\n",
      "[LightGBM] [Info] Start training from score 272.609537\n",
      "Training until validation scores don't improve for 150 rounds\n",
      "Early stopping, best iteration is:\n",
      "[2305]\tvalid_0's l1: 7.44865\tvalid_0's l2: 134.123\n",
      "[LightGBM] [Warning] min_data_in_leaf is set=3000, min_child_samples=20 will be ignored. Current value: min_data_in_leaf=3000\n"
     ]
    },
    {
     "name": "stderr",
     "output_type": "stream",
     "text": [
      "c:\\Users\\User\\AppData\\Local\\Programs\\Python\\Python313\\Lib\\site-packages\\sklearn\\utils\\validation.py:2749: UserWarning: X does not have valid feature names, but LGBMRegressor was fitted with feature names\n",
      "  warnings.warn(\n",
      "C:\\Users\\User\\AppData\\Local\\Temp\\ipykernel_48164\\3704256362.py:69: FutureWarning: DataFrameGroupBy.apply operated on the grouping columns. This behavior is deprecated, and in a future version of pandas the grouping columns will be excluded from the operation. Either pass `include_groups=False` to exclude the groupings or explicitly select the grouping columns after groupby to silence this warning.\n",
      "  g = tmp.groupby(\"BuildingType_5\").apply(lambda d: mean_absolute_error(d[\"y\"], d[\"yhat\"])).rename(\"MAE_type\")\n"
     ]
    },
    {
     "name": "stdout",
     "output_type": "stream",
     "text": [
      "[LightGBM] [Warning] min_data_in_leaf is set=3000, min_child_samples=20 will be ignored. Current value: min_data_in_leaf=3000\n",
      "[LightGBM] [Warning] min_data_in_leaf is set=3000, min_child_samples=20 will be ignored. Current value: min_data_in_leaf=3000\n",
      "[LightGBM] [Info] Auto-choosing row-wise multi-threading, the overhead of testing was 0.004148 seconds.\n",
      "You can set `force_row_wise=true` to remove the overhead.\n",
      "And if memory is not enough, you can set `force_col_wise=true`.\n",
      "[LightGBM] [Info] Total Bins 1107\n",
      "[LightGBM] [Info] Number of data points in the train set: 819585, number of used features: 14\n",
      "[LightGBM] [Warning] min_data_in_leaf is set=3000, min_child_samples=20 will be ignored. Current value: min_data_in_leaf=3000\n",
      "[LightGBM] [Info] Start training from score 270.436684\n",
      "Training until validation scores don't improve for 150 rounds\n",
      "Early stopping, best iteration is:\n",
      "[1363]\tvalid_0's l1: 7.1427\tvalid_0's l2: 115.852\n",
      "[LightGBM] [Warning] min_data_in_leaf is set=3000, min_child_samples=20 will be ignored. Current value: min_data_in_leaf=3000\n"
     ]
    },
    {
     "name": "stderr",
     "output_type": "stream",
     "text": [
      "c:\\Users\\User\\AppData\\Local\\Programs\\Python\\Python313\\Lib\\site-packages\\sklearn\\utils\\validation.py:2749: UserWarning: X does not have valid feature names, but LGBMRegressor was fitted with feature names\n",
      "  warnings.warn(\n"
     ]
    },
    {
     "name": "stdout",
     "output_type": "stream",
     "text": [
      "=== Hardest 5 cities (overall LOCO MAE) ===\n",
      "       City    MAE  iters\n",
      "     Almaty 39.992   1800\n",
      "    Karachi 37.114   1962\n",
      "Mexico City 34.833   1118\n",
      "   Honduras 24.445   1856\n",
      "SouthAfrica 23.397   1363\n",
      "\n",
      "=== Per-type MAE in each of the hardest cities ===\n",
      "\n",
      "[Almaty]\n",
      "  City            BuildingType_5 MAE_type  support\n",
      "Almaty   multifamily residential   43.631     8111\n",
      "Almaty single family residential   42.792    23965\n",
      "Almaty             public sector   40.909     1619\n",
      "Almaty                commercial   38.359     8500\n",
      "Almaty                industrial   25.306     5734\n",
      "\n",
      "[Karachi]\n",
      "   City          BuildingType_5 MAE_type  support\n",
      "Karachi           public sector   37.700     2974\n",
      "Karachi multifamily residential   37.320    23965\n",
      "Karachi                   Other   37.228    13662\n",
      "Karachi              commercial   36.814     4262\n",
      "Karachi              industrial   34.840     3066\n",
      "\n",
      "[Mexico City]\n",
      "       City            BuildingType_5 MAE_type  support\n",
      "Mexico City             public sector   35.845     7216\n",
      "Mexico City                commercial   35.419     8573\n",
      "Mexico City   multifamily residential   35.047    23965\n",
      "Mexico City                industrial   32.734     5858\n",
      "Mexico City single family residential   32.599     2317\n",
      "\n",
      "[Honduras]\n",
      "    City            BuildingType_5 MAE_type  support\n",
      "Honduras   multifamily residential   25.410      175\n",
      "Honduras                industrial   25.396      864\n",
      "Honduras             public sector   25.218     2685\n",
      "Honduras single family residential   24.492    23965\n",
      "Honduras                     Other   24.419     6201\n",
      "Honduras                commercial   24.159    14039\n",
      "\n",
      "[SouthAfrica]\n",
      "       City            BuildingType_5 MAE_type  support\n",
      "SouthAfrica                commercial   31.128     6724\n",
      "SouthAfrica                industrial   27.691     3796\n",
      "SouthAfrica   multifamily residential   21.823     4761\n",
      "SouthAfrica single family residential   21.590    23965\n",
      "SouthAfrica             public sector   21.460     3758\n",
      "SouthAfrica                     Other   21.328     4925\n",
      "\n",
      "Saved: artifacts/loco_city_overall_mae.csv artifacts/loco_city_type_mae.csv\n"
     ]
    },
    {
     "name": "stderr",
     "output_type": "stream",
     "text": [
      "C:\\Users\\User\\AppData\\Local\\Temp\\ipykernel_48164\\3704256362.py:69: FutureWarning: DataFrameGroupBy.apply operated on the grouping columns. This behavior is deprecated, and in a future version of pandas the grouping columns will be excluded from the operation. Either pass `include_groups=False` to exclude the groupings or explicitly select the grouping columns after groupby to silence this warning.\n",
      "  g = tmp.groupby(\"BuildingType_5\").apply(lambda d: mean_absolute_error(d[\"y\"], d[\"yhat\"])).rename(\"MAE_type\")\n"
     ]
    }
   ],
   "source": [
    "# === LOCO diagnostics: MAE by BuildingType_5 for the hardest cities ===\n",
    "import pandas as pd, numpy as np\n",
    "from pathlib import Path\n",
    "from sklearn.model_selection import train_test_split\n",
    "from sklearn.preprocessing import OneHotEncoder, StandardScaler\n",
    "from sklearn.compose import ColumnTransformer\n",
    "from sklearn.metrics import mean_absolute_error\n",
    "from lightgbm import LGBMRegressor, early_stopping, log_evaluation\n",
    "\n",
    "DATA = Path(\"C:/Users/User/Desktop/ML/Project/solar-potential-analysis-github-setup/New_approach/dataset/cleaned_datasets/top20_balanced_sample.parquet\")\n",
    "OUT  = Path(\"artifacts\"); OUT.mkdir(parents=True, exist_ok=True)\n",
    "\n",
    "cols = [\"City\",\"BuildingType_5\",\"kWh_per_m2\",\n",
    "        \"tilt\",\"tilt2\",\"tilt_sin\",\"tilt_cos\",\n",
    "        \"GHI_kWh_per_m2_day\",\"AvgTemp_C\",\"ClearnessIndex\",\"Precip_mm_per_day\"]\n",
    "df = pd.read_parquet(DATA, columns=cols).copy()\n",
    "\n",
    "TARGET = \"kWh_per_m2\"\n",
    "CAT = [\"BuildingType_5\"]\n",
    "NUM = [\"tilt\",\"tilt2\",\"tilt_sin\",\"tilt_cos\",\"GHI_kWh_per_m2_day\",\"AvgTemp_C\",\"ClearnessIndex\",\"Precip_mm_per_day\"]\n",
    "\n",
    "cities = sorted(df[\"City\"].astype(str).unique())\n",
    "rows = []\n",
    "per_city_type = []\n",
    "\n",
    "for city in cities:\n",
    "    test  = df[df[\"City\"] == city].copy()\n",
    "    train = df[df[\"City\"] != city].copy()\n",
    "\n",
    "    pre = ColumnTransformer([\n",
    "        (\"num\", StandardScaler(), NUM),\n",
    "        (\"cat\", OneHotEncoder(handle_unknown=\"ignore\", sparse_output=False), CAT),\n",
    "    ])\n",
    "\n",
    "    Xtr_full = train[CAT+NUM]; ytr_full = train[TARGET].astype(float).values\n",
    "    Xte = test[CAT+NUM];        yte = test[TARGET].astype(float).values\n",
    "    Xtr, Xval, ytr, yval = train_test_split(Xtr_full, ytr_full, test_size=0.10, random_state=42)\n",
    "\n",
    "    Xt_tr  = pre.fit_transform(Xtr)\n",
    "    Xt_val = pre.transform(Xval)\n",
    "    Xt_te  = pre.transform(Xte)\n",
    "\n",
    "    model = LGBMRegressor(\n",
    "        objective=\"regression\",\n",
    "        n_estimators=3000,\n",
    "        learning_rate=0.03,\n",
    "        num_leaves=31,\n",
    "        min_data_in_leaf=3000,\n",
    "        subsample=0.8,\n",
    "        colsample_bytree=0.8,\n",
    "        reg_lambda=1.0,\n",
    "        random_state=42,\n",
    "        n_jobs=-1,\n",
    "    )\n",
    "    model.fit(\n",
    "        Xt_tr, ytr,\n",
    "        eval_set=[(Xt_val, yval)],\n",
    "        eval_metric=\"l1\",\n",
    "        callbacks=[early_stopping(stopping_rounds=150), log_evaluation(period=0)],\n",
    "    )\n",
    "    pred = model.predict(Xt_te, num_iteration=model.best_iteration_)\n",
    "    overall = mean_absolute_error(yte, pred)\n",
    "    rows.append({\"City\": city, \"MAE\": overall, \"iters\": model.best_iteration_})\n",
    "\n",
    "    # per-type MAE in this city\n",
    "    tmp = test[[\"BuildingType_5\"]].copy()\n",
    "    tmp[\"y\"] = yte\n",
    "    tmp[\"yhat\"] = pred\n",
    "    g = tmp.groupby(\"BuildingType_5\").apply(lambda d: mean_absolute_error(d[\"y\"], d[\"yhat\"])).rename(\"MAE_type\")\n",
    "    for t, v in g.items():\n",
    "        per_city_type.append({\"City\": city, \"BuildingType_5\": t, \"MAE_type\": v, \"support\": (tmp[\"BuildingType_5\"]==t).sum()})\n",
    "\n",
    "res = pd.DataFrame(rows).sort_values(\"MAE\", ascending=False).reset_index(drop=True)\n",
    "by_type = pd.DataFrame(per_city_type)\n",
    "\n",
    "# Show top-5 hardest cities with their per-type MAE (sorted by MAE_type desc)\n",
    "hard5 = res.head(5)[\"City\"].tolist()\n",
    "print(\"=== Hardest 5 cities (overall LOCO MAE) ===\")\n",
    "print(res.head(5).to_string(index=False, formatters={\"MAE\": lambda x: f\"{x:.3f}\"}))\n",
    "\n",
    "print(\"\\n=== Per-type MAE in each of the hardest cities ===\")\n",
    "for c in hard5:\n",
    "    sub = by_type[by_type[\"City\"]==c].sort_values(\"MAE_type\", ascending=False)\n",
    "    print(f\"\\n[{c}]\")\n",
    "    print(sub.to_string(index=False, formatters={\"MAE_type\": lambda x: f\"{x:.3f}\"}))\n",
    "\n",
    "# Save artifacts\n",
    "res.to_csv(OUT/\"loco_city_overall_mae.csv\", index=False)\n",
    "by_type.to_csv(OUT/\"loco_city_type_mae.csv\", index=False)\n",
    "print(\"\\nSaved:\",\n",
    "      (OUT/\"loco_city_overall_mae.csv\").as_posix(),\n",
    "      (OUT/\"loco_city_type_mae.csv\").as_posix())\n"
   ]
  },
  {
   "cell_type": "code",
   "execution_count": 11,
   "id": "cf8392f7",
   "metadata": {},
   "outputs": [
    {
     "name": "stderr",
     "output_type": "stream",
     "text": [
      "C:\\Users\\User\\AppData\\Local\\Temp\\ipykernel_48164\\2660046532.py:62: UserWarning: set_ticklabels() should only be used with a fixed number of ticks, i.e. after set_ticks() or using a FixedLocator.\n",
      "  ax.set_xticklabels(sub[\"BuildingType_5\"].astype(str), rotation=30, ha=\"right\")\n",
      "C:\\Users\\User\\AppData\\Local\\Temp\\ipykernel_48164\\2660046532.py:62: UserWarning: set_ticklabels() should only be used with a fixed number of ticks, i.e. after set_ticks() or using a FixedLocator.\n",
      "  ax.set_xticklabels(sub[\"BuildingType_5\"].astype(str), rotation=30, ha=\"right\")\n",
      "C:\\Users\\User\\AppData\\Local\\Temp\\ipykernel_48164\\2660046532.py:62: UserWarning: set_ticklabels() should only be used with a fixed number of ticks, i.e. after set_ticks() or using a FixedLocator.\n",
      "  ax.set_xticklabels(sub[\"BuildingType_5\"].astype(str), rotation=30, ha=\"right\")\n"
     ]
    },
    {
     "name": "stdout",
     "output_type": "stream",
     "text": [
      "Saved slide visuals:\n",
      " - artifacts/viz_model_comparison_cv.png\n",
      " - artifacts/viz_loco_mae_by_city.png\n",
      " - artifacts/viz_hardest3_per_type.png\n"
     ]
    }
   ],
   "source": [
    "# === Slide visuals pack ===\n",
    "import pandas as pd, numpy as np\n",
    "import matplotlib.pyplot as plt\n",
    "from pathlib import Path\n",
    "\n",
    "ART = Path(\"artifacts\")\n",
    "OUT = ART  # save alongside other artifacts\n",
    "OUT.mkdir(parents=True, exist_ok=True)\n",
    "\n",
    "# ---------- 1) Model comparison (CV MAE ± std) ----------\n",
    "# Using your run summaries\n",
    "models = [\"OLS\", \"Huber\", \"LightGBM (L2 baseline)\", \"LightGBM (L2 smoothed)\"]\n",
    "means  = [23.417, 23.489, 17.291, 17.001]\n",
    "stds   = [ 4.644,  4.887,  3.185,  2.999]\n",
    "\n",
    "plt.figure(figsize=(10,6))\n",
    "x = np.arange(len(models))\n",
    "plt.bar(x, means, yerr=stds, capsize=6)\n",
    "plt.xticks(x, models, rotation=15, ha=\"right\")\n",
    "plt.ylabel(\"MAE (kWh/m²)\")\n",
    "plt.title(\"Cross-validated MAE by Model (GroupKFold by City)\")\n",
    "plt.tight_layout()\n",
    "plt.savefig(OUT/\"viz_model_comparison_cv.png\", dpi=220)\n",
    "plt.close()\n",
    "\n",
    "# ---------- 2) LOCO MAE by city (sorted) ----------\n",
    "loco_path = ART / \"loco_lgbm_l2_smooth_mae.csv\"\n",
    "loco = pd.read_csv(loco_path)  # expects columns: City, MAE, n (if present)\n",
    "loco = loco.sort_values(\"MAE\", ascending=True)\n",
    "\n",
    "plt.figure(figsize=(11,7))\n",
    "y = np.arange(len(loco))\n",
    "plt.barh(y, loco[\"MAE\"].values)\n",
    "plt.yticks(y, loco[\"City\"].tolist())\n",
    "plt.xlabel(\"MAE (kWh/m²)\")\n",
    "plt.title(\"LOCO — MAE by Held-out City (LightGBM L2 smoothed)\")\n",
    "plt.tight_layout()\n",
    "plt.savefig(OUT/\"viz_loco_mae_by_city.png\", dpi=220)\n",
    "plt.close()\n",
    "\n",
    "# ---------- 3) Per-type MAE in the 3 hardest cities ----------\n",
    "by_type = pd.read_csv(ART / \"loco_city_type_mae.csv\")  # City, BuildingType_5, MAE_type, support\n",
    "hard3 = pd.read_csv(loco_path).sort_values(\"MAE\", ascending=False)[\"City\"].head(3).tolist()\n",
    "\n",
    "order_types = [\n",
    "    \"single family residential\",\n",
    "    \"multifamily residential\",\n",
    "    \"commercial\",\n",
    "    \"industrial\",\n",
    "    \"public sector\",\n",
    "    \"Other\",\n",
    "]\n",
    "\n",
    "fig, axes = plt.subplots(1, 3, figsize=(14,4.5), sharey=True)\n",
    "for ax, city in zip(axes, hard3):\n",
    "    sub = by_type[by_type[\"City\"]==city].copy()\n",
    "    # ensure consistent type order (drop missing gracefully)\n",
    "    sub[\"BuildingType_5\"] = pd.Categorical(sub[\"BuildingType_5\"], categories=order_types, ordered=True)\n",
    "    sub = sub.sort_values(\"BuildingType_5\")\n",
    "    ax.bar(sub[\"BuildingType_5\"].astype(str), sub[\"MAE_type\"].values)\n",
    "    ax.set_title(city)\n",
    "    ax.set_xticklabels(sub[\"BuildingType_5\"].astype(str), rotation=30, ha=\"right\")\n",
    "    ax.set_ylim(0, max(40, sub[\"MAE_type\"].max()*1.15))\n",
    "axes[0].set_ylabel(\"MAE (kWh/m²)\")\n",
    "fig.suptitle(\"LOCO — MAE by BuildingType in Hardest 3 Cities\", y=1.02)\n",
    "plt.tight_layout()\n",
    "plt.savefig(OUT/\"viz_hardest3_per_type.png\", dpi=220, bbox_inches=\"tight\")\n",
    "plt.close()\n",
    "\n",
    "print(\"Saved slide visuals:\")\n",
    "print(\" - artifacts/viz_model_comparison_cv.png\")\n",
    "print(\" - artifacts/viz_loco_mae_by_city.png\")\n",
    "print(\" - artifacts/viz_hardest3_per_type.png\")\n"
   ]
  },
  {
   "cell_type": "code",
   "execution_count": 12,
   "id": "5b0e7133",
   "metadata": {},
   "outputs": [
    {
     "name": "stdout",
     "output_type": "stream",
     "text": [
      "<class 'pandas.core.frame.DataFrame'>\n",
      "RangeIndex: 958580 entries, 0 to 958579\n",
      "Data columns (total 11 columns):\n",
      " #   Column              Non-Null Count   Dtype  \n",
      "---  ------              --------------   -----  \n",
      " 0   City                958580 non-null  object \n",
      " 1   BuildingType_5      958580 non-null  object \n",
      " 2   kWh_per_m2          958580 non-null  float64\n",
      " 3   tilt                958580 non-null  float64\n",
      " 4   tilt2               958580 non-null  float64\n",
      " 5   tilt_sin            958580 non-null  float64\n",
      " 6   tilt_cos            958580 non-null  float64\n",
      " 7   GHI_kWh_per_m2_day  958580 non-null  float64\n",
      " 8   AvgTemp_C           958580 non-null  float64\n",
      " 9   ClearnessIndex      958580 non-null  float64\n",
      " 10  Precip_mm_per_day   958580 non-null  float64\n",
      "dtypes: float64(9), object(2)\n",
      "memory usage: 80.4+ MB\n"
     ]
    }
   ],
   "source": [
    "df.info()"
   ]
  },
  {
   "cell_type": "code",
   "execution_count": 13,
   "id": "d2ada9f2",
   "metadata": {},
   "outputs": [
    {
     "data": {
      "text/plain": [
       "(958580, 11)"
      ]
     },
     "execution_count": 13,
     "metadata": {},
     "output_type": "execute_result"
    }
   ],
   "source": [
    "df.shape"
   ]
  },
  {
   "cell_type": "code",
   "execution_count": null,
   "id": "18bb81af",
   "metadata": {},
   "outputs": [],
   "source": []
  }
 ],
 "metadata": {
  "kernelspec": {
   "display_name": "Python 3",
   "language": "python",
   "name": "python3"
  },
  "language_info": {
   "codemirror_mode": {
    "name": "ipython",
    "version": 3
   },
   "file_extension": ".py",
   "mimetype": "text/x-python",
   "name": "python",
   "nbconvert_exporter": "python",
   "pygments_lexer": "ipython3",
   "version": "3.13.7"
  }
 },
 "nbformat": 4,
 "nbformat_minor": 5
}
