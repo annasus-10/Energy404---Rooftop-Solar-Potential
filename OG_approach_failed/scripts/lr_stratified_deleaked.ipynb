{
 "cells": [
  {
   "cell_type": "code",
   "execution_count": 1,
   "id": "e7cc455d",
   "metadata": {},
   "outputs": [],
   "source": [
    "# lr_stratified_deleaked.py\n",
    "import pandas as pd, numpy as np\n",
    "from pathlib import Path\n",
    "from sklearn.pipeline import Pipeline\n",
    "from sklearn.preprocessing import StandardScaler\n",
    "from sklearn.linear_model import LinearRegression\n",
    "from sklearn.metrics import mean_absolute_error, mean_squared_error, r2_score\n",
    "from joblib import dump"
   ]
  },
  {
   "cell_type": "code",
   "execution_count": null,
   "id": "7eea5443",
   "metadata": {},
   "outputs": [],
   "source": [
    "TRAIN_CSV = Path(\"C:/Users/User/Desktop/ML/Project/solar-potential-analysis-github-setup/splits/combined_stratified_city_type/train_combined.csv\")\n",
    "TEST_CSV  = Path(\"C:/Users/User/Desktop/ML/Project/solar-potential-analysis-github-setup/splits/combined_stratified_city_type/test_combined.csv\")\n",
    "TARGET = \"Energy_potential_per_year\"\n",
    "LEAKY = {\"Peak_installable_capacity\", \"Potential_installable_area\"}\n",
    "OUT_DIR = Path(\"outputs_lr_stratified\")\n",
    "OUT_DIR.mkdir(parents=True, exist_ok=True)"
   ]
  },
  {
   "cell_type": "code",
   "execution_count": 3,
   "id": "410d6992",
   "metadata": {},
   "outputs": [],
   "source": [
    "# ====== LOAD ======\n",
    "train = pd.read_csv(TRAIN_CSV).dropna(subset=[TARGET]).copy()\n",
    "test  = pd.read_csv(TEST_CSV ).dropna(subset=[TARGET]).copy()"
   ]
  },
  {
   "cell_type": "code",
   "execution_count": 11,
   "id": "ce808ba1",
   "metadata": {},
   "outputs": [
    {
     "name": "stdout",
     "output_type": "stream",
     "text": [
      "<class 'pandas.core.frame.DataFrame'>\n",
      "RangeIndex: 5224608 entries, 0 to 5224607\n",
      "Data columns (total 7 columns):\n",
      " #   Column                      Dtype  \n",
      "---  ------                      -----  \n",
      " 0   City                        object \n",
      " 1   Surface_area                float64\n",
      " 2   Potential_installable_area  float64\n",
      " 3   Peak_installable_capacity   float64\n",
      " 4   Energy_potential_per_year   float64\n",
      " 5   Assumed_building_type       int64  \n",
      " 6   Estimated_tilt              float64\n",
      "dtypes: float64(5), int64(1), object(1)\n",
      "memory usage: 279.0+ MB\n"
     ]
    }
   ],
   "source": [
    "train.info()"
   ]
  },
  {
   "cell_type": "code",
   "execution_count": 4,
   "id": "09b404e8",
   "metadata": {},
   "outputs": [],
   "source": [
    "# ====== FEATURE PICKER (OG numeric minus TARGET minus LEAKY) ======\n",
    "def pick_features(frame):\n",
    "    feats = frame.select_dtypes(include=[np.number]).columns.difference([TARGET])\n",
    "    feats = [c for c in feats if c not in LEAKY and c.lower() not in {\"id\",\"idx\",\"index\"}]\n",
    "    return feats"
   ]
  },
  {
   "cell_type": "code",
   "execution_count": 5,
   "id": "4f1cdc42",
   "metadata": {},
   "outputs": [
    {
     "name": "stdout",
     "output_type": "stream",
     "text": [
      "[Stratified] Using 3 features (excluding ['Peak_installable_capacity', 'Potential_installable_area']):\n",
      " - Assumed_building_type\n",
      " - Estimated_tilt\n",
      " - Surface_area\n"
     ]
    }
   ],
   "source": [
    "features = pick_features(train)\n",
    "print(f\"[Stratified] Using {len(features)} features (excluding {sorted(LEAKY) if LEAKY else 'none'}):\")\n",
    "print(\" - \" + \"\\n - \".join(features))"
   ]
  },
  {
   "cell_type": "code",
   "execution_count": 6,
   "id": "be01abb3",
   "metadata": {},
   "outputs": [],
   "source": [
    "# quick correlation peek on TRAIN only\n",
    "corr = train[features + [TARGET]].corr()[TARGET].drop(labels=[TARGET]).sort_values(key=np.abs, ascending=False)\n",
    "corr.head(10).to_frame(\"pearson_corr_to_target\").to_csv(OUT_DIR / \"corr_top10_train.csv\")\n"
   ]
  },
  {
   "cell_type": "code",
   "execution_count": 7,
   "id": "34fcb084",
   "metadata": {},
   "outputs": [],
   "source": [
    "# Drop rows missing any feature (clean baseline)\n",
    "train = train.dropna(subset=features)\n",
    "test  = test.dropna(subset=features)\n",
    "\n",
    "Xtr, ytr = train[features].to_numpy(), train[TARGET].astype(float).to_numpy()\n",
    "Xte, yte = test[features].to_numpy(),  test[TARGET].astype(float).to_numpy()"
   ]
  },
  {
   "cell_type": "code",
   "execution_count": 8,
   "id": "c3f0d1c7",
   "metadata": {},
   "outputs": [
    {
     "name": "stdout",
     "output_type": "stream",
     "text": [
      "\n",
      "=== Stratified fixed split (de-leaked LR) ===\n",
      "MAE = 5662.715477\n",
      "MSE = 328448908.915259\n",
      "R2  = 0.936754\n"
     ]
    }
   ],
   "source": [
    "# ====== MODEL PIPELINE ======\n",
    "pipe = Pipeline([(\"scaler\", StandardScaler()), (\"lr\", LinearRegression())])\n",
    "\n",
    "pipe.fit(Xtr, ytr)\n",
    "yhat = pipe.predict(Xte)\n",
    "\n",
    "mae = mean_absolute_error(yte, yhat)\n",
    "mse = mean_squared_error(yte, yhat)\n",
    "r2  = r2_score(yte, yhat)\n",
    "\n",
    "print(\"\\n=== Stratified fixed split (de-leaked LR) ===\")\n",
    "print(f\"MAE = {mae:.6f}\")\n",
    "print(f\"MSE = {mse:.6f}\")\n",
    "print(f\"R2  = {r2:.6f}\")\n",
    "\n",
    "coef_df = pd.DataFrame({\"feature\": features, \"coef\": pipe.named_steps[\"lr\"].coef_}) \\\n",
    "            .sort_values(\"coef\", key=np.abs, ascending=False)\n",
    "coef_df.to_csv(OUT_DIR / \"coefficients.csv\", index=False)"
   ]
  },
  {
   "cell_type": "code",
   "execution_count": 9,
   "id": "584a0a85",
   "metadata": {},
   "outputs": [
    {
     "name": "stdout",
     "output_type": "stream",
     "text": [
      "\n",
      "Artifacts -> C:\\Users\\User\\Desktop\\ML\\Project\\solar-potential-analysis-github-setup\\scripts\\outputs_lr_stratified\n"
     ]
    }
   ],
   "source": [
    "pd.DataFrame({\"MAE\":[mae], \"MSE\":[mse], \"R2\":[r2]}).to_csv(OUT_DIR / \"metrics.csv\", index=False)\n",
    "dump(pipe, OUT_DIR / \"lr_stratified.joblib\")\n",
    "\n",
    "print(f\"\\nArtifacts -> {OUT_DIR.resolve()}\")"
   ]
  },
  {
   "cell_type": "code",
   "execution_count": 13,
   "id": "a0d54c45",
   "metadata": {},
   "outputs": [
    {
     "name": "stdout",
     "output_type": "stream",
     "text": [
      "MAE = 20843.727901880135\n",
      "MSE = 4973511067.991931\n",
      "R2  = 0.04229751618505084\n"
     ]
    }
   ],
   "source": [
    "# === Stratified with proper one-hot for Assumed_building_type (int labels) ===\n",
    "import pandas as pd, numpy as np\n",
    "from pathlib import Path\n",
    "from sklearn.compose import ColumnTransformer\n",
    "from sklearn.preprocessing import OneHotEncoder, StandardScaler\n",
    "from sklearn.pipeline import Pipeline\n",
    "from sklearn.linear_model import LinearRegression\n",
    "from sklearn.metrics import mean_absolute_error, mean_squared_error, r2_score\n",
    "\n",
    "TARGET = \"Energy_potential_per_year\"\n",
    "CAT_COLS = [\"Assumed_building_type\"]       # FORCE categorical\n",
    "NUM_COLS = [\"Estimated_tilt\"]              # numeric\n",
    "\n",
    "\n",
    "pre = ColumnTransformer(\n",
    "    transformers=[\n",
    "        (\"cat\", OneHotEncoder(handle_unknown=\"ignore\", sparse_output=False), CAT_COLS),\n",
    "        (\"num\", StandardScaler(), NUM_COLS),\n",
    "    ],\n",
    "    remainder=\"drop\",\n",
    ")\n",
    "\n",
    "pipe = Pipeline([(\"pre\", pre), (\"lr\", LinearRegression())])\n",
    "\n",
    "Xtr, ytr = train[CAT_COLS + NUM_COLS], train[TARGET].astype(float).values\n",
    "Xte, yte = test [CAT_COLS + NUM_COLS], test [TARGET].astype(float).values\n",
    "\n",
    "pipe.fit(Xtr, ytr)\n",
    "yhat = pipe.predict(Xte)\n",
    "\n",
    "print(\"MAE =\", mean_absolute_error(yte, yhat))\n",
    "print(\"MSE =\", mean_squared_error(yte, yhat))\n",
    "print(\"R2  =\", r2_score(yte, yhat))\n"
   ]
  },
  {
   "cell_type": "code",
   "execution_count": 15,
   "id": "5b03a4a7",
   "metadata": {},
   "outputs": [
    {
     "name": "stdout",
     "output_type": "stream",
     "text": [
      "=== A) Target = EPY; Features = {type, tilt, Surface_area} ===\n",
      "Linear  | MAE=5,621.47 | MSE=326,555,228.38 | R2=0.9371\n",
      " Ridge  | MAE=5,621.46 | MSE=326,555,261.75 | R2=0.9371\n",
      " Huber  | MAE=4,571.72 | MSE=412,432,113.71 | R2=0.9206\n",
      "\n",
      "=== B) Target = kWh_per_m2; Features = {type, tilt} (no size) ===\n",
      "Linear  | MAE=35.8043 | MSE=4,042.3284 | R2=0.0185\n",
      " Ridge  | MAE=35.8043 | MSE=4,042.3284 | R2=0.0185\n",
      " Huber  | MAE=34.6246 | MSE=4,176.0292 | R2=-0.0140\n"
     ]
    }
   ],
   "source": [
    "# === Stratified: Compare (A) EPY with a weak size proxy vs (B) Normalized target ===\n",
    "import pandas as pd, numpy as np\n",
    "from pathlib import Path\n",
    "\n",
    "from sklearn.compose import ColumnTransformer\n",
    "from sklearn.preprocessing import OneHotEncoder, StandardScaler\n",
    "from sklearn.pipeline import Pipeline\n",
    "from sklearn.linear_model import LinearRegression, Ridge\n",
    "from sklearn.linear_model import HuberRegressor\n",
    "from sklearn.metrics import mean_absolute_error, mean_squared_error, r2_score\n",
    "\n",
    "TARGET_EPY = \"Energy_potential_per_year\"\n",
    "\n",
    "# Load and keep only columns we might use\n",
    "cols = [\"Assumed_building_type\",\"Estimated_tilt\",\"Surface_area\",\n",
    "        \"Potential_installable_area\", TARGET_EPY]\n",
    "\n",
    "\n",
    "# ---------- A) EPY with weak size proxy (Surface_area only) ----------\n",
    "CAT_COLS = [\"Assumed_building_type\"]\n",
    "NUM_COLS_A = [c for c in [\"Estimated_tilt\",\"Surface_area\"] if c in train.columns]\n",
    "\n",
    "# Drop rows missing any of these features\n",
    "train_A = train.dropna(subset=CAT_COLS + NUM_COLS_A)\n",
    "test_A  = test.dropna(subset=CAT_COLS + NUM_COLS_A)\n",
    "\n",
    "pre_A = ColumnTransformer(\n",
    "    [(\"cat\", OneHotEncoder(handle_unknown=\"ignore\", sparse_output=False), CAT_COLS),\n",
    "     (\"num\", StandardScaler(), NUM_COLS_A)],\n",
    "    remainder=\"drop\",\n",
    ")\n",
    "\n",
    "models_A = {\n",
    "    \"Linear\": Pipeline([(\"pre\", pre_A), (\"m\", LinearRegression())]),\n",
    "    \"Ridge\":  Pipeline([(\"pre\", pre_A), (\"m\", Ridge(alpha=1.0, random_state=42))]),\n",
    "    \"Huber\":  Pipeline([(\"pre\", pre_A), (\"m\", HuberRegressor())]),\n",
    "}\n",
    "\n",
    "Xtr_A, ytr_A = train_A[CAT_COLS + NUM_COLS_A], train_A[TARGET_EPY].astype(float).values\n",
    "Xte_A, yte_A = test_A [CAT_COLS + NUM_COLS_A], test_A [TARGET_EPY].astype(float).values\n",
    "\n",
    "print(\"=== A) Target = EPY; Features = {type, tilt, Surface_area} ===\")\n",
    "for name, pipe in models_A.items():\n",
    "    pipe.fit(Xtr_A, ytr_A)\n",
    "    yhat = pipe.predict(Xte_A)\n",
    "    print(f\"{name:>6s}  | MAE={mean_absolute_error(yte_A,yhat):,.2f} \"\n",
    "          f\"| MSE={mean_squared_error(yte_A,yhat):,.2f} | R2={r2_score(yte_A,yhat):.4f}\")\n",
    "\n",
    "# ---------- B) Normalized target: kWh_per_m2 ----------\n",
    "if \"Potential_installable_area\" in train.columns:\n",
    "    eps = 1e-9\n",
    "    train_B = train.dropna(subset=[\"Potential_installable_area\"]).copy()\n",
    "    test_B  = test.dropna(subset=[\"Potential_installable_area\"]).copy()\n",
    "    train_B[\"kWh_per_m2\"] = train_B[TARGET_EPY] / (train_B[\"Potential_installable_area\"] + eps)\n",
    "    test_B[\"kWh_per_m2\"]  = test_B[TARGET_EPY]  / (test_B[\"Potential_installable_area\"]  + eps)\n",
    "\n",
    "    NUM_COLS_B = [c for c in [\"Estimated_tilt\"] if c in train_B.columns]  # no size features\n",
    "    train_B = train_B.dropna(subset=CAT_COLS + NUM_COLS_B + [\"kWh_per_m2\"])\n",
    "    test_B  = test_B.dropna(subset=CAT_COLS + NUM_COLS_B + [\"kWh_per_m2\"])\n",
    "\n",
    "    pre_B = ColumnTransformer(\n",
    "        [(\"cat\", OneHotEncoder(handle_unknown=\"ignore\", sparse_output=False), CAT_COLS),\n",
    "         (\"num\", StandardScaler(), NUM_COLS_B)],\n",
    "        remainder=\"drop\",\n",
    "    )\n",
    "\n",
    "    models_B = {\n",
    "        \"Linear\": Pipeline([(\"pre\", pre_B), (\"m\", LinearRegression())]),\n",
    "        \"Ridge\":  Pipeline([(\"pre\", pre_B), (\"m\", Ridge(alpha=1.0, random_state=42))]),\n",
    "        \"Huber\":  Pipeline([(\"pre\", pre_B), (\"m\", HuberRegressor())]),\n",
    "    }\n",
    "\n",
    "    Xtr_B, ytr_B = train_B[CAT_COLS + NUM_COLS_B], train_B[\"kWh_per_m2\"].astype(float).values\n",
    "    Xte_B, yte_B = test_B [CAT_COLS + NUM_COLS_B], test_B [\"kWh_per_m2\"].astype(float).values\n",
    "\n",
    "    print(\"\\n=== B) Target = kWh_per_m2; Features = {type, tilt} (no size) ===\")\n",
    "    for name, pipe in models_B.items():\n",
    "        pipe.fit(Xtr_B, ytr_B)\n",
    "        yhat = pipe.predict(Xte_B)\n",
    "        print(f\"{name:>6s}  | MAE={mean_absolute_error(yte_B,yhat):,.4f} \"\n",
    "              f\"| MSE={mean_squared_error(yte_B,yhat):,.4f} | R2={r2_score(yte_B,yhat):.4f}\")\n",
    "else:\n",
    "    print(\"\\n[Skipped B] Potential_installable_area not available, so kWh_per_m2 cannot be computed.\")\n"
   ]
  },
  {
   "cell_type": "code",
   "execution_count": 16,
   "id": "b1760ab7",
   "metadata": {},
   "outputs": [
    {
     "name": "stdout",
     "output_type": "stream",
     "text": [
      "=== Stratified: Target = kWh_per_m2; Features = City + type + tilt nonlinear ===\n",
      "Linear | MAE=28.0455 | MSE=3,163.3046 | R2=0.2319\n",
      " Ridge | MAE=27.8699 | MSE=3,172.9300 | R2=0.2296\n",
      "    RF | MAE=23.1751 | MSE=2,854.0478 | R2=0.3070\n"
     ]
    }
   ],
   "source": [
    "# === Stratified: kWh_per_m2 with City + non-linear tilt features (no weather API yet) ===\n",
    "import pandas as pd, numpy as np\n",
    "from pathlib import Path\n",
    "\n",
    "from sklearn.compose import ColumnTransformer\n",
    "from sklearn.preprocessing import OneHotEncoder, StandardScaler\n",
    "from sklearn.pipeline import Pipeline\n",
    "from sklearn.linear_model import LinearRegression, Ridge\n",
    "from sklearn.ensemble import RandomForestRegressor\n",
    "from sklearn.metrics import mean_absolute_error, mean_squared_error, r2_score\n",
    "\n",
    "TARGET_EPY = \"Energy_potential_per_year\"\n",
    "\n",
    "# Load\n",
    "use_cols = [\"City\",\"Assumed_building_type\",\"Estimated_tilt\",\"Potential_installable_area\", TARGET_EPY]\n",
    "\n",
    "# Normalized target\n",
    "eps = 1e-9\n",
    "train[\"kWh_per_m2\"] = train[TARGET_EPY] / (train[\"Potential_installable_area\"] + eps)\n",
    "test[\"kWh_per_m2\"]  = test[TARGET_EPY]  / (test[\"Potential_installable_area\"]  + eps)\n",
    "\n",
    "# Nonlinear tilt features (keep them as numeric columns)\n",
    "for df in (train, test):\n",
    "    t = np.deg2rad(df[\"Estimated_tilt\"])\n",
    "    df[\"tilt\"] = df[\"Estimated_tilt\"]\n",
    "    df[\"tilt2\"] = df[\"Estimated_tilt\"] ** 2\n",
    "    df[\"tilt_sin\"] = np.sin(t)\n",
    "    df[\"tilt_cos\"] = np.cos(t)\n",
    "\n",
    "CAT_COLS = [\"City\", \"Assumed_building_type\"]   # City allowed in stratified; NOT for LOCO\n",
    "NUM_COLS = [\"tilt\",\"tilt2\",\"tilt_sin\",\"tilt_cos\"]\n",
    "\n",
    "pre = ColumnTransformer(\n",
    "    transformers=[\n",
    "        (\"cat\", OneHotEncoder(handle_unknown=\"ignore\", sparse_output=False), CAT_COLS),\n",
    "        (\"num\", StandardScaler(), NUM_COLS),\n",
    "    ],\n",
    "    remainder=\"drop\",\n",
    ")\n",
    "\n",
    "models = {\n",
    "    \"Linear\": Pipeline([(\"pre\", pre), (\"m\", LinearRegression())]),\n",
    "    \"Ridge\":  Pipeline([(\"pre\", pre), (\"m\", Ridge(alpha=1.0, random_state=42))]),\n",
    "    \"RF\":     Pipeline([(\"pre\", pre), (\"m\", RandomForestRegressor(n_estimators=400, max_depth=None, n_jobs=-1, random_state=42))]),\n",
    "}\n",
    "\n",
    "Xtr, ytr = train[CAT_COLS + NUM_COLS], train[\"kWh_per_m2\"].astype(float).values\n",
    "Xte, yte = test [CAT_COLS + NUM_COLS], test [\"kWh_per_m2\"].astype(float).values\n",
    "\n",
    "print(\"=== Stratified: Target = kWh_per_m2; Features = City + type + tilt nonlinear ===\")\n",
    "for name, pipe in models.items():\n",
    "    pipe.fit(Xtr, ytr)\n",
    "    yhat = pipe.predict(Xte)\n",
    "    print(f\"{name:>6s} | MAE={mean_absolute_error(yte,yhat):,.4f} \"\n",
    "          f\"| MSE={mean_squared_error(yte,yhat):,.4f} | R2={r2_score(yte,yhat):.4f}\")\n"
   ]
  }
 ],
 "metadata": {
  "kernelspec": {
   "display_name": "Python 3",
   "language": "python",
   "name": "python3"
  },
  "language_info": {
   "codemirror_mode": {
    "name": "ipython",
    "version": 3
   },
   "file_extension": ".py",
   "mimetype": "text/x-python",
   "name": "python",
   "nbconvert_exporter": "python",
   "pygments_lexer": "ipython3",
   "version": "3.13.7"
  }
 },
 "nbformat": 4,
 "nbformat_minor": 5
}
