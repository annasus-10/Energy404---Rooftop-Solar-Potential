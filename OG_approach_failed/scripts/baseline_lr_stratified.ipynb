{
 "cells": [
  {
   "cell_type": "code",
   "execution_count": null,
   "id": "9e02a122",
   "metadata": {},
   "outputs": [],
   "source": [
    "import pandas as pd\n",
    "import numpy as np\n",
    "from pathlib import Path\n",
    "from sklearn.pipeline import Pipeline\n",
    "from sklearn.preprocessing import StandardScaler\n",
    "from sklearn.linear_model import LinearRegression\n",
    "from sklearn.metrics import mean_absolute_error, mean_squared_error, r2_score\n",
    "from joblib import dump"
   ]
  },
  {
   "cell_type": "code",
   "execution_count": 2,
   "id": "33bbf5b6",
   "metadata": {},
   "outputs": [],
   "source": [
    "TRAIN_CSV = Path(\"C:/Users/User/Desktop/ML/Project/solar-potential-analysis-github-setup/splits/combined_stratified_city_type/train_combined.csv\")\n",
    "TEST_CSV  = Path(\"C:/Users/User/Desktop/ML/Project/solar-potential-analysis-github-setup/splits/combined_stratified_city_type/test_combined.csv\")\n",
    "TARGET = \"Energy_potential_per_year\"\n",
    "OUT_DIR = Path(\"outputs_lr_stratified\")\n",
    "OUT_DIR.mkdir(parents=True, exist_ok=True)"
   ]
  },
  {
   "cell_type": "code",
   "execution_count": 3,
   "id": "5eefee26",
   "metadata": {},
   "outputs": [],
   "source": [
    "# ---- load ----\n",
    "train = pd.read_csv(TRAIN_CSV).dropna(subset=[TARGET]).copy()\n",
    "test  = pd.read_csv(TEST_CSV ).dropna(subset=[TARGET]).copy()"
   ]
  },
  {
   "cell_type": "code",
   "execution_count": 4,
   "id": "ac18edb6",
   "metadata": {},
   "outputs": [],
   "source": [
    "# OG features = numeric columns except target (drop obvious non-features if present)\n",
    "num_cols_tr = train.select_dtypes(include=[np.number]).columns.tolist()\n",
    "features = [c for c in num_cols_tr if c != TARGET and c.lower() not in {\"id\",\"idx\"}]"
   ]
  },
  {
   "cell_type": "code",
   "execution_count": 5,
   "id": "11a9d5f8",
   "metadata": {},
   "outputs": [],
   "source": [
    "# drop rows missing any feature\n",
    "train = train.dropna(subset=features)\n",
    "test  = test.dropna(subset=features)"
   ]
  },
  {
   "cell_type": "code",
   "execution_count": 6,
   "id": "7ed3d3a3",
   "metadata": {},
   "outputs": [
    {
     "name": "stdout",
     "output_type": "stream",
     "text": [
      "[Stratified] Detected 5 features:\n",
      " - Surface_area\n",
      " - Potential_installable_area\n",
      " - Peak_installable_capacity\n",
      " - Assumed_building_type\n",
      " - Estimated_tilt\n"
     ]
    }
   ],
   "source": [
    "print(f\"[Stratified] Detected {len(features)} features:\\n - \" + \"\\n - \".join(features))"
   ]
  },
  {
   "cell_type": "code",
   "execution_count": 7,
   "id": "90f57467",
   "metadata": {},
   "outputs": [],
   "source": [
    "X_tr, y_tr = train[features].to_numpy(), train[TARGET].astype(float).to_numpy()\n",
    "X_te, y_te = test[features].to_numpy(),  test[TARGET].astype(float).to_numpy()"
   ]
  },
  {
   "cell_type": "code",
   "execution_count": 8,
   "id": "add4fa79",
   "metadata": {},
   "outputs": [],
   "source": [
    "pipe = Pipeline([\n",
    "    (\"scaler\", StandardScaler()),\n",
    "    (\"lr\", LinearRegression())\n",
    "])"
   ]
  },
  {
   "cell_type": "code",
   "execution_count": 9,
   "id": "e62092d0",
   "metadata": {},
   "outputs": [],
   "source": [
    "pipe.fit(X_tr, y_tr)\n",
    "y_hat = pipe.predict(X_te)"
   ]
  },
  {
   "cell_type": "code",
   "execution_count": 11,
   "id": "15204ecf",
   "metadata": {},
   "outputs": [
    {
     "name": "stdout",
     "output_type": "stream",
     "text": [
      "\n",
      "=== Stratified fixed split (LR on OG features) ===\n",
      "MAE = 3046.449561\n",
      "MSE = 110259300.978159\n",
      "R2  = 0.978768\n"
     ]
    }
   ],
   "source": [
    "mae = mean_absolute_error(y_te, y_hat)\n",
    "mse = mean_squared_error(y_te, y_hat)\n",
    "r2  = r2_score(y_te, y_hat)\n",
    "\n",
    "print(\"\\n=== Stratified fixed split (LR on OG features) ===\")\n",
    "print(f\"MAE = {mae:.6f}\")\n",
    "print(f\"MSE = {mse:.6f}\")\n",
    "print(f\"R2  = {r2:.6f}\")"
   ]
  },
  {
   "cell_type": "code",
   "execution_count": null,
   "id": "c89f2b12",
   "metadata": {},
   "outputs": [],
   "source": [
    "# coef (scaled space) + artifacts\n",
    "coef_df = pd.DataFrame({\"feature\": features, \"coef\": pipe.named_steps[\"lr\"].coef_}) \\\n",
    "            .sort_values(\"coef\", key=np.abs, ascending=False)\n",
    "coef_df.to_csv(OUT_DIR / \"coefficients.csv\", index=False)\n",
    "\n",
    "dump(pipe, OUT_DIR / \"lr_stratified.joblib\")\n",
    "pd.DataFrame({\"MAE\":[mae], \"MSE\":[mse], \"R2\":[r2]}).to_csv(OUT_DIR / \"metrics.csv\", index=False)\n",
    "\n",
    "display(coef_df.head(20))\n",
    "print(f\"\\nArtifacts saved to: {OUT_DIR.resolve()}\")"
   ]
  }
 ],
 "metadata": {
  "kernelspec": {
   "display_name": "Python 3",
   "language": "python",
   "name": "python3"
  },
  "language_info": {
   "codemirror_mode": {
    "name": "ipython",
    "version": 3
   },
   "file_extension": ".py",
   "mimetype": "text/x-python",
   "name": "python",
   "nbconvert_exporter": "python",
   "pygments_lexer": "ipython3",
   "version": "3.13.7"
  }
 },
 "nbformat": 4,
 "nbformat_minor": 5
}
