{
 "cells": [
  {
   "cell_type": "code",
   "execution_count": 1,
   "id": "66adf8e0",
   "metadata": {},
   "outputs": [],
   "source": [
    "import numpy as np \n",
    "import pandas as pd\n",
    "import seaborn as sns\n",
    "import matplotlib.pyplot as plt"
   ]
  },
  {
   "cell_type": "code",
   "execution_count": 3,
   "id": "1d02305d",
   "metadata": {},
   "outputs": [],
   "source": [
    "df_grenada = pd.read_csv(\"datasets/grenada.csv\")"
   ]
  },
  {
   "cell_type": "code",
   "execution_count": null,
   "id": "8deae67e",
   "metadata": {},
   "outputs": [],
   "source": [
    "df_grenada.head()"
   ]
  },
  {
   "cell_type": "code",
   "execution_count": null,
   "id": "13940e08",
   "metadata": {},
   "outputs": [],
   "source": [
    "df_grenada.describe()"
   ]
  },
  {
   "cell_type": "code",
   "execution_count": null,
   "id": "9b4721ff",
   "metadata": {},
   "outputs": [],
   "source": [
    "df_grenada.columns"
   ]
  },
  {
   "cell_type": "code",
   "execution_count": null,
   "id": "c4b89d63",
   "metadata": {},
   "outputs": [],
   "source": [
    "df_grenada.info()"
   ]
  },
  {
   "cell_type": "code",
   "execution_count": null,
   "id": "f27c102f",
   "metadata": {},
   "outputs": [],
   "source": [
    "df_grenada=df_grenada.drop('Unit_installation_price', axis=\"columns\")"
   ]
  },
  {
   "cell_type": "code",
   "execution_count": null,
   "id": "a3d57b5d",
   "metadata": {},
   "outputs": [],
   "source": [
    "df_grenada=df_grenada.drop(\"Comment\", axis='columns')"
   ]
  },
  {
   "cell_type": "code",
   "execution_count": null,
   "id": "3df4418c",
   "metadata": {},
   "outputs": [],
   "source": [
    "df_grenada=df_grenada.drop(\"uuid\", axis='columns')"
   ]
  },
  {
   "cell_type": "code",
   "execution_count": null,
   "id": "9b4a8f58",
   "metadata": {},
   "outputs": [],
   "source": [
    "df_grenada.count()"
   ]
  },
  {
   "cell_type": "code",
   "execution_count": null,
   "id": "073978a9",
   "metadata": {},
   "outputs": [],
   "source": [
    "df_grenada.head()"
   ]
  },
  {
   "cell_type": "code",
   "execution_count": null,
   "id": "57ffbf86",
   "metadata": {},
   "outputs": [],
   "source": [
    "df_grenada.rename(columns = {'Surface_area':'surface_area', \n",
    "                     'Potential_installable_area':'installable_area', \n",
    "                     'Peak_installable_capacity':'capacity', \n",
    "                     'Energy_potential_per_year':'energy_year',\n",
    "                     'Assumed_building_type':'building', \n",
    "                     'Estimated_tilt':'tilt', \n",
    "                     'Estimated_building_height':'height', \n",
    "                     'Estimated_capacity_factor':'capacity_factor'}, inplace = True)"
   ]
  },
  {
   "cell_type": "code",
   "execution_count": null,
   "id": "5b271115",
   "metadata": {},
   "outputs": [],
   "source": [
    "df_grenada.columns"
   ]
  },
  {
   "cell_type": "code",
   "execution_count": null,
   "id": "5e440258",
   "metadata": {},
   "outputs": [],
   "source": [
    "df_grenada['height'].isna().sum()"
   ]
  },
  {
   "cell_type": "code",
   "execution_count": null,
   "id": "769b7a78",
   "metadata": {},
   "outputs": [],
   "source": [
    "df_grenada[df_grenada['height'].isna()]"
   ]
  },
  {
   "cell_type": "code",
   "execution_count": null,
   "id": "ea6f3d49",
   "metadata": {},
   "outputs": [],
   "source": [
    "df_grenada['height'].describe()"
   ]
  },
  {
   "cell_type": "code",
   "execution_count": null,
   "id": "74a51f18",
   "metadata": {},
   "outputs": [],
   "source": [
    "df_grenada[df_grenada['height'] < 0]"
   ]
  },
  {
   "cell_type": "code",
   "execution_count": null,
   "id": "7680c09c",
   "metadata": {},
   "outputs": [],
   "source": [
    "df_grenada.loc[df_grenada['height'] < 0, 'height'] = np.nan"
   ]
  },
  {
   "cell_type": "code",
   "execution_count": null,
   "id": "d3719cf9",
   "metadata": {},
   "outputs": [],
   "source": [
    "df_grenada.loc[df_grenada['height'] == 0, 'height']"
   ]
  },
  {
   "cell_type": "code",
   "execution_count": null,
   "id": "3595384d",
   "metadata": {},
   "outputs": [],
   "source": [
    "df_grenada.loc[df_grenada['height'] == 0, 'height'] = np.nan"
   ]
  },
  {
   "cell_type": "code",
   "execution_count": null,
   "id": "b0d85a42",
   "metadata": {},
   "outputs": [],
   "source": [
    "df_grenada['height'].describe()"
   ]
  },
  {
   "cell_type": "code",
   "execution_count": null,
   "id": "076a547e",
   "metadata": {},
   "outputs": [],
   "source": [
    "mean_height = df_grenada['height'].mean()\n",
    "median_height =df_grenada['height'].median()\n",
    "\n",
    "print(\"Mean height:\", mean_height)\n",
    "print(\"Median height:\", median_height)"
   ]
  },
  {
   "cell_type": "code",
   "execution_count": null,
   "id": "8a9b0069",
   "metadata": {},
   "outputs": [],
   "source": [
    "df_grenada['height']=df_grenada['height'].fillna(median_height) # max ouliter can affect mean, so I choose median"
   ]
  },
  {
   "cell_type": "code",
   "execution_count": null,
   "id": "e1a45386",
   "metadata": {},
   "outputs": [],
   "source": [
    "df_grenada['height'].isna().sum()"
   ]
  },
  {
   "cell_type": "code",
   "execution_count": null,
   "id": "b5f10f52",
   "metadata": {},
   "outputs": [],
   "source": [
    "df_grenada['capacity_factor'].isna().sum()"
   ]
  },
  {
   "cell_type": "code",
   "execution_count": null,
   "id": "ae07ea54",
   "metadata": {},
   "outputs": [],
   "source": [
    "df_grenada.count()"
   ]
  },
  {
   "cell_type": "code",
   "execution_count": null,
   "id": "51c8ba59",
   "metadata": {},
   "outputs": [],
   "source": [
    "df_grenada[df_grenada['capacity_factor'].isna()]"
   ]
  },
  {
   "cell_type": "code",
   "execution_count": null,
   "id": "eab447cf",
   "metadata": {},
   "outputs": [],
   "source": [
    "df_grenada['capacity_factor'].describe()"
   ]
  },
  {
   "cell_type": "code",
   "execution_count": null,
   "id": "ae763973",
   "metadata": {},
   "outputs": [],
   "source": [
    "df_grenada = df_grenada.dropna(subset=['capacity_factor'])"
   ]
  },
  {
   "cell_type": "code",
   "execution_count": null,
   "id": "b62652ed",
   "metadata": {},
   "outputs": [],
   "source": [
    "df_grenada['capacity_factor'].isna().sum()"
   ]
  },
  {
   "cell_type": "code",
   "execution_count": null,
   "id": "73214743",
   "metadata": {},
   "outputs": [],
   "source": [
    "df_grenada.count()"
   ]
  },
  {
   "cell_type": "code",
   "execution_count": null,
   "id": "8b826a4a",
   "metadata": {},
   "outputs": [],
   "source": [
    "df_grenada.head()"
   ]
  },
  {
   "cell_type": "code",
   "execution_count": null,
   "id": "55515d62",
   "metadata": {},
   "outputs": [],
   "source": [
    "sns.countplot(df_grenada, x = 'building')"
   ]
  },
  {
   "cell_type": "code",
   "execution_count": null,
   "id": "ab155aa1",
   "metadata": {},
   "outputs": [],
   "source": [
    "sns.boxplot(x = df_grenada[\"building\"], y = df_grenada[\"capacity\"])\n",
    "plt.ylabel(\"Peak Capacity\")\n",
    "plt.xlabel(\"Building Type\")"
   ]
  },
  {
   "cell_type": "code",
   "execution_count": null,
   "id": "19743489",
   "metadata": {},
   "outputs": [],
   "source": [
    "sns.scatterplot(x = df_grenada['installable_area'], y = df_grenada['capacity'], hue=df_grenada['building'])\n",
    "plt.ylabel(\"Peak Capacity\")\n",
    "plt.xlabel(\"Installable Area of Rooftop\")"
   ]
  },
  {
   "cell_type": "code",
   "execution_count": null,
   "id": "fc8f0e7b",
   "metadata": {},
   "outputs": [],
   "source": [
    "sns.scatterplot(x = df_grenada['tilt'], y = df_grenada['capacity'], hue=df_grenada['building'])\n",
    "plt.ylabel(\"Peak Capacity\")\n",
    "plt.xlabel(\"Tilt Angle\")"
   ]
  },
  {
   "cell_type": "code",
   "execution_count": null,
   "id": "71c20a75",
   "metadata": {},
   "outputs": [],
   "source": [
    "sns.scatterplot(x = df_grenada['building'], y = df_grenada['installable_area'], hue=df_grenada['tilt'])\n",
    "plt.ylabel(\"Installable Area\")\n",
    "plt.xlabel(\"Building Type\")"
   ]
  },
  {
   "cell_type": "code",
   "execution_count": null,
   "id": "cc5634ee",
   "metadata": {},
   "outputs": [],
   "source": [
    "sns.scatterplot(x = df_grenada['height'], y = df_grenada['capacity'], hue=df_grenada['building'])\n",
    "plt.ylabel(\"Peak Capacity\")\n",
    "plt.xlabel(\"Building Height\")"
   ]
  },
  {
   "cell_type": "code",
   "execution_count": null,
   "id": "05921951",
   "metadata": {},
   "outputs": [],
   "source": [
    "from sklearn.preprocessing import LabelEncoder\n",
    "\n",
    "le = LabelEncoder()\n",
    "df_grenada[\"building\"] = le.fit_transform(df_grenada[\"building\"])\n",
    "\n",
    "df_grenada[\"building\"].unique()"
   ]
  },
  {
   "cell_type": "code",
   "execution_count": null,
   "id": "6022850a",
   "metadata": {},
   "outputs": [],
   "source": [
    "plt.figure(figsize = (15,8))\n",
    "sns.heatmap(df_grenada.corr(), annot=True, cmap=\"coolwarm\")"
   ]
  }
 ],
 "metadata": {
  "kernelspec": {
   "display_name": ".venv",
   "language": "python",
   "name": "python3"
  },
  "language_info": {
   "codemirror_mode": {
    "name": "ipython",
    "version": 3
   },
   "file_extension": ".py",
   "mimetype": "text/x-python",
   "name": "python",
   "nbconvert_exporter": "python",
   "pygments_lexer": "ipython3",
   "version": "3.11.13"
  }
 },
 "nbformat": 4,
 "nbformat_minor": 5
}
